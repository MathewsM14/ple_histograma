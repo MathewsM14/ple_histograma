{
 "cells": [
  {
   "cell_type": "markdown",
   "metadata": {
    "id": "qi16-NQJQMNC"
   },
   "source": [
    "# Muestreo y distribuciones empíricas\n",
    "Una parte importante de la ciencia de los datos consiste en sacar conclusiones basadas en los datos de las muestras aleatorias. Para interpretar correctamente sus resultados, los científicos de datos tienen que entender primero qué son exactamente las muestras aleatorias.\n",
    "\n",
    "En este capítulo examinaremos con más detenimiento el muestreo, prestando especial atención a las propiedades de las muestras aleatorias grandes. \n",
    "\n",
    "Empecemos por dibujar algunas muestras. Nuestros ejemplos se basan en el conjunto de datos <code><a href=\"https://github.com/jphoyos/fup/blob/d0be740bc2f10991fc24008d4f5dac583c3aafd4/data/Peliculas_english.csv\">peliculas_english.csv</a></code>."
   ]
  },
  {
   "cell_type": "code",
   "execution_count": 1,
   "metadata": {},
   "outputs": [
    {
     "data": {
      "text/html": [
       "<div>\n",
       "<style scoped>\n",
       "    .dataframe tbody tr th:only-of-type {\n",
       "        vertical-align: middle;\n",
       "    }\n",
       "\n",
       "    .dataframe tbody tr th {\n",
       "        vertical-align: top;\n",
       "    }\n",
       "\n",
       "    .dataframe thead th {\n",
       "        text-align: right;\n",
       "    }\n",
       "</style>\n",
       "<table border=\"1\" class=\"dataframe\">\n",
       "  <thead>\n",
       "    <tr style=\"text-align: right;\">\n",
       "      <th></th>\n",
       "      <th>Titulo</th>\n",
       "      <th>Estudio</th>\n",
       "      <th>Bruto</th>\n",
       "      <th>Bruto (Ajustado)</th>\n",
       "      <th>Year</th>\n",
       "    </tr>\n",
       "  </thead>\n",
       "  <tbody>\n",
       "    <tr>\n",
       "      <th>0</th>\n",
       "      <td>Star Wars: The Force Awakens</td>\n",
       "      <td>Buena Vista (Disney)</td>\n",
       "      <td>906723418</td>\n",
       "      <td>906723400</td>\n",
       "      <td>2015</td>\n",
       "    </tr>\n",
       "    <tr>\n",
       "      <th>1</th>\n",
       "      <td>Avatar</td>\n",
       "      <td>Fox</td>\n",
       "      <td>760507625</td>\n",
       "      <td>846120800</td>\n",
       "      <td>2009</td>\n",
       "    </tr>\n",
       "    <tr>\n",
       "      <th>2</th>\n",
       "      <td>Titanic</td>\n",
       "      <td>Paramount</td>\n",
       "      <td>658672302</td>\n",
       "      <td>1178627900</td>\n",
       "      <td>1997</td>\n",
       "    </tr>\n",
       "    <tr>\n",
       "      <th>3</th>\n",
       "      <td>Jurassic World</td>\n",
       "      <td>Universal</td>\n",
       "      <td>652270625</td>\n",
       "      <td>687728000</td>\n",
       "      <td>2015</td>\n",
       "    </tr>\n",
       "    <tr>\n",
       "      <th>4</th>\n",
       "      <td>Marvel's The Avengers</td>\n",
       "      <td>Buena Vista (Disney)</td>\n",
       "      <td>623357910</td>\n",
       "      <td>668866600</td>\n",
       "      <td>2012</td>\n",
       "    </tr>\n",
       "    <tr>\n",
       "      <th>...</th>\n",
       "      <td>...</td>\n",
       "      <td>...</td>\n",
       "      <td>...</td>\n",
       "      <td>...</td>\n",
       "      <td>...</td>\n",
       "    </tr>\n",
       "    <tr>\n",
       "      <th>195</th>\n",
       "      <td>The Caine Mutiny</td>\n",
       "      <td>Columbia</td>\n",
       "      <td>21750000</td>\n",
       "      <td>386173500</td>\n",
       "      <td>1954</td>\n",
       "    </tr>\n",
       "    <tr>\n",
       "      <th>196</th>\n",
       "      <td>The Bells of St. Mary's</td>\n",
       "      <td>RKO</td>\n",
       "      <td>21333333</td>\n",
       "      <td>545882400</td>\n",
       "      <td>1945</td>\n",
       "    </tr>\n",
       "    <tr>\n",
       "      <th>197</th>\n",
       "      <td>Duel in the Sun</td>\n",
       "      <td>Selz.</td>\n",
       "      <td>20408163</td>\n",
       "      <td>443877500</td>\n",
       "      <td>1946</td>\n",
       "    </tr>\n",
       "    <tr>\n",
       "      <th>198</th>\n",
       "      <td>Sergeant York</td>\n",
       "      <td>Warner Bros.</td>\n",
       "      <td>16361885</td>\n",
       "      <td>418671800</td>\n",
       "      <td>1941</td>\n",
       "    </tr>\n",
       "    <tr>\n",
       "      <th>199</th>\n",
       "      <td>The Four Horsemen of the Apocalypse</td>\n",
       "      <td>MPC</td>\n",
       "      <td>9183673</td>\n",
       "      <td>399489800</td>\n",
       "      <td>1921</td>\n",
       "    </tr>\n",
       "  </tbody>\n",
       "</table>\n",
       "<p>200 rows × 5 columns</p>\n",
       "</div>"
      ],
      "text/plain": [
       "                                  Titulo               Estudio      Bruto  \\\n",
       "0           Star Wars: The Force Awakens  Buena Vista (Disney)  906723418   \n",
       "1                                 Avatar                   Fox  760507625   \n",
       "2                                Titanic             Paramount  658672302   \n",
       "3                         Jurassic World             Universal  652270625   \n",
       "4                  Marvel's The Avengers  Buena Vista (Disney)  623357910   \n",
       "..                                   ...                   ...        ...   \n",
       "195                     The Caine Mutiny              Columbia   21750000   \n",
       "196              The Bells of St. Mary's                   RKO   21333333   \n",
       "197                      Duel in the Sun                 Selz.   20408163   \n",
       "198                        Sergeant York          Warner Bros.   16361885   \n",
       "199  The Four Horsemen of the Apocalypse                   MPC    9183673   \n",
       "\n",
       "     Bruto (Ajustado)  Year  \n",
       "0           906723400  2015  \n",
       "1           846120800  2009  \n",
       "2          1178627900  1997  \n",
       "3           687728000  2015  \n",
       "4           668866600  2012  \n",
       "..                ...   ...  \n",
       "195         386173500  1954  \n",
       "196         545882400  1945  \n",
       "197         443877500  1946  \n",
       "198         418671800  1941  \n",
       "199         399489800  1921  \n",
       "\n",
       "[200 rows x 5 columns]"
      ]
     },
     "execution_count": 1,
     "metadata": {},
     "output_type": "execute_result"
    }
   ],
   "source": [
    "import pandas as pd\n",
    "import numpy as np\n",
    "\n",
    "data = \"https://raw.githubusercontent.com/jphoyos/fup/main/data/peliculas_english.csv\"\n",
    "peliculas = pd.read_csv(data)\n",
    "peliculas"
   ]
  },
  {
   "cell_type": "code",
   "execution_count": 2,
   "metadata": {},
   "outputs": [],
   "source": [
    "cols_formato = peliculas.columns[[2, 3]]\n",
    "peliculas[cols_formato] = peliculas[cols_formato].astype(float)\n",
    "pd.options.display.float_format = '{:,.0f}'.format  # sin decimales, con miles\n"
   ]
  },
  {
   "cell_type": "code",
   "execution_count": 3,
   "metadata": {
    "colab": {
     "base_uri": "https://localhost:8080/",
     "height": 476
    },
    "executionInfo": {
     "elapsed": 1945,
     "status": "ok",
     "timestamp": 1619223926896,
     "user": {
      "displayName": "JUAN PABLO HOYOS SANCHEZ",
      "photoUrl": "https://lh3.googleusercontent.com/a-/AOh14Ghdiujk7nkvT3aSSiI2AOJjZCRGNv17LAP8ncls=s64",
      "userId": "13519316655691611120"
     },
     "user_tz": 300
    },
    "id": "Jr_Ld5EhQJxU",
    "outputId": "de49f66a-6408-4cd8-c611-f235e345773f"
   },
   "outputs": [
    {
     "data": {
      "text/html": [
       "<div>\n",
       "<style scoped>\n",
       "    .dataframe tbody tr th:only-of-type {\n",
       "        vertical-align: middle;\n",
       "    }\n",
       "\n",
       "    .dataframe tbody tr th {\n",
       "        vertical-align: top;\n",
       "    }\n",
       "\n",
       "    .dataframe thead th {\n",
       "        text-align: right;\n",
       "    }\n",
       "</style>\n",
       "<table border=\"1\" class=\"dataframe\">\n",
       "  <thead>\n",
       "    <tr style=\"text-align: right;\">\n",
       "      <th></th>\n",
       "      <th>Titulo</th>\n",
       "      <th>Estudio</th>\n",
       "      <th>Bruto</th>\n",
       "      <th>Bruto (Ajustado)</th>\n",
       "      <th>Year</th>\n",
       "    </tr>\n",
       "  </thead>\n",
       "  <tbody>\n",
       "    <tr>\n",
       "      <th>0</th>\n",
       "      <td>Star Wars: The Force Awakens</td>\n",
       "      <td>Buena Vista (Disney)</td>\n",
       "      <td>906,723,418</td>\n",
       "      <td>906,723,400</td>\n",
       "      <td>2015</td>\n",
       "    </tr>\n",
       "    <tr>\n",
       "      <th>1</th>\n",
       "      <td>Avatar</td>\n",
       "      <td>Fox</td>\n",
       "      <td>760,507,625</td>\n",
       "      <td>846,120,800</td>\n",
       "      <td>2009</td>\n",
       "    </tr>\n",
       "    <tr>\n",
       "      <th>2</th>\n",
       "      <td>Titanic</td>\n",
       "      <td>Paramount</td>\n",
       "      <td>658,672,302</td>\n",
       "      <td>1,178,627,900</td>\n",
       "      <td>1997</td>\n",
       "    </tr>\n",
       "    <tr>\n",
       "      <th>3</th>\n",
       "      <td>Jurassic World</td>\n",
       "      <td>Universal</td>\n",
       "      <td>652,270,625</td>\n",
       "      <td>687,728,000</td>\n",
       "      <td>2015</td>\n",
       "    </tr>\n",
       "    <tr>\n",
       "      <th>4</th>\n",
       "      <td>Marvel's The Avengers</td>\n",
       "      <td>Buena Vista (Disney)</td>\n",
       "      <td>623,357,910</td>\n",
       "      <td>668,866,600</td>\n",
       "      <td>2012</td>\n",
       "    </tr>\n",
       "    <tr>\n",
       "      <th>...</th>\n",
       "      <td>...</td>\n",
       "      <td>...</td>\n",
       "      <td>...</td>\n",
       "      <td>...</td>\n",
       "      <td>...</td>\n",
       "    </tr>\n",
       "    <tr>\n",
       "      <th>195</th>\n",
       "      <td>The Caine Mutiny</td>\n",
       "      <td>Columbia</td>\n",
       "      <td>21,750,000</td>\n",
       "      <td>386,173,500</td>\n",
       "      <td>1954</td>\n",
       "    </tr>\n",
       "    <tr>\n",
       "      <th>196</th>\n",
       "      <td>The Bells of St. Mary's</td>\n",
       "      <td>RKO</td>\n",
       "      <td>21,333,333</td>\n",
       "      <td>545,882,400</td>\n",
       "      <td>1945</td>\n",
       "    </tr>\n",
       "    <tr>\n",
       "      <th>197</th>\n",
       "      <td>Duel in the Sun</td>\n",
       "      <td>Selz.</td>\n",
       "      <td>20,408,163</td>\n",
       "      <td>443,877,500</td>\n",
       "      <td>1946</td>\n",
       "    </tr>\n",
       "    <tr>\n",
       "      <th>198</th>\n",
       "      <td>Sergeant York</td>\n",
       "      <td>Warner Bros.</td>\n",
       "      <td>16,361,885</td>\n",
       "      <td>418,671,800</td>\n",
       "      <td>1941</td>\n",
       "    </tr>\n",
       "    <tr>\n",
       "      <th>199</th>\n",
       "      <td>The Four Horsemen of the Apocalypse</td>\n",
       "      <td>MPC</td>\n",
       "      <td>9,183,673</td>\n",
       "      <td>399,489,800</td>\n",
       "      <td>1921</td>\n",
       "    </tr>\n",
       "  </tbody>\n",
       "</table>\n",
       "<p>200 rows × 5 columns</p>\n",
       "</div>"
      ],
      "text/plain": [
       "                                  Titulo               Estudio       Bruto  \\\n",
       "0           Star Wars: The Force Awakens  Buena Vista (Disney) 906,723,418   \n",
       "1                                 Avatar                   Fox 760,507,625   \n",
       "2                                Titanic             Paramount 658,672,302   \n",
       "3                         Jurassic World             Universal 652,270,625   \n",
       "4                  Marvel's The Avengers  Buena Vista (Disney) 623,357,910   \n",
       "..                                   ...                   ...         ...   \n",
       "195                     The Caine Mutiny              Columbia  21,750,000   \n",
       "196              The Bells of St. Mary's                   RKO  21,333,333   \n",
       "197                      Duel in the Sun                 Selz.  20,408,163   \n",
       "198                        Sergeant York          Warner Bros.  16,361,885   \n",
       "199  The Four Horsemen of the Apocalypse                   MPC   9,183,673   \n",
       "\n",
       "     Bruto (Ajustado)  Year  \n",
       "0         906,723,400  2015  \n",
       "1         846,120,800  2009  \n",
       "2       1,178,627,900  1997  \n",
       "3         687,728,000  2015  \n",
       "4         668,866,600  2012  \n",
       "..                ...   ...  \n",
       "195       386,173,500  1954  \n",
       "196       545,882,400  1945  \n",
       "197       443,877,500  1946  \n",
       "198       418,671,800  1941  \n",
       "199       399,489,800  1921  \n",
       "\n",
       "[200 rows x 5 columns]"
      ]
     },
     "execution_count": 3,
     "metadata": {},
     "output_type": "execute_result"
    }
   ],
   "source": [
    "peliculas"
   ]
  },
  {
   "cell_type": "markdown",
   "metadata": {
    "id": "pHsUqorDVigm"
   },
   "source": [
    "<h2>Muestreo de filas de una tabla</h2>\n",
    "\n",
    "Cada fila de una tabla de datos representa un individuo; en `peliculas`, cada individuo es una película. El muestreo de individuos se puede conseguir, por tanto, muestreando las filas de una tabla.\n",
    "\n",
    "El contenido de una fila son los valores de diferentes variables medidos en el mismo individuo. Así, el contenido de las filas muestreadas forma muestras de valores de cada una de las variables.\n"
   ]
  },
  {
   "cell_type": "markdown",
   "metadata": {
    "id": "7Sr-0HztVr-m"
   },
   "source": [
    "<h2>Muestras deterministas</h2>\n",
    "\n",
    "Cuando simplemente se especifica qué elementos de un conjunto se quieren elegir, sin que haya ningún azar de por medio, se crea una *muestra determinista*.\n",
    "\n",
    "Esto se ha hecho muchas veces, por ejemplo, utilizando `iloc`:"
   ]
  },
  {
   "cell_type": "code",
   "execution_count": 4,
   "metadata": {
    "colab": {
     "base_uri": "https://localhost:8080/",
     "height": 142
    },
    "executionInfo": {
     "elapsed": 706,
     "status": "ok",
     "timestamp": 1619223939146,
     "user": {
      "displayName": "JUAN PABLO HOYOS SANCHEZ",
      "photoUrl": "https://lh3.googleusercontent.com/a-/AOh14Ghdiujk7nkvT3aSSiI2AOJjZCRGNv17LAP8ncls=s64",
      "userId": "13519316655691611120"
     },
     "user_tz": 300
    },
    "id": "3f0af_Y8TT5D",
    "outputId": "e8d4c9f6-2a7f-48b6-da13-d49eb0418512"
   },
   "outputs": [
    {
     "data": {
      "text/html": [
       "<div>\n",
       "<style scoped>\n",
       "    .dataframe tbody tr th:only-of-type {\n",
       "        vertical-align: middle;\n",
       "    }\n",
       "\n",
       "    .dataframe tbody tr th {\n",
       "        vertical-align: top;\n",
       "    }\n",
       "\n",
       "    .dataframe thead th {\n",
       "        text-align: right;\n",
       "    }\n",
       "</style>\n",
       "<table border=\"1\" class=\"dataframe\">\n",
       "  <thead>\n",
       "    <tr style=\"text-align: right;\">\n",
       "      <th></th>\n",
       "      <th>Titulo</th>\n",
       "      <th>Estudio</th>\n",
       "      <th>Bruto</th>\n",
       "      <th>Bruto (Ajustado)</th>\n",
       "      <th>Year</th>\n",
       "    </tr>\n",
       "  </thead>\n",
       "  <tbody>\n",
       "    <tr>\n",
       "      <th>3</th>\n",
       "      <td>Jurassic World</td>\n",
       "      <td>Universal</td>\n",
       "      <td>652,270,625</td>\n",
       "      <td>687,728,000</td>\n",
       "      <td>2015</td>\n",
       "    </tr>\n",
       "    <tr>\n",
       "      <th>18</th>\n",
       "      <td>Spider-Man</td>\n",
       "      <td>Sony</td>\n",
       "      <td>403,706,375</td>\n",
       "      <td>604,517,300</td>\n",
       "      <td>2002</td>\n",
       "    </tr>\n",
       "    <tr>\n",
       "      <th>100</th>\n",
       "      <td>Gone with the Wind</td>\n",
       "      <td>MGM</td>\n",
       "      <td>198,676,459</td>\n",
       "      <td>1,757,788,200</td>\n",
       "      <td>1939</td>\n",
       "    </tr>\n",
       "  </tbody>\n",
       "</table>\n",
       "</div>"
      ],
      "text/plain": [
       "                 Titulo    Estudio       Bruto  Bruto (Ajustado)  Year\n",
       "3        Jurassic World  Universal 652,270,625       687,728,000  2015\n",
       "18           Spider-Man       Sony 403,706,375       604,517,300  2002\n",
       "100  Gone with the Wind        MGM 198,676,459     1,757,788,200  1939"
      ]
     },
     "execution_count": 4,
     "metadata": {},
     "output_type": "execute_result"
    }
   ],
   "source": [
    "peliculas.iloc[[3, 18, 100]]"
   ]
  },
  {
   "cell_type": "markdown",
   "metadata": {
    "id": "kgYi02epV9EM"
   },
   "source": [
    "Tambien podrías haberse usado `where`:"
   ]
  },
  {
   "cell_type": "code",
   "execution_count": 5,
   "metadata": {},
   "outputs": [
    {
     "data": {
      "text/html": [
       "<div>\n",
       "<style scoped>\n",
       "    .dataframe tbody tr th:only-of-type {\n",
       "        vertical-align: middle;\n",
       "    }\n",
       "\n",
       "    .dataframe tbody tr th {\n",
       "        vertical-align: top;\n",
       "    }\n",
       "\n",
       "    .dataframe thead th {\n",
       "        text-align: right;\n",
       "    }\n",
       "</style>\n",
       "<table border=\"1\" class=\"dataframe\">\n",
       "  <thead>\n",
       "    <tr style=\"text-align: right;\">\n",
       "      <th></th>\n",
       "      <th>Titulo</th>\n",
       "      <th>Estudio</th>\n",
       "      <th>Bruto</th>\n",
       "      <th>Bruto (Ajustado)</th>\n",
       "      <th>Year</th>\n",
       "    </tr>\n",
       "  </thead>\n",
       "  <tbody>\n",
       "    <tr>\n",
       "      <th>22</th>\n",
       "      <td>Harry Potter and the Deathly Hallows Part 2</td>\n",
       "      <td>Warner Bros.</td>\n",
       "      <td>381,011,219</td>\n",
       "      <td>417,512,200</td>\n",
       "      <td>2011</td>\n",
       "    </tr>\n",
       "    <tr>\n",
       "      <th>43</th>\n",
       "      <td>Harry Potter and the Sorcerer's Stone</td>\n",
       "      <td>Warner Bros.</td>\n",
       "      <td>317,575,550</td>\n",
       "      <td>486,442,900</td>\n",
       "      <td>2001</td>\n",
       "    </tr>\n",
       "    <tr>\n",
       "      <th>54</th>\n",
       "      <td>Harry Potter and the Half-Blood Prince</td>\n",
       "      <td>Warner Bros.</td>\n",
       "      <td>301,959,197</td>\n",
       "      <td>352,098,800</td>\n",
       "      <td>2009</td>\n",
       "    </tr>\n",
       "    <tr>\n",
       "      <th>59</th>\n",
       "      <td>Harry Potter and the Order of the Phoenix</td>\n",
       "      <td>Warner Bros.</td>\n",
       "      <td>292,004,738</td>\n",
       "      <td>369,250,200</td>\n",
       "      <td>2007</td>\n",
       "    </tr>\n",
       "    <tr>\n",
       "      <th>62</th>\n",
       "      <td>Harry Potter and the Goblet of Fire</td>\n",
       "      <td>Warner Bros.</td>\n",
       "      <td>290,013,036</td>\n",
       "      <td>393,024,800</td>\n",
       "      <td>2005</td>\n",
       "    </tr>\n",
       "    <tr>\n",
       "      <th>69</th>\n",
       "      <td>Harry Potter and the Chamber of Secrets</td>\n",
       "      <td>Warner Bros.</td>\n",
       "      <td>261,988,482</td>\n",
       "      <td>390,768,100</td>\n",
       "      <td>2002</td>\n",
       "    </tr>\n",
       "    <tr>\n",
       "      <th>76</th>\n",
       "      <td>Harry Potter and the Prisoner of Azkaban</td>\n",
       "      <td>Warner Bros.</td>\n",
       "      <td>249,541,069</td>\n",
       "      <td>349,598,600</td>\n",
       "      <td>2004</td>\n",
       "    </tr>\n",
       "  </tbody>\n",
       "</table>\n",
       "</div>"
      ],
      "text/plain": [
       "                                         Titulo       Estudio       Bruto  \\\n",
       "22  Harry Potter and the Deathly Hallows Part 2  Warner Bros. 381,011,219   \n",
       "43        Harry Potter and the Sorcerer's Stone  Warner Bros. 317,575,550   \n",
       "54       Harry Potter and the Half-Blood Prince  Warner Bros. 301,959,197   \n",
       "59    Harry Potter and the Order of the Phoenix  Warner Bros. 292,004,738   \n",
       "62          Harry Potter and the Goblet of Fire  Warner Bros. 290,013,036   \n",
       "69      Harry Potter and the Chamber of Secrets  Warner Bros. 261,988,482   \n",
       "76     Harry Potter and the Prisoner of Azkaban  Warner Bros. 249,541,069   \n",
       "\n",
       "    Bruto (Ajustado)  Year  \n",
       "22       417,512,200  2011  \n",
       "43       486,442,900  2001  \n",
       "54       352,098,800  2009  \n",
       "59       369,250,200  2007  \n",
       "62       393,024,800  2005  \n",
       "69       390,768,100  2002  \n",
       "76       349,598,600  2004  "
      ]
     },
     "execution_count": 5,
     "metadata": {},
     "output_type": "execute_result"
    }
   ],
   "source": [
    "peliculas[peliculas['Titulo'].str.contains('Harry Potter', case=False, na=False)]\n"
   ]
  },
  {
   "cell_type": "markdown",
   "metadata": {
    "id": "Z5gduu1HWHhB"
   },
   "source": [
    "Aunque son muestras, no son muestras aleatorias. No tienen que ver con el azar.\n"
   ]
  },
  {
   "cell_type": "markdown",
   "metadata": {
    "id": "3ZdMhb_PWNnQ"
   },
   "source": [
    "<h2>Muestras de probabilidad</h2>\n",
    "\n",
    "Para describir las muestras aleatorias, será útil cierta terminología.\n",
    "\n",
    "Una *población* es el conjunto de todos los elementos de los que se extrae una muestra.\n",
    "\n",
    "Una *muestra probabilística* es aquella para la que es posible calcular, antes de extraer la muestra, la probabilidad con la que cualquier subconjunto de elementos entrará en la muestra.\n",
    "\n",
    "En una muestra probabilística, no es necesario que todos los elementos tengan la misma probabilidad de ser elegidos. \n",
    "\n",
    "<h2>Un esquema de muestreo aleatorio</h2>\n",
    "\n",
    "Por ejemplo, supongamos que se eligen dos personas de una población que consta de tres personas A, B y C, según el siguiente esquema:\n",
    "\n",
    "- La persona A se elige con probabilidad 1.\n",
    "- Una de las personas B o C se elige según el lanzamiento de una moneda: si la moneda sale cara, se elige B, y si sale cruz se elige C.\n",
    "\n",
    "Se trata de una muestra de probabilidad de tamaño 2. Estas son las probabilidades de entrada para todos los subconjuntos no vacíos:\n",
    "\n",
    "    A: 1 \n",
    "    B: 1/2\n",
    "    C: 1/2\n",
    "    AB: 1/2\n",
    "    AC: 1/2\n",
    "    BC: 0\n",
    "    ABC 0\n",
    "\n",
    "La persona A tiene una mayor probabilidad de ser seleccionada que las personas B o C; de hecho, la persona A está segura de ser seleccionada. Dado que estas diferencias son conocidas y cuantificadas, pueden tenerse en cuenta al trabajar con la muestra. \n"
   ]
  },
  {
   "cell_type": "markdown",
   "metadata": {
    "id": "I-85kyPpWrP4"
   },
   "source": [
    "<h2>Una muestra sistemática</h2>\n",
    "\n",
    "Imagina que todos los elementos de la población se enumeran en una secuencia. Un método de muestreo comienza eligiendo una posición al azar al principio de la lista, y luego posiciones uniformemente espaciadas después. La muestra se compone de los elementos en esas posiciones. Este tipo de muestra se denomina *muestra sistemática*. \n",
    "\n",
    "Aquí elegiremos una muestra sistemática de las filas de `top`. Empezaremos escogiendo una de las 10 primeras filas al azar, y luego escogeremos cada 10 filas después."
   ]
  },
  {
   "cell_type": "code",
   "execution_count": 17,
   "metadata": {},
   "outputs": [
    {
     "data": {
      "text/html": [
       "<div>\n",
       "<style scoped>\n",
       "    .dataframe tbody tr th:only-of-type {\n",
       "        vertical-align: middle;\n",
       "    }\n",
       "\n",
       "    .dataframe tbody tr th {\n",
       "        vertical-align: top;\n",
       "    }\n",
       "\n",
       "    .dataframe thead th {\n",
       "        text-align: right;\n",
       "    }\n",
       "</style>\n",
       "<table border=\"1\" class=\"dataframe\">\n",
       "  <thead>\n",
       "    <tr style=\"text-align: right;\">\n",
       "      <th></th>\n",
       "      <th>Titulo</th>\n",
       "      <th>Estudio</th>\n",
       "      <th>Bruto</th>\n",
       "      <th>Bruto (Ajustado)</th>\n",
       "      <th>Year</th>\n",
       "    </tr>\n",
       "  </thead>\n",
       "  <tbody>\n",
       "    <tr>\n",
       "      <th>7</th>\n",
       "      <td>Star Wars</td>\n",
       "      <td>Fox</td>\n",
       "      <td>460,998,007</td>\n",
       "      <td>1,549,640,500</td>\n",
       "      <td>1977</td>\n",
       "    </tr>\n",
       "    <tr>\n",
       "      <th>17</th>\n",
       "      <td>The Hunger Games</td>\n",
       "      <td>Lionsgate</td>\n",
       "      <td>408,010,692</td>\n",
       "      <td>442,510,400</td>\n",
       "      <td>2012</td>\n",
       "    </tr>\n",
       "    <tr>\n",
       "      <th>27</th>\n",
       "      <td>The Passion of the Christ</td>\n",
       "      <td>NM</td>\n",
       "      <td>370,782,930</td>\n",
       "      <td>519,432,100</td>\n",
       "      <td>2004</td>\n",
       "    </tr>\n",
       "    <tr>\n",
       "      <th>37</th>\n",
       "      <td>Alice in Wonderland (2010)</td>\n",
       "      <td>Buena Vista (Disney)</td>\n",
       "      <td>334,191,110</td>\n",
       "      <td>365,718,600</td>\n",
       "      <td>2010</td>\n",
       "    </tr>\n",
       "    <tr>\n",
       "      <th>47</th>\n",
       "      <td>Star Wars: Episode II - Attack of the Clones</td>\n",
       "      <td>Fox</td>\n",
       "      <td>310,676,740</td>\n",
       "      <td>465,175,700</td>\n",
       "      <td>2002</td>\n",
       "    </tr>\n",
       "    <tr>\n",
       "      <th>57</th>\n",
       "      <td>The Sixth Sense</td>\n",
       "      <td>Buena Vista (Disney)</td>\n",
       "      <td>293,506,292</td>\n",
       "      <td>500,938,400</td>\n",
       "      <td>1999</td>\n",
       "    </tr>\n",
       "    <tr>\n",
       "      <th>67</th>\n",
       "      <td>The Hangover</td>\n",
       "      <td>Warner Bros.</td>\n",
       "      <td>277,322,503</td>\n",
       "      <td>323,343,300</td>\n",
       "      <td>2009</td>\n",
       "    </tr>\n",
       "    <tr>\n",
       "      <th>77</th>\n",
       "      <td>Raiders of the Lost Ark</td>\n",
       "      <td>Paramount</td>\n",
       "      <td>248,159,971</td>\n",
       "      <td>770,183,000</td>\n",
       "      <td>1981</td>\n",
       "    </tr>\n",
       "    <tr>\n",
       "      <th>87</th>\n",
       "      <td>The Lost World: Jurassic Park</td>\n",
       "      <td>Universal</td>\n",
       "      <td>229,086,679</td>\n",
       "      <td>434,216,600</td>\n",
       "      <td>1997</td>\n",
       "    </tr>\n",
       "    <tr>\n",
       "      <th>97</th>\n",
       "      <td>Austin Powers: The Spy Who Shagged Me</td>\n",
       "      <td>New Line</td>\n",
       "      <td>206,040,086</td>\n",
       "      <td>352,863,900</td>\n",
       "      <td>1999</td>\n",
       "    </tr>\n",
       "    <tr>\n",
       "      <th>107</th>\n",
       "      <td>The Fugitive</td>\n",
       "      <td>Warner Bros.</td>\n",
       "      <td>183,875,760</td>\n",
       "      <td>386,256,600</td>\n",
       "      <td>1993</td>\n",
       "    </tr>\n",
       "    <tr>\n",
       "      <th>117</th>\n",
       "      <td>Home Alone 2: Lost in New York</td>\n",
       "      <td>Fox</td>\n",
       "      <td>173,585,516</td>\n",
       "      <td>364,091,400</td>\n",
       "      <td>1992</td>\n",
       "    </tr>\n",
       "    <tr>\n",
       "      <th>127</th>\n",
       "      <td>The Sting</td>\n",
       "      <td>Universal</td>\n",
       "      <td>156,000,000</td>\n",
       "      <td>775,542,900</td>\n",
       "      <td>1973</td>\n",
       "    </tr>\n",
       "    <tr>\n",
       "      <th>137</th>\n",
       "      <td>Close Encounters of the Third Kind</td>\n",
       "      <td>Columbia</td>\n",
       "      <td>132,088,635</td>\n",
       "      <td>483,507,200</td>\n",
       "      <td>1977</td>\n",
       "    </tr>\n",
       "    <tr>\n",
       "      <th>147</th>\n",
       "      <td>Doctor Zhivago</td>\n",
       "      <td>MGM</td>\n",
       "      <td>111,721,910</td>\n",
       "      <td>1,079,978,500</td>\n",
       "      <td>1965</td>\n",
       "    </tr>\n",
       "    <tr>\n",
       "      <th>157</th>\n",
       "      <td>Bambi</td>\n",
       "      <td>RKO</td>\n",
       "      <td>102,247,150</td>\n",
       "      <td>554,298,300</td>\n",
       "      <td>1942</td>\n",
       "    </tr>\n",
       "    <tr>\n",
       "      <th>167</th>\n",
       "      <td>M.A.S.H.</td>\n",
       "      <td>Fox</td>\n",
       "      <td>81,600,000</td>\n",
       "      <td>467,052,600</td>\n",
       "      <td>1970</td>\n",
       "    </tr>\n",
       "    <tr>\n",
       "      <th>177</th>\n",
       "      <td>Cleopatra (1963)</td>\n",
       "      <td>Fox</td>\n",
       "      <td>57,777,778</td>\n",
       "      <td>584,496,100</td>\n",
       "      <td>1963</td>\n",
       "    </tr>\n",
       "    <tr>\n",
       "      <th>187</th>\n",
       "      <td>Swiss Family Robinson</td>\n",
       "      <td>Disney</td>\n",
       "      <td>40,356,000</td>\n",
       "      <td>468,129,600</td>\n",
       "      <td>1960</td>\n",
       "    </tr>\n",
       "    <tr>\n",
       "      <th>197</th>\n",
       "      <td>Duel in the Sun</td>\n",
       "      <td>Selz.</td>\n",
       "      <td>20,408,163</td>\n",
       "      <td>443,877,500</td>\n",
       "      <td>1946</td>\n",
       "    </tr>\n",
       "  </tbody>\n",
       "</table>\n",
       "</div>"
      ],
      "text/plain": [
       "                                           Titulo               Estudio  \\\n",
       "7                                       Star Wars                   Fox   \n",
       "17                               The Hunger Games             Lionsgate   \n",
       "27                      The Passion of the Christ                    NM   \n",
       "37                     Alice in Wonderland (2010)  Buena Vista (Disney)   \n",
       "47   Star Wars: Episode II - Attack of the Clones                   Fox   \n",
       "57                                The Sixth Sense  Buena Vista (Disney)   \n",
       "67                                   The Hangover          Warner Bros.   \n",
       "77                        Raiders of the Lost Ark             Paramount   \n",
       "87                  The Lost World: Jurassic Park             Universal   \n",
       "97          Austin Powers: The Spy Who Shagged Me              New Line   \n",
       "107                                  The Fugitive          Warner Bros.   \n",
       "117                Home Alone 2: Lost in New York                   Fox   \n",
       "127                                     The Sting             Universal   \n",
       "137            Close Encounters of the Third Kind              Columbia   \n",
       "147                                Doctor Zhivago                   MGM   \n",
       "157                                         Bambi                   RKO   \n",
       "167                                      M.A.S.H.                   Fox   \n",
       "177                              Cleopatra (1963)                   Fox   \n",
       "187                         Swiss Family Robinson                Disney   \n",
       "197                               Duel in the Sun                 Selz.   \n",
       "\n",
       "          Bruto  Bruto (Ajustado)  Year  \n",
       "7   460,998,007     1,549,640,500  1977  \n",
       "17  408,010,692       442,510,400  2012  \n",
       "27  370,782,930       519,432,100  2004  \n",
       "37  334,191,110       365,718,600  2010  \n",
       "47  310,676,740       465,175,700  2002  \n",
       "57  293,506,292       500,938,400  1999  \n",
       "67  277,322,503       323,343,300  2009  \n",
       "77  248,159,971       770,183,000  1981  \n",
       "87  229,086,679       434,216,600  1997  \n",
       "97  206,040,086       352,863,900  1999  \n",
       "107 183,875,760       386,256,600  1993  \n",
       "117 173,585,516       364,091,400  1992  \n",
       "127 156,000,000       775,542,900  1973  \n",
       "137 132,088,635       483,507,200  1977  \n",
       "147 111,721,910     1,079,978,500  1965  \n",
       "157 102,247,150       554,298,300  1942  \n",
       "167  81,600,000       467,052,600  1970  \n",
       "177  57,777,778       584,496,100  1963  \n",
       "187  40,356,000       468,129,600  1960  \n",
       "197  20,408,163       443,877,500  1946  "
      ]
     },
     "execution_count": 17,
     "metadata": {},
     "output_type": "execute_result"
    }
   ],
   "source": [
    "\"\"\"Elige un inicio aleatorio entre las filas 0 a 9;\n",
    "luego tomar cada 10 filas\"\"\"\n",
    "\n",
    "inicio = np.random.choice(np.arange(10))\n",
    "peliculas.iloc[np.arange(inicio, len(peliculas),10)]"
   ]
  },
  {
   "cell_type": "markdown",
   "metadata": {
    "id": "ByLrIn_5XUof"
   },
   "source": [
    "Ejecute la célula unas cuantas veces para ver cómo cambia el resultado. \n",
    "\n",
    "Esta muestra sistemática es una **muestra probabilística**. En este esquema, todas las filas tienen una probabilidad de $1/10$ de ser elegidas. Por ejemplo, la fila 23 se elige si y sólo si se elige la fila 3, y la probabilidad es de $1/10$. \n",
    "\n",
    "Pero no todos los subconjuntos tienen la misma probabilidad de ser elegidos. Como las filas seleccionadas están espaciadas uniformemente, la mayoría de los subconjuntos de filas no tienen ninguna posibilidad de ser elegidos. Los únicos subconjuntos que son posibles son los que consisten en filas separadas por múltiplos de 10. Cualquiera de estos subconjuntos se selecciona con una probabilidad de 1/10.  Otros subconjuntos, como el que contiene las 11 primeras filas de la tabla, se seleccionan con probabilidad 0"
   ]
  },
  {
   "cell_type": "markdown",
   "metadata": {
    "id": "l40BBCz8Xlth"
   },
   "source": [
    "<h2>Muestras aleatorias extraídas con o sin reemplazo</h2>\n",
    " \n",
    "En este curso, nos ocuparemos principalmente de los dos métodos más sencillos de muestreo. \n",
    "\n",
    "El primero es el muestreo aleatorio con reemplazo, que (como hemos visto antes) es el comportamiento por defecto de `np.random.choice` cuando muestrea de un array. \n",
    "\n",
    "El otro, llamado \"muestreo aleatorio simple\", es una muestra extraída al azar *sin* reemplazo. Los individuos muestreados no son reemplazados en la población antes de que se extraiga el siguiente individuo. Es el tipo de muestreo que se realiza, por ejemplo, cuando se reparte una mano de una baraja. \n"
   ]
  },
  {
   "cell_type": "markdown",
   "metadata": {
    "id": "AkF6960pX3nG"
   },
   "source": [
    "La extracción de una muestra aleatoria requiere cuidado y precisión. No es azarosa, aunque ese sea un significado coloquial de la palabra \"aleatoria\". Si te pones en una esquina y tomas como muestra a las diez primeras personas que pasan por allí, podrías pensar que estás tomando una muestra al azar porque no has elegido a quien pasaba por allí. Pero no es una muestra aleatoria, es una *muestra de conveniencia*. No sabías de antemano la probabilidad de que cada persona entrara en la muestra; quizás ni siquiera habías especificado exactamente quiénes formaban parte de la población."
   ]
  },
  {
   "cell_type": "markdown",
   "metadata": {
    "id": "OzEZMCdZY1KQ"
   },
   "source": [
    "# Distribuciones empíricas\n",
    "\n",
    "En la ciencia de los datos, la palabra \"empírica\" significa \"observada\". Las distribuciones empíricas son distribuciones de datos observados, como los datos de las muestras aleatorias.\n",
    "\n",
    "En esta sección generaremos datos y veremos cómo es la distribución empírica. \n",
    "\n",
    "Nuestro escenario es un experimento sencillo: lanzar un dado varias veces y llevar la cuenta de qué cara aparece. La tabla `dado` contiene los números de puntos de las caras de un dado. Todos los números aparecen exactamente una vez, ya que estamos asumiendo que el dado es justo."
   ]
  },
  {
   "cell_type": "code",
   "execution_count": 18,
   "metadata": {},
   "outputs": [
    {
     "data": {
      "text/html": [
       "<div>\n",
       "<style scoped>\n",
       "    .dataframe tbody tr th:only-of-type {\n",
       "        vertical-align: middle;\n",
       "    }\n",
       "\n",
       "    .dataframe tbody tr th {\n",
       "        vertical-align: top;\n",
       "    }\n",
       "\n",
       "    .dataframe thead th {\n",
       "        text-align: right;\n",
       "    }\n",
       "</style>\n",
       "<table border=\"1\" class=\"dataframe\">\n",
       "  <thead>\n",
       "    <tr style=\"text-align: right;\">\n",
       "      <th></th>\n",
       "      <th>Cara</th>\n",
       "    </tr>\n",
       "  </thead>\n",
       "  <tbody>\n",
       "    <tr>\n",
       "      <th>0</th>\n",
       "      <td>1</td>\n",
       "    </tr>\n",
       "    <tr>\n",
       "      <th>1</th>\n",
       "      <td>2</td>\n",
       "    </tr>\n",
       "    <tr>\n",
       "      <th>2</th>\n",
       "      <td>3</td>\n",
       "    </tr>\n",
       "    <tr>\n",
       "      <th>3</th>\n",
       "      <td>4</td>\n",
       "    </tr>\n",
       "    <tr>\n",
       "      <th>4</th>\n",
       "      <td>5</td>\n",
       "    </tr>\n",
       "    <tr>\n",
       "      <th>5</th>\n",
       "      <td>6</td>\n",
       "    </tr>\n",
       "  </tbody>\n",
       "</table>\n",
       "</div>"
      ],
      "text/plain": [
       "   Cara\n",
       "0     1\n",
       "1     2\n",
       "2     3\n",
       "3     4\n",
       "4     5\n",
       "5     6"
      ]
     },
     "execution_count": 18,
     "metadata": {},
     "output_type": "execute_result"
    }
   ],
   "source": [
    "dado = pd.DataFrame({'Cara': np.arange(1, 7, 1)})\n",
    "dado"
   ]
  },
  {
   "cell_type": "markdown",
   "metadata": {
    "id": "pHqHuCzyZJBA"
   },
   "source": [
    "## Una distribución de probabilidad\n",
    "\n",
    "El histograma de abajo nos ayuda a visualizar el hecho de que cada cara aparece con una probabilidad de 1/6. Decimos que el histograma muestra la *distribución* de probabilidades sobre todas las caras posibles. Dado que todas las barras representan el mismo porcentaje de probabilidad, la distribución se llama *uniforme en los enteros del 1 al 6.*"
   ]
  },
  {
   "cell_type": "code",
   "execution_count": 29,
   "metadata": {},
   "outputs": [
    {
     "data": {
      "text/plain": [
       "Text(0, 0.5, 'Porcentaje por unidad')"
      ]
     },
     "execution_count": 29,
     "metadata": {},
     "output_type": "execute_result"
    },
    {
     "data": {
      "image/png": "[encoded data removed]",
      "text/plain": [
       "<Figure size 400x300 with 1 Axes>"
      ]
     },
     "metadata": {},
     "output_type": "display_data"
    }
   ],
   "source": [
    "import matplotlib.pyplot as plt\n",
    "import pandas as pd\n",
    "import numpy as np\n",
    "%matplotlib inline\n",
    "\n",
    "dado = pd.DataFrame({'Cara': np.arange(1, 7, 1)})\n",
    "dado_bins = np.arange(0.5, 6.6, 1)\n",
    "\n",
    "plt.figure(figsize=(4, 3))\n",
    "plt.hist(x=dado['Cara'], bins=dado_bins, rwidth=1, density=True, edgecolor='black')\n",
    "plt.xlabel('Caras')\n",
    "plt.ylabel('Porcentaje por unidad')"
   ]
  },
  {
   "cell_type": "markdown",
   "metadata": {
    "id": "cyVB-tDLaDLs"
   },
   "source": [
    "Las variables cuyos valores sucesivos están separados por la misma cantidad fija, como los valores de los lanzamientos de un dado (valores sucesivos separados por 1), entran en una clase de variables que se llaman *discretas*. El histograma anterior se llama histograma *discreto*. Sus intervalos están especificados por la matriz `dado_bins` y aseguran que cada barra está centrada en el valor entero correspondiente. \n",
    "\n",
    "Es importante recordar que el dado no puede mostrar 1.3 puntos, o 5.2 puntos - siempre muestra un número entero de puntos. Pero nuestra visualización reparte la probabilidad de cada valor sobre el área de una barra. \n",
    "\n",
    "La probabilidad de cada cara es 1/6, que es el 16,67% cuando se redondea a dos decimales. La anchura de cada barra es de 1 unidad. Por tanto, la altura de cada barra es del 16,67% por unidad. Esto concuerda con las escalas horizontal y vertical del gráfico."
   ]
  },
  {
   "cell_type": "markdown",
   "metadata": {
    "id": "wnwY1oO2aePG"
   },
   "source": [
    "## Distribuciones empíricas\n",
    "La distribución anterior consiste en la probabilidad teórica de cada cara. No se basa en **datos**. Se puede estudiar y entender sin necesidad de tirar ningún dado.\n",
    "\n",
    "Las *distribuciones empíricas*, en cambio, son distribuciones de datos observados. Pueden visualizarse mediante **histogramas empíricos**. \n",
    "\n",
    "Obtengamos algunos datos simulando los lanzamientos de un dado. Esto puede hacerse mediante un muestreo aleatorio con reemplazo de los enteros del 1 al 6. Ya hemos utilizado antes `np.random.choice` para estas simulaciones. Pero ahora introduciremos un método de Tabla para hacerlo. Esto nos permitirá utilizar nuestros conocidos métodos de Tabla para la visualización.\n",
    "\n",
    "El método de la tabla se llama `sample`. Extrae al azar con reemplazo de las filas de una tabla. Su argumento es el tamaño de la muestra y devuelve una tabla con las filas seleccionadas. Un argumento opcional `with_replacement=False` especifica que la muestra debe ser extraída sin reemplazo, pero eso no se aplica al lanzamiento de un dado.\n",
    "\n",
    "Aquí están los resultados de 10 tiradas de un dado."
   ]
  },
  {
   "cell_type": "code",
   "execution_count": 23,
   "metadata": {},
   "outputs": [
    {
     "data": {
      "text/html": [
       "<div>\n",
       "<style scoped>\n",
       "    .dataframe tbody tr th:only-of-type {\n",
       "        vertical-align: middle;\n",
       "    }\n",
       "\n",
       "    .dataframe tbody tr th {\n",
       "        vertical-align: top;\n",
       "    }\n",
       "\n",
       "    .dataframe thead th {\n",
       "        text-align: right;\n",
       "    }\n",
       "</style>\n",
       "<table border=\"1\" class=\"dataframe\">\n",
       "  <thead>\n",
       "    <tr style=\"text-align: right;\">\n",
       "      <th></th>\n",
       "      <th>Cara</th>\n",
       "    </tr>\n",
       "  </thead>\n",
       "  <tbody>\n",
       "    <tr>\n",
       "      <th>2</th>\n",
       "      <td>3</td>\n",
       "    </tr>\n",
       "    <tr>\n",
       "      <th>5</th>\n",
       "      <td>6</td>\n",
       "    </tr>\n",
       "    <tr>\n",
       "      <th>4</th>\n",
       "      <td>5</td>\n",
       "    </tr>\n",
       "    <tr>\n",
       "      <th>1</th>\n",
       "      <td>2</td>\n",
       "    </tr>\n",
       "    <tr>\n",
       "      <th>1</th>\n",
       "      <td>2</td>\n",
       "    </tr>\n",
       "    <tr>\n",
       "      <th>3</th>\n",
       "      <td>4</td>\n",
       "    </tr>\n",
       "    <tr>\n",
       "      <th>0</th>\n",
       "      <td>1</td>\n",
       "    </tr>\n",
       "    <tr>\n",
       "      <th>4</th>\n",
       "      <td>5</td>\n",
       "    </tr>\n",
       "    <tr>\n",
       "      <th>4</th>\n",
       "      <td>5</td>\n",
       "    </tr>\n",
       "    <tr>\n",
       "      <th>2</th>\n",
       "      <td>3</td>\n",
       "    </tr>\n",
       "  </tbody>\n",
       "</table>\n",
       "</div>"
      ],
      "text/plain": [
       "   Cara\n",
       "2     3\n",
       "5     6\n",
       "4     5\n",
       "1     2\n",
       "1     2\n",
       "3     4\n",
       "0     1\n",
       "4     5\n",
       "4     5\n",
       "2     3"
      ]
     },
     "execution_count": 23,
     "metadata": {},
     "output_type": "execute_result"
    }
   ],
   "source": [
    "dado.sample(10, replace=True)"
   ]
  },
  {
   "cell_type": "code",
   "execution_count": 26,
   "metadata": {
    "colab": {
     "base_uri": "https://localhost:8080/",
     "height": 359
    },
    "executionInfo": {
     "elapsed": 412,
     "status": "ok",
     "timestamp": 1619226356837,
     "user": {
      "displayName": "JUAN PABLO HOYOS SANCHEZ",
      "photoUrl": "https://lh3.googleusercontent.com/a-/AOh14Ghdiujk7nkvT3aSSiI2AOJjZCRGNv17LAP8ncls=s64",
      "userId": "13519316655691611120"
     },
     "user_tz": 300
    },
    "id": "5gvWqk29Zc81",
    "outputId": "7ac493e3-3015-49a3-a06b-183809a2c844"
   },
   "outputs": [
    {
     "data": {
      "text/html": [
       "<div>\n",
       "<style scoped>\n",
       "    .dataframe tbody tr th:only-of-type {\n",
       "        vertical-align: middle;\n",
       "    }\n",
       "\n",
       "    .dataframe tbody tr th {\n",
       "        vertical-align: top;\n",
       "    }\n",
       "\n",
       "    .dataframe thead th {\n",
       "        text-align: right;\n",
       "    }\n",
       "</style>\n",
       "<table border=\"1\" class=\"dataframe\">\n",
       "  <thead>\n",
       "    <tr style=\"text-align: right;\">\n",
       "      <th></th>\n",
       "      <th>Cara</th>\n",
       "    </tr>\n",
       "  </thead>\n",
       "  <tbody>\n",
       "    <tr>\n",
       "      <th>4</th>\n",
       "      <td>5</td>\n",
       "    </tr>\n",
       "    <tr>\n",
       "      <th>2</th>\n",
       "      <td>3</td>\n",
       "    </tr>\n",
       "    <tr>\n",
       "      <th>0</th>\n",
       "      <td>1</td>\n",
       "    </tr>\n",
       "    <tr>\n",
       "      <th>1</th>\n",
       "      <td>2</td>\n",
       "    </tr>\n",
       "    <tr>\n",
       "      <th>5</th>\n",
       "      <td>6</td>\n",
       "    </tr>\n",
       "    <tr>\n",
       "      <th>3</th>\n",
       "      <td>4</td>\n",
       "    </tr>\n",
       "  </tbody>\n",
       "</table>\n",
       "</div>"
      ],
      "text/plain": [
       "   Cara\n",
       "4     5\n",
       "2     3\n",
       "0     1\n",
       "1     2\n",
       "5     6\n",
       "3     4"
      ]
     },
     "execution_count": 26,
     "metadata": {},
     "output_type": "execute_result"
    }
   ],
   "source": [
    "dado.sample(6, replace=False)"
   ]
  },
  {
   "cell_type": "markdown",
   "metadata": {},
   "source": [
    "**Ejercicio:** Sin reemplazo puedo usar un n mayor que len(dado)?"
   ]
  },
  {
   "cell_type": "code",
   "execution_count": null,
   "metadata": {},
   "outputs": [],
   "source": []
  },
  {
   "cell_type": "markdown",
   "metadata": {
    "id": "Vkm7TAU8azu4"
   },
   "source": [
    "Podemos utilizar el mismo método para simular tantos lanzamiento como queramos, y luego dibujar histogramas empíricos de los resultados. Como vamos a hacer esto repetidamente, definimos una función `hist_empirico_dado` que toma como argumento el tamaño de la muestra, lanza un dado tantas veces como su argumento, y luego dibuja un histograma de los resultados observados."
   ]
  },
  {
   "cell_type": "code",
   "execution_count": 38,
   "metadata": {
    "executionInfo": {
     "elapsed": 461,
     "status": "ok",
     "timestamp": 1619226664357,
     "user": {
      "displayName": "JUAN PABLO HOYOS SANCHEZ",
      "photoUrl": "https://lh3.googleusercontent.com/a-/AOh14Ghdiujk7nkvT3aSSiI2AOJjZCRGNv17LAP8ncls=s64",
      "userId": "13519316655691611120"
     },
     "user_tz": 300
    },
    "id": "lHS_dqPvav09"
   },
   "outputs": [],
   "source": [
    "def hist_empirico_dado(n):\n",
    "    \n",
    "    plt.figure(figsize=(4,3))\n",
    "    plt.hist(x=dado.sample(n, replace=True)['Cara'], \n",
    "             bins=np.arange(0.5, 7, 1), \n",
    "             rwidth=1, \n",
    "             density=True,\n",
    "             edgecolor='black')\n",
    "    plt.xlabel('Caras')\n",
    "    plt.ylabel('Porcentaje por unidad')\n",
    "    plt.show()"
   ]
  },
  {
   "cell_type": "markdown",
   "metadata": {
    "id": "eyXY5Z6HbRK_"
   },
   "source": [
    "## Histogramas empíricos\n",
    "\n",
    "Aquí hay un histograma empírico de 10 lanzamientos (tiradas). No se parece mucho al histograma de probabilidad anterior. Ejecuta la celda unas cuantas veces para ver cómo varía."
   ]
  },
  {
   "cell_type": "code",
   "execution_count": 39,
   "metadata": {
    "colab": {
     "base_uri": "https://localhost:8080/",
     "height": 279
    },
    "executionInfo": {
     "elapsed": 596,
     "status": "ok",
     "timestamp": 1619226708004,
     "user": {
      "displayName": "JUAN PABLO HOYOS SANCHEZ",
      "photoUrl": "https://lh3.googleusercontent.com/a-/AOh14Ghdiujk7nkvT3aSSiI2AOJjZCRGNv17LAP8ncls=s64",
      "userId": "13519316655691611120"
     },
     "user_tz": 300
    },
    "id": "NhtMuATQbRzl",
    "outputId": "fda00232-8a98-49ce-8ec7-00d8c9dad519"
   },
   "outputs": [
    {
     "data": {
      "image/png": "[encoded data removed]",
      "text/plain": [
       "<Figure size 400x300 with 1 Axes>"
      ]
     },
     "metadata": {},
     "output_type": "display_data"
    }
   ],
   "source": [
    "hist_empirico_dado(10)"
   ]
  },
  {
   "cell_type": "markdown",
   "metadata": {
    "id": "tJa_xZszbk-7"
   },
   "source": [
    "Cuando el tamaño de la muestra aumenta, el histograma empírico empieza a parecerse más al histograma de probabilidades teóricas."
   ]
  },
  {
   "cell_type": "code",
   "execution_count": 40,
   "metadata": {},
   "outputs": [
    {
     "data": {
      "image/png": "[encoded data removed]",
      "text/plain": [
       "<Figure size 400x300 with 1 Axes>"
      ]
     },
     "metadata": {},
     "output_type": "display_data"
    }
   ],
   "source": [
    "hist_empirico_dado(100)"
   ]
  },
  {
   "cell_type": "code",
   "execution_count": 41,
   "metadata": {},
   "outputs": [
    {
     "data": {
      "image/png": "[encoded data removed]",
      "text/plain": [
       "<Figure size 400x300 with 1 Axes>"
      ]
     },
     "metadata": {},
     "output_type": "display_data"
    }
   ],
   "source": [
    "hist_empirico_dado(10000)"
   ]
  },
  {
   "cell_type": "markdown",
   "metadata": {
    "id": "F41FbPkDbuUw"
   },
   "source": [
    "A medida que aumentamos el número de lanzamientos en la simulación, el área de cada barra se acerca al 16,67%, que es el área de cada barra en el histograma de probabilidad.\n",
    "\n",
    "## La ley de las medias (promedios)\n",
    "\n",
    "Lo que hemos observado arriba es un ejemplo de una regla general.\n",
    "\n",
    "Si un experimento de azar se repite de forma independiente y en condiciones idénticas, a la larga, la proporción de veces que se produce un suceso se acerca cada vez más a la probabilidad teórica del mismo.\n",
    "\n",
    "Por ejemplo, a largo plazo, la proporción de veces que aparece la cara con cuatro manchas se acerca cada vez más a 1/6.\n",
    "\n",
    "Aquí, \"de forma independiente y en condiciones idénticas\" significa que cada repetición se realiza de la misma manera, independientemente de los resultados de todas las demás repeticiones."
   ]
  },
  {
   "cell_type": "markdown",
   "metadata": {
    "id": "A8ZXTAOrFNMX"
   },
   "source": [
    "La ley de los promedios también se cumple cuando la muestra aleatoria se extrae de los individuos de una población grande"
   ]
  },
  {
   "cell_type": "code",
   "execution_count": 1,
   "metadata": {},
   "outputs": [
    {
     "data": {
      "text/html": [
       "<div>\n",
       "<style scoped>\n",
       "    .dataframe tbody tr th:only-of-type {\n",
       "        vertical-align: middle;\n",
       "    }\n",
       "\n",
       "    .dataframe tbody tr th {\n",
       "        vertical-align: top;\n",
       "    }\n",
       "\n",
       "    .dataframe thead th {\n",
       "        text-align: right;\n",
       "    }\n",
       "</style>\n",
       "<table border=\"1\" class=\"dataframe\">\n",
       "  <thead>\n",
       "    <tr style=\"text-align: right;\">\n",
       "      <th></th>\n",
       "      <th>Unnamed: 0</th>\n",
       "      <th>Fecha</th>\n",
       "      <th>Sigla Empresa</th>\n",
       "      <th>Nombre Empresa</th>\n",
       "      <th>Trafico</th>\n",
       "      <th>Origen</th>\n",
       "      <th>Destino</th>\n",
       "      <th>Pasajeros</th>\n",
       "      <th>TipoVuelo</th>\n",
       "      <th>CargaKg</th>\n",
       "      <th>CorreoKg</th>\n",
       "      <th>Ciudad Origen</th>\n",
       "      <th>Ciudad Destino</th>\n",
       "      <th>Pais Origen</th>\n",
       "      <th>Pais Destino</th>\n",
       "      <th>Apto_Origen</th>\n",
       "      <th>Apto_Destino</th>\n",
       "    </tr>\n",
       "  </thead>\n",
       "  <tbody>\n",
       "    <tr>\n",
       "      <th>0</th>\n",
       "      <td>36</td>\n",
       "      <td>2018-01-01</td>\n",
       "      <td>AAL</td>\n",
       "      <td>AMERICAN</td>\n",
       "      <td>I</td>\n",
       "      <td>BOG</td>\n",
       "      <td>ABQ</td>\n",
       "      <td>28.0</td>\n",
       "      <td>R</td>\n",
       "      <td>0.0</td>\n",
       "      <td>0.0</td>\n",
       "      <td>BOGOTA</td>\n",
       "      <td>NUEVO MEXICO</td>\n",
       "      <td>COLOMBIA</td>\n",
       "      <td>ESTADOS UNIDOS</td>\n",
       "      <td>BOGOTA - ELDORADO</td>\n",
       "      <td>ALBUQUERQUE INTL SUNPORT</td>\n",
       "    </tr>\n",
       "    <tr>\n",
       "      <th>1</th>\n",
       "      <td>37</td>\n",
       "      <td>2018-01-01</td>\n",
       "      <td>AAL</td>\n",
       "      <td>AMERICAN</td>\n",
       "      <td>I</td>\n",
       "      <td>BOG</td>\n",
       "      <td>AMS</td>\n",
       "      <td>22.0</td>\n",
       "      <td>R</td>\n",
       "      <td>0.0</td>\n",
       "      <td>0.0</td>\n",
       "      <td>BOGOTA</td>\n",
       "      <td>AMSTERDAM</td>\n",
       "      <td>COLOMBIA</td>\n",
       "      <td>HOLANDA</td>\n",
       "      <td>BOGOTA - ELDORADO</td>\n",
       "      <td>SCHIPHOL</td>\n",
       "    </tr>\n",
       "    <tr>\n",
       "      <th>2</th>\n",
       "      <td>38</td>\n",
       "      <td>2018-01-01</td>\n",
       "      <td>AAL</td>\n",
       "      <td>AMERICAN</td>\n",
       "      <td>I</td>\n",
       "      <td>BOG</td>\n",
       "      <td>ATL</td>\n",
       "      <td>83.0</td>\n",
       "      <td>R</td>\n",
       "      <td>0.0</td>\n",
       "      <td>0.0</td>\n",
       "      <td>BOGOTA</td>\n",
       "      <td>ATLANTA</td>\n",
       "      <td>COLOMBIA</td>\n",
       "      <td>ESTADOS UNIDOS</td>\n",
       "      <td>BOGOTA - ELDORADO</td>\n",
       "      <td>HARTSFIELD JACKSON ATLANTA INTL</td>\n",
       "    </tr>\n",
       "    <tr>\n",
       "      <th>3</th>\n",
       "      <td>39</td>\n",
       "      <td>2018-01-01</td>\n",
       "      <td>AAL</td>\n",
       "      <td>AMERICAN</td>\n",
       "      <td>I</td>\n",
       "      <td>BOG</td>\n",
       "      <td>AUS</td>\n",
       "      <td>28.0</td>\n",
       "      <td>R</td>\n",
       "      <td>0.0</td>\n",
       "      <td>0.0</td>\n",
       "      <td>BOGOTA</td>\n",
       "      <td>TEXAS</td>\n",
       "      <td>COLOMBIA</td>\n",
       "      <td>ESTADOS UNIDOS</td>\n",
       "      <td>BOGOTA - ELDORADO</td>\n",
       "      <td>AUSTIN/ROBERT/MUELLER MUNICIPA</td>\n",
       "    </tr>\n",
       "    <tr>\n",
       "      <th>4</th>\n",
       "      <td>40</td>\n",
       "      <td>2018-01-01</td>\n",
       "      <td>AAL</td>\n",
       "      <td>AMERICAN</td>\n",
       "      <td>I</td>\n",
       "      <td>BOG</td>\n",
       "      <td>BCN</td>\n",
       "      <td>27.0</td>\n",
       "      <td>R</td>\n",
       "      <td>0.0</td>\n",
       "      <td>0.0</td>\n",
       "      <td>BOGOTA</td>\n",
       "      <td>BARCELONA</td>\n",
       "      <td>COLOMBIA</td>\n",
       "      <td>ESPANA</td>\n",
       "      <td>BOGOTA - ELDORADO</td>\n",
       "      <td>BARCELONA</td>\n",
       "    </tr>\n",
       "    <tr>\n",
       "      <th>...</th>\n",
       "      <td>...</td>\n",
       "      <td>...</td>\n",
       "      <td>...</td>\n",
       "      <td>...</td>\n",
       "      <td>...</td>\n",
       "      <td>...</td>\n",
       "      <td>...</td>\n",
       "      <td>...</td>\n",
       "      <td>...</td>\n",
       "      <td>...</td>\n",
       "      <td>...</td>\n",
       "      <td>...</td>\n",
       "      <td>...</td>\n",
       "      <td>...</td>\n",
       "      <td>...</td>\n",
       "      <td>...</td>\n",
       "      <td>...</td>\n",
       "    </tr>\n",
       "    <tr>\n",
       "      <th>17384</th>\n",
       "      <td>99570</td>\n",
       "      <td>2018-09-01</td>\n",
       "      <td>3GH</td>\n",
       "      <td>CHARTER DEL CARIBE S.A.</td>\n",
       "      <td>N</td>\n",
       "      <td>BOG</td>\n",
       "      <td>BAQ</td>\n",
       "      <td>3.0</td>\n",
       "      <td>T</td>\n",
       "      <td>0.0</td>\n",
       "      <td>0.0</td>\n",
       "      <td>BOGOTA</td>\n",
       "      <td>BARRANQUILLA</td>\n",
       "      <td>COLOMBIA</td>\n",
       "      <td>COLOMBIA</td>\n",
       "      <td>BOGOTA - ELDORADO</td>\n",
       "      <td>BARRANQUILLA-E. CORTISSOZ</td>\n",
       "    </tr>\n",
       "    <tr>\n",
       "      <th>17385</th>\n",
       "      <td>99590</td>\n",
       "      <td>2018-10-01</td>\n",
       "      <td>3GH</td>\n",
       "      <td>CHARTER DEL CARIBE S.A.</td>\n",
       "      <td>N</td>\n",
       "      <td>BOG</td>\n",
       "      <td>BAQ</td>\n",
       "      <td>3.0</td>\n",
       "      <td>T</td>\n",
       "      <td>0.0</td>\n",
       "      <td>0.0</td>\n",
       "      <td>BOGOTA</td>\n",
       "      <td>BARRANQUILLA</td>\n",
       "      <td>COLOMBIA</td>\n",
       "      <td>COLOMBIA</td>\n",
       "      <td>BOGOTA - ELDORADO</td>\n",
       "      <td>BARRANQUILLA-E. CORTISSOZ</td>\n",
       "    </tr>\n",
       "    <tr>\n",
       "      <th>17386</th>\n",
       "      <td>99599</td>\n",
       "      <td>2018-11-01</td>\n",
       "      <td>3GH</td>\n",
       "      <td>CHARTER DEL CARIBE S.A.</td>\n",
       "      <td>N</td>\n",
       "      <td>BOG</td>\n",
       "      <td>BAQ</td>\n",
       "      <td>4.0</td>\n",
       "      <td>T</td>\n",
       "      <td>0.0</td>\n",
       "      <td>0.0</td>\n",
       "      <td>BOGOTA</td>\n",
       "      <td>BARRANQUILLA</td>\n",
       "      <td>COLOMBIA</td>\n",
       "      <td>COLOMBIA</td>\n",
       "      <td>BOGOTA - ELDORADO</td>\n",
       "      <td>BARRANQUILLA-E. CORTISSOZ</td>\n",
       "    </tr>\n",
       "    <tr>\n",
       "      <th>17387</th>\n",
       "      <td>99600</td>\n",
       "      <td>2018-11-01</td>\n",
       "      <td>3GH</td>\n",
       "      <td>CHARTER DEL CARIBE S.A.</td>\n",
       "      <td>N</td>\n",
       "      <td>BOG</td>\n",
       "      <td>MTR</td>\n",
       "      <td>0.0</td>\n",
       "      <td>T</td>\n",
       "      <td>0.0</td>\n",
       "      <td>0.0</td>\n",
       "      <td>BOGOTA</td>\n",
       "      <td>MONTERIA</td>\n",
       "      <td>COLOMBIA</td>\n",
       "      <td>COLOMBIA</td>\n",
       "      <td>BOGOTA - ELDORADO</td>\n",
       "      <td>MONTERIA - LOS GARZONES</td>\n",
       "    </tr>\n",
       "    <tr>\n",
       "      <th>17388</th>\n",
       "      <td>99612</td>\n",
       "      <td>2018-12-01</td>\n",
       "      <td>3GH</td>\n",
       "      <td>CHARTER DEL CARIBE S.A.</td>\n",
       "      <td>N</td>\n",
       "      <td>BOG</td>\n",
       "      <td>BAQ</td>\n",
       "      <td>10.0</td>\n",
       "      <td>T</td>\n",
       "      <td>0.0</td>\n",
       "      <td>0.0</td>\n",
       "      <td>BOGOTA</td>\n",
       "      <td>BARRANQUILLA</td>\n",
       "      <td>COLOMBIA</td>\n",
       "      <td>COLOMBIA</td>\n",
       "      <td>BOGOTA - ELDORADO</td>\n",
       "      <td>BARRANQUILLA-E. CORTISSOZ</td>\n",
       "    </tr>\n",
       "  </tbody>\n",
       "</table>\n",
       "<p>17389 rows × 17 columns</p>\n",
       "</div>"
      ],
      "text/plain": [
       "       Unnamed: 0       Fecha Sigla Empresa           Nombre Empresa Trafico  \\\n",
       "0              36  2018-01-01           AAL                 AMERICAN       I   \n",
       "1              37  2018-01-01           AAL                 AMERICAN       I   \n",
       "2              38  2018-01-01           AAL                 AMERICAN       I   \n",
       "3              39  2018-01-01           AAL                 AMERICAN       I   \n",
       "4              40  2018-01-01           AAL                 AMERICAN       I   \n",
       "...           ...         ...           ...                      ...     ...   \n",
       "17384       99570  2018-09-01           3GH  CHARTER DEL CARIBE S.A.       N   \n",
       "17385       99590  2018-10-01           3GH  CHARTER DEL CARIBE S.A.       N   \n",
       "17386       99599  2018-11-01           3GH  CHARTER DEL CARIBE S.A.       N   \n",
       "17387       99600  2018-11-01           3GH  CHARTER DEL CARIBE S.A.       N   \n",
       "17388       99612  2018-12-01           3GH  CHARTER DEL CARIBE S.A.       N   \n",
       "\n",
       "      Origen Destino  Pasajeros TipoVuelo  CargaKg  CorreoKg Ciudad Origen  \\\n",
       "0        BOG     ABQ       28.0         R      0.0       0.0        BOGOTA   \n",
       "1        BOG     AMS       22.0         R      0.0       0.0        BOGOTA   \n",
       "2        BOG     ATL       83.0         R      0.0       0.0        BOGOTA   \n",
       "3        BOG     AUS       28.0         R      0.0       0.0        BOGOTA   \n",
       "4        BOG     BCN       27.0         R      0.0       0.0        BOGOTA   \n",
       "...      ...     ...        ...       ...      ...       ...           ...   \n",
       "17384    BOG     BAQ        3.0         T      0.0       0.0        BOGOTA   \n",
       "17385    BOG     BAQ        3.0         T      0.0       0.0        BOGOTA   \n",
       "17386    BOG     BAQ        4.0         T      0.0       0.0        BOGOTA   \n",
       "17387    BOG     MTR        0.0         T      0.0       0.0        BOGOTA   \n",
       "17388    BOG     BAQ       10.0         T      0.0       0.0        BOGOTA   \n",
       "\n",
       "      Ciudad Destino Pais Origen    Pais Destino        Apto_Origen  \\\n",
       "0       NUEVO MEXICO    COLOMBIA  ESTADOS UNIDOS  BOGOTA - ELDORADO   \n",
       "1          AMSTERDAM    COLOMBIA         HOLANDA  BOGOTA - ELDORADO   \n",
       "2            ATLANTA    COLOMBIA  ESTADOS UNIDOS  BOGOTA - ELDORADO   \n",
       "3              TEXAS    COLOMBIA  ESTADOS UNIDOS  BOGOTA - ELDORADO   \n",
       "4          BARCELONA    COLOMBIA          ESPANA  BOGOTA - ELDORADO   \n",
       "...              ...         ...             ...                ...   \n",
       "17384   BARRANQUILLA    COLOMBIA        COLOMBIA  BOGOTA - ELDORADO   \n",
       "17385   BARRANQUILLA    COLOMBIA        COLOMBIA  BOGOTA - ELDORADO   \n",
       "17386   BARRANQUILLA    COLOMBIA        COLOMBIA  BOGOTA - ELDORADO   \n",
       "17387       MONTERIA    COLOMBIA        COLOMBIA  BOGOTA - ELDORADO   \n",
       "17388   BARRANQUILLA    COLOMBIA        COLOMBIA  BOGOTA - ELDORADO   \n",
       "\n",
       "                          Apto_Destino  \n",
       "0             ALBUQUERQUE INTL SUNPORT  \n",
       "1                             SCHIPHOL  \n",
       "2      HARTSFIELD JACKSON ATLANTA INTL  \n",
       "3       AUSTIN/ROBERT/MUELLER MUNICIPA  \n",
       "4                            BARCELONA  \n",
       "...                                ...  \n",
       "17384        BARRANQUILLA-E. CORTISSOZ  \n",
       "17385        BARRANQUILLA-E. CORTISSOZ  \n",
       "17386        BARRANQUILLA-E. CORTISSOZ  \n",
       "17387          MONTERIA - LOS GARZONES  \n",
       "17388        BARRANQUILLA-E. CORTISSOZ  \n",
       "\n",
       "[17389 rows x 17 columns]"
      ]
     },
     "execution_count": 1,
     "metadata": {},
     "output_type": "execute_result"
    }
   ],
   "source": [
    "import pandas as pd\n",
    "\n",
    "data = pd.read_csv('https://raw.githubusercontent.com/jphoyos/fup/main/data/aerocivil2018_Bogota.csv')\n",
    "data"
   ]
  },
  {
   "cell_type": "code",
   "execution_count": null,
   "metadata": {
    "colab": {
     "base_uri": "https://localhost:8080/",
     "height": 388
    },
    "executionInfo": {
     "elapsed": 670,
     "status": "ok",
     "timestamp": 1619123834431,
     "user": {
      "displayName": "JUAN PABLO HOYOS SANCHEZ",
      "photoUrl": "https://lh3.googleusercontent.com/a-/AOh14Ghdiujk7nkvT3aSSiI2AOJjZCRGNv17LAP8ncls=s64",
      "userId": "13519316655691611120"
     },
     "user_tz": 300
    },
    "id": "DiXTaeAFTIlf",
    "outputId": "38a602c4-e261-41b3-9197-8e5aa25df267"
   },
   "outputs": [
    {
     "data": {
      "text/html": [
       "<table border=\"1\" class=\"dataframe\">\n",
       "    <thead>\n",
       "        <tr>\n",
       "            <th>Nombre Empresa</th> <th>count</th>\n",
       "        </tr>\n",
       "    </thead>\n",
       "    <tbody>\n",
       "        <tr>\n",
       "            <td>21 AIR                          </td> <td>3    </td>\n",
       "        </tr>\n",
       "        <tr>\n",
       "            <td>ABSA                            </td> <td>12   </td>\n",
       "        </tr>\n",
       "        <tr>\n",
       "            <td>ABX AIR INC  SUCURSAL COLOMBIANA</td> <td>12   </td>\n",
       "        </tr>\n",
       "        <tr>\n",
       "            <td>AER CARIBE LIMITADA             </td> <td>181  </td>\n",
       "        </tr>\n",
       "        <tr>\n",
       "            <td>AEROGAL                         </td> <td>135  </td>\n",
       "        </tr>\n",
       "        <tr>\n",
       "            <td>AEROLINEAS ARGENTINAS           </td> <td>307  </td>\n",
       "        </tr>\n",
       "        <tr>\n",
       "            <td>AEROMEXICO SUCURSAL COLOMBIA    </td> <td>604  </td>\n",
       "        </tr>\n",
       "        <tr>\n",
       "            <td>AEROPOSTAL                      </td> <td>1    </td>\n",
       "        </tr>\n",
       "        <tr>\n",
       "            <td>AEROREPUBLICA                   </td> <td>224  </td>\n",
       "        </tr>\n",
       "        <tr>\n",
       "            <td>AEROSUCRE                       </td> <td>127  </td>\n",
       "        </tr>\n",
       "    </tbody>\n",
       "</table>\n",
       "<p>... (74 rows omitted)</p>"
      ],
      "text/plain": [
       "Nombre Empresa                   | count\n",
       "21 AIR                           | 3\n",
       "ABSA                             | 12\n",
       "ABX AIR INC  SUCURSAL COLOMBIANA | 12\n",
       "AER CARIBE LIMITADA              | 181\n",
       "AEROGAL                          | 135\n",
       "AEROLINEAS ARGENTINAS            | 307\n",
       "AEROMEXICO SUCURSAL COLOMBIA     | 604\n",
       "AEROPOSTAL                       | 1\n",
       "AEROREPUBLICA                    | 224\n",
       "AEROSUCRE                        | 127\n",
       "... (74 rows omitted)"
      ]
     },
     "execution_count": 19,
     "metadata": {
      "tags": []
     },
     "output_type": "execute_result"
    }
   ],
   "source": [
    "data.groupby('Nombre Empresa').size()"
   ]
  },
  {
   "cell_type": "markdown",
   "metadata": {},
   "source": [
    "O mas detallado, donde count() me cuenta el numero de registro/filas pro cada grupo, y .sum() suma los valores numericos apra cada grupo"
   ]
  },
  {
   "cell_type": "code",
   "execution_count": 3,
   "metadata": {},
   "outputs": [
    {
     "data": {
      "text/html": [
       "<div>\n",
       "<style scoped>\n",
       "    .dataframe tbody tr th:only-of-type {\n",
       "        vertical-align: middle;\n",
       "    }\n",
       "\n",
       "    .dataframe tbody tr th {\n",
       "        vertical-align: top;\n",
       "    }\n",
       "\n",
       "    .dataframe thead tr th {\n",
       "        text-align: left;\n",
       "    }\n",
       "\n",
       "    .dataframe thead tr:last-of-type th {\n",
       "        text-align: right;\n",
       "    }\n",
       "</style>\n",
       "<table border=\"1\" class=\"dataframe\">\n",
       "  <thead>\n",
       "    <tr>\n",
       "      <th></th>\n",
       "      <th colspan=\"2\" halign=\"left\">Pasajeros</th>\n",
       "    </tr>\n",
       "    <tr>\n",
       "      <th></th>\n",
       "      <th>count</th>\n",
       "      <th>sum</th>\n",
       "    </tr>\n",
       "    <tr>\n",
       "      <th>Nombre Empresa</th>\n",
       "      <th></th>\n",
       "      <th></th>\n",
       "    </tr>\n",
       "  </thead>\n",
       "  <tbody>\n",
       "    <tr>\n",
       "      <th>21 AIR</th>\n",
       "      <td>3</td>\n",
       "      <td>0.0</td>\n",
       "    </tr>\n",
       "    <tr>\n",
       "      <th>ABSA</th>\n",
       "      <td>12</td>\n",
       "      <td>0.0</td>\n",
       "    </tr>\n",
       "    <tr>\n",
       "      <th>ABX AIR INC  SUCURSAL COLOMBIANA</th>\n",
       "      <td>12</td>\n",
       "      <td>0.0</td>\n",
       "    </tr>\n",
       "    <tr>\n",
       "      <th>AER CARIBE LIMITADA</th>\n",
       "      <td>181</td>\n",
       "      <td>0.0</td>\n",
       "    </tr>\n",
       "    <tr>\n",
       "      <th>AEROGAL</th>\n",
       "      <td>135</td>\n",
       "      <td>463142.0</td>\n",
       "    </tr>\n",
       "    <tr>\n",
       "      <th>...</th>\n",
       "      <td>...</td>\n",
       "      <td>...</td>\n",
       "    </tr>\n",
       "    <tr>\n",
       "      <th>UNITED AIR LINES INC</th>\n",
       "      <td>549</td>\n",
       "      <td>143115.0</td>\n",
       "    </tr>\n",
       "    <tr>\n",
       "      <th>UNITED PARCEL SERVICE CO. SUCURSAL COLOMBIA</th>\n",
       "      <td>24</td>\n",
       "      <td>0.0</td>\n",
       "    </tr>\n",
       "    <tr>\n",
       "      <th>VENSECAR C.A.</th>\n",
       "      <td>10</td>\n",
       "      <td>0.0</td>\n",
       "    </tr>\n",
       "    <tr>\n",
       "      <th>VIVA AIR PERU</th>\n",
       "      <td>10</td>\n",
       "      <td>2229.0</td>\n",
       "    </tr>\n",
       "    <tr>\n",
       "      <th>WESTERN GLOBAL</th>\n",
       "      <td>4</td>\n",
       "      <td>0.0</td>\n",
       "    </tr>\n",
       "  </tbody>\n",
       "</table>\n",
       "<p>84 rows × 2 columns</p>\n",
       "</div>"
      ],
      "text/plain": [
       "                                            Pasajeros          \n",
       "                                                count       sum\n",
       "Nombre Empresa                                                 \n",
       "21 AIR                                              3       0.0\n",
       "ABSA                                               12       0.0\n",
       "ABX AIR INC  SUCURSAL COLOMBIANA                   12       0.0\n",
       "AER CARIBE LIMITADA                               181       0.0\n",
       "AEROGAL                                           135  463142.0\n",
       "...                                               ...       ...\n",
       "UNITED AIR LINES INC                              549  143115.0\n",
       "UNITED PARCEL SERVICE CO. SUCURSAL COLOMBIA        24       0.0\n",
       "VENSECAR C.A.                                      10       0.0\n",
       "VIVA AIR PERU                                      10    2229.0\n",
       "WESTERN GLOBAL                                      4       0.0\n",
       "\n",
       "[84 rows x 2 columns]"
      ]
     },
     "execution_count": 3,
     "metadata": {},
     "output_type": "execute_result"
    }
   ],
   "source": [
    "data.groupby('Nombre Empresa').agg({'Pasajeros': ['count', 'sum']})"
   ]
  },
  {
   "cell_type": "markdown",
   "metadata": {
    "id": "xa00-K1QSqce"
   },
   "source": [
    "Seleccionamos la areolina AAL"
   ]
  },
  {
   "cell_type": "code",
   "execution_count": null,
   "metadata": {},
   "outputs": [
    {
     "data": {
      "text/html": [
       "<div>\n",
       "<style scoped>\n",
       "    .dataframe tbody tr th:only-of-type {\n",
       "        vertical-align: middle;\n",
       "    }\n",
       "\n",
       "    .dataframe tbody tr th {\n",
       "        vertical-align: top;\n",
       "    }\n",
       "\n",
       "    .dataframe thead th {\n",
       "        text-align: right;\n",
       "    }\n",
       "</style>\n",
       "<table border=\"1\" class=\"dataframe\">\n",
       "  <thead>\n",
       "    <tr style=\"text-align: right;\">\n",
       "      <th></th>\n",
       "      <th>Unnamed: 0</th>\n",
       "      <th>Fecha</th>\n",
       "      <th>Sigla Empresa</th>\n",
       "      <th>Nombre Empresa</th>\n",
       "      <th>Trafico</th>\n",
       "      <th>Origen</th>\n",
       "      <th>Destino</th>\n",
       "      <th>Pasajeros</th>\n",
       "      <th>TipoVuelo</th>\n",
       "      <th>CargaKg</th>\n",
       "      <th>CorreoKg</th>\n",
       "      <th>Ciudad Origen</th>\n",
       "      <th>Ciudad Destino</th>\n",
       "      <th>Pais Origen</th>\n",
       "      <th>Pais Destino</th>\n",
       "      <th>Apto_Origen</th>\n",
       "      <th>Apto_Destino</th>\n",
       "    </tr>\n",
       "  </thead>\n",
       "  <tbody>\n",
       "    <tr>\n",
       "      <th>0</th>\n",
       "      <td>36</td>\n",
       "      <td>2018-01-01</td>\n",
       "      <td>AAL</td>\n",
       "      <td>AMERICAN</td>\n",
       "      <td>I</td>\n",
       "      <td>BOG</td>\n",
       "      <td>ABQ</td>\n",
       "      <td>28</td>\n",
       "      <td>R</td>\n",
       "      <td>0</td>\n",
       "      <td>0</td>\n",
       "      <td>BOGOTA</td>\n",
       "      <td>NUEVO MEXICO</td>\n",
       "      <td>COLOMBIA</td>\n",
       "      <td>ESTADOS UNIDOS</td>\n",
       "      <td>BOGOTA - ELDORADO</td>\n",
       "      <td>ALBUQUERQUE INTL SUNPORT</td>\n",
       "    </tr>\n",
       "    <tr>\n",
       "      <th>1</th>\n",
       "      <td>37</td>\n",
       "      <td>2018-01-01</td>\n",
       "      <td>AAL</td>\n",
       "      <td>AMERICAN</td>\n",
       "      <td>I</td>\n",
       "      <td>BOG</td>\n",
       "      <td>AMS</td>\n",
       "      <td>22</td>\n",
       "      <td>R</td>\n",
       "      <td>0</td>\n",
       "      <td>0</td>\n",
       "      <td>BOGOTA</td>\n",
       "      <td>AMSTERDAM</td>\n",
       "      <td>COLOMBIA</td>\n",
       "      <td>HOLANDA</td>\n",
       "      <td>BOGOTA - ELDORADO</td>\n",
       "      <td>SCHIPHOL</td>\n",
       "    </tr>\n",
       "    <tr>\n",
       "      <th>2</th>\n",
       "      <td>38</td>\n",
       "      <td>2018-01-01</td>\n",
       "      <td>AAL</td>\n",
       "      <td>AMERICAN</td>\n",
       "      <td>I</td>\n",
       "      <td>BOG</td>\n",
       "      <td>ATL</td>\n",
       "      <td>83</td>\n",
       "      <td>R</td>\n",
       "      <td>0</td>\n",
       "      <td>0</td>\n",
       "      <td>BOGOTA</td>\n",
       "      <td>ATLANTA</td>\n",
       "      <td>COLOMBIA</td>\n",
       "      <td>ESTADOS UNIDOS</td>\n",
       "      <td>BOGOTA - ELDORADO</td>\n",
       "      <td>HARTSFIELD JACKSON ATLANTA INTL</td>\n",
       "    </tr>\n",
       "    <tr>\n",
       "      <th>3</th>\n",
       "      <td>39</td>\n",
       "      <td>2018-01-01</td>\n",
       "      <td>AAL</td>\n",
       "      <td>AMERICAN</td>\n",
       "      <td>I</td>\n",
       "      <td>BOG</td>\n",
       "      <td>AUS</td>\n",
       "      <td>28</td>\n",
       "      <td>R</td>\n",
       "      <td>0</td>\n",
       "      <td>0</td>\n",
       "      <td>BOGOTA</td>\n",
       "      <td>TEXAS</td>\n",
       "      <td>COLOMBIA</td>\n",
       "      <td>ESTADOS UNIDOS</td>\n",
       "      <td>BOGOTA - ELDORADO</td>\n",
       "      <td>AUSTIN/ROBERT/MUELLER MUNICIPA</td>\n",
       "    </tr>\n",
       "    <tr>\n",
       "      <th>4</th>\n",
       "      <td>40</td>\n",
       "      <td>2018-01-01</td>\n",
       "      <td>AAL</td>\n",
       "      <td>AMERICAN</td>\n",
       "      <td>I</td>\n",
       "      <td>BOG</td>\n",
       "      <td>BCN</td>\n",
       "      <td>27</td>\n",
       "      <td>R</td>\n",
       "      <td>0</td>\n",
       "      <td>0</td>\n",
       "      <td>BOGOTA</td>\n",
       "      <td>BARCELONA</td>\n",
       "      <td>COLOMBIA</td>\n",
       "      <td>ESPANA</td>\n",
       "      <td>BOGOTA - ELDORADO</td>\n",
       "      <td>BARCELONA</td>\n",
       "    </tr>\n",
       "    <tr>\n",
       "      <th>...</th>\n",
       "      <td>...</td>\n",
       "      <td>...</td>\n",
       "      <td>...</td>\n",
       "      <td>...</td>\n",
       "      <td>...</td>\n",
       "      <td>...</td>\n",
       "      <td>...</td>\n",
       "      <td>...</td>\n",
       "      <td>...</td>\n",
       "      <td>...</td>\n",
       "      <td>...</td>\n",
       "      <td>...</td>\n",
       "      <td>...</td>\n",
       "      <td>...</td>\n",
       "      <td>...</td>\n",
       "      <td>...</td>\n",
       "      <td>...</td>\n",
       "    </tr>\n",
       "    <tr>\n",
       "      <th>1557</th>\n",
       "      <td>6684</td>\n",
       "      <td>2018-12-01</td>\n",
       "      <td>AAL</td>\n",
       "      <td>AMERICAN</td>\n",
       "      <td>I</td>\n",
       "      <td>BOG</td>\n",
       "      <td>YUL</td>\n",
       "      <td>56</td>\n",
       "      <td>R</td>\n",
       "      <td>0</td>\n",
       "      <td>0</td>\n",
       "      <td>BOGOTA</td>\n",
       "      <td>MONTREAL</td>\n",
       "      <td>COLOMBIA</td>\n",
       "      <td>CANADA</td>\n",
       "      <td>BOGOTA - ELDORADO</td>\n",
       "      <td>MONTR╔AL-PIERRE ELLIOTT TRUDEAU INT</td>\n",
       "    </tr>\n",
       "    <tr>\n",
       "      <th>1558</th>\n",
       "      <td>6685</td>\n",
       "      <td>2018-12-01</td>\n",
       "      <td>AAL</td>\n",
       "      <td>AMERICAN</td>\n",
       "      <td>I</td>\n",
       "      <td>BOG</td>\n",
       "      <td>YVR</td>\n",
       "      <td>45</td>\n",
       "      <td>R</td>\n",
       "      <td>0</td>\n",
       "      <td>0</td>\n",
       "      <td>BOGOTA</td>\n",
       "      <td>VANCOUVER</td>\n",
       "      <td>COLOMBIA</td>\n",
       "      <td>CANADA</td>\n",
       "      <td>BOGOTA - ELDORADO</td>\n",
       "      <td>VANCOUVER INTERNATIONAL</td>\n",
       "    </tr>\n",
       "    <tr>\n",
       "      <th>1559</th>\n",
       "      <td>6686</td>\n",
       "      <td>2018-12-01</td>\n",
       "      <td>AAL</td>\n",
       "      <td>AMERICAN</td>\n",
       "      <td>I</td>\n",
       "      <td>BOG</td>\n",
       "      <td>YYC</td>\n",
       "      <td>7</td>\n",
       "      <td>R</td>\n",
       "      <td>0</td>\n",
       "      <td>0</td>\n",
       "      <td>BOGOTA</td>\n",
       "      <td>CALGARY</td>\n",
       "      <td>COLOMBIA</td>\n",
       "      <td>CANADA</td>\n",
       "      <td>BOGOTA - ELDORADO</td>\n",
       "      <td>CALGARY INTL,ALTA</td>\n",
       "    </tr>\n",
       "    <tr>\n",
       "      <th>1560</th>\n",
       "      <td>6687</td>\n",
       "      <td>2018-12-01</td>\n",
       "      <td>AAL</td>\n",
       "      <td>AMERICAN</td>\n",
       "      <td>I</td>\n",
       "      <td>BOG</td>\n",
       "      <td>YYZ</td>\n",
       "      <td>52</td>\n",
       "      <td>R</td>\n",
       "      <td>121</td>\n",
       "      <td>0</td>\n",
       "      <td>BOGOTA</td>\n",
       "      <td>TORONTO</td>\n",
       "      <td>COLOMBIA</td>\n",
       "      <td>CANADA</td>\n",
       "      <td>BOGOTA - ELDORADO</td>\n",
       "      <td>LESTER B PEARSON INTL</td>\n",
       "    </tr>\n",
       "    <tr>\n",
       "      <th>1561</th>\n",
       "      <td>6688</td>\n",
       "      <td>2018-12-01</td>\n",
       "      <td>AAL</td>\n",
       "      <td>AMERICAN</td>\n",
       "      <td>I</td>\n",
       "      <td>BOG</td>\n",
       "      <td>ZRH</td>\n",
       "      <td>10</td>\n",
       "      <td>R</td>\n",
       "      <td>0</td>\n",
       "      <td>0</td>\n",
       "      <td>BOGOTA</td>\n",
       "      <td>ZURICH</td>\n",
       "      <td>COLOMBIA</td>\n",
       "      <td>SUIZA</td>\n",
       "      <td>BOGOTA - ELDORADO</td>\n",
       "      <td>ZURICH</td>\n",
       "    </tr>\n",
       "  </tbody>\n",
       "</table>\n",
       "<p>1562 rows × 17 columns</p>\n",
       "</div>"
      ],
      "text/plain": [
       "      Unnamed: 0       Fecha Sigla Empresa Nombre Empresa Trafico Origen  \\\n",
       "0             36  2018-01-01           AAL       AMERICAN       I    BOG   \n",
       "1             37  2018-01-01           AAL       AMERICAN       I    BOG   \n",
       "2             38  2018-01-01           AAL       AMERICAN       I    BOG   \n",
       "3             39  2018-01-01           AAL       AMERICAN       I    BOG   \n",
       "4             40  2018-01-01           AAL       AMERICAN       I    BOG   \n",
       "...          ...         ...           ...            ...     ...    ...   \n",
       "1557        6684  2018-12-01           AAL       AMERICAN       I    BOG   \n",
       "1558        6685  2018-12-01           AAL       AMERICAN       I    BOG   \n",
       "1559        6686  2018-12-01           AAL       AMERICAN       I    BOG   \n",
       "1560        6687  2018-12-01           AAL       AMERICAN       I    BOG   \n",
       "1561        6688  2018-12-01           AAL       AMERICAN       I    BOG   \n",
       "\n",
       "     Destino  Pasajeros TipoVuelo  CargaKg  CorreoKg Ciudad Origen  \\\n",
       "0        ABQ         28         R        0         0        BOGOTA   \n",
       "1        AMS         22         R        0         0        BOGOTA   \n",
       "2        ATL         83         R        0         0        BOGOTA   \n",
       "3        AUS         28         R        0         0        BOGOTA   \n",
       "4        BCN         27         R        0         0        BOGOTA   \n",
       "...      ...        ...       ...      ...       ...           ...   \n",
       "1557     YUL         56         R        0         0        BOGOTA   \n",
       "1558     YVR         45         R        0         0        BOGOTA   \n",
       "1559     YYC          7         R        0         0        BOGOTA   \n",
       "1560     YYZ         52         R      121         0        BOGOTA   \n",
       "1561     ZRH         10         R        0         0        BOGOTA   \n",
       "\n",
       "     Ciudad Destino Pais Origen    Pais Destino        Apto_Origen  \\\n",
       "0      NUEVO MEXICO    COLOMBIA  ESTADOS UNIDOS  BOGOTA - ELDORADO   \n",
       "1         AMSTERDAM    COLOMBIA         HOLANDA  BOGOTA - ELDORADO   \n",
       "2           ATLANTA    COLOMBIA  ESTADOS UNIDOS  BOGOTA - ELDORADO   \n",
       "3             TEXAS    COLOMBIA  ESTADOS UNIDOS  BOGOTA - ELDORADO   \n",
       "4         BARCELONA    COLOMBIA          ESPANA  BOGOTA - ELDORADO   \n",
       "...             ...         ...             ...                ...   \n",
       "1557       MONTREAL    COLOMBIA          CANADA  BOGOTA - ELDORADO   \n",
       "1558      VANCOUVER    COLOMBIA          CANADA  BOGOTA - ELDORADO   \n",
       "1559        CALGARY    COLOMBIA          CANADA  BOGOTA - ELDORADO   \n",
       "1560        TORONTO    COLOMBIA          CANADA  BOGOTA - ELDORADO   \n",
       "1561         ZURICH    COLOMBIA           SUIZA  BOGOTA - ELDORADO   \n",
       "\n",
       "                             Apto_Destino  \n",
       "0                ALBUQUERQUE INTL SUNPORT  \n",
       "1                                SCHIPHOL  \n",
       "2         HARTSFIELD JACKSON ATLANTA INTL  \n",
       "3          AUSTIN/ROBERT/MUELLER MUNICIPA  \n",
       "4                               BARCELONA  \n",
       "...                                   ...  \n",
       "1557  MONTR╔AL-PIERRE ELLIOTT TRUDEAU INT  \n",
       "1558              VANCOUVER INTERNATIONAL  \n",
       "1559                    CALGARY INTL,ALTA  \n",
       "1560                LESTER B PEARSON INTL  \n",
       "1561                               ZURICH  \n",
       "\n",
       "[1562 rows x 17 columns]"
      ]
     },
     "execution_count": 43,
     "metadata": {},
     "output_type": "execute_result"
    }
   ],
   "source": [
    "aal = data.query(\"`Sigla Empresa` == 'AAL'\") # es equivalente a ->  aal = data[data['Sigla Empresa'] == 'AAL']\n",
    "aal"
   ]
  },
  {
   "cell_type": "markdown",
   "metadata": {
    "id": "6LqwK_uNUzkH"
   },
   "source": [
    "Una avion salio con 0 pasajeros y uno con 9709 pasajeros (umm). El rango esta entre 0 - 9709."
   ]
  },
  {
   "cell_type": "code",
   "execution_count": 44,
   "metadata": {
    "colab": {
     "base_uri": "https://localhost:8080/"
    },
    "executionInfo": {
     "elapsed": 661,
     "status": "ok",
     "timestamp": 1619124138420,
     "user": {
      "displayName": "JUAN PABLO HOYOS SANCHEZ",
      "photoUrl": "https://lh3.googleusercontent.com/a-/AOh14Ghdiujk7nkvT3aSSiI2AOJjZCRGNv17LAP8ncls=s64",
      "userId": "13519316655691611120"
     },
     "user_tz": 300
    },
    "id": "UXUUhWN3T_5w",
    "outputId": "b7d98032-478b-4a60-f33b-18a0ca007a1b"
   },
   "outputs": [
    {
     "data": {
      "text/plain": [
       "0.0"
      ]
     },
     "execution_count": 44,
     "metadata": {},
     "output_type": "execute_result"
    }
   ],
   "source": [
    "aal['Pasajeros'].min()"
   ]
  },
  {
   "cell_type": "code",
   "execution_count": 45,
   "metadata": {
    "colab": {
     "base_uri": "https://localhost:8080/"
    },
    "executionInfo": {
     "elapsed": 450,
     "status": "ok",
     "timestamp": 1619124160508,
     "user": {
      "displayName": "JUAN PABLO HOYOS SANCHEZ",
      "photoUrl": "https://lh3.googleusercontent.com/a-/AOh14Ghdiujk7nkvT3aSSiI2AOJjZCRGNv17LAP8ncls=s64",
      "userId": "13519316655691611120"
     },
     "user_tz": 300
    },
    "id": "N2MxgcYmUflb",
    "outputId": "5e6b24a4-9755-4bbb-d9a1-82807fce5800"
   },
   "outputs": [
    {
     "data": {
      "text/plain": [
       "9709.0"
      ]
     },
     "execution_count": 45,
     "metadata": {},
     "output_type": "execute_result"
    }
   ],
   "source": [
    "aal['Pasajeros'].max()"
   ]
  },
  {
   "cell_type": "code",
   "execution_count": 50,
   "metadata": {},
   "outputs": [
    {
     "data": {
      "text/plain": [
       "Text(0, 0.5, 'Frecuencias Vuelos')"
      ]
     },
     "execution_count": 50,
     "metadata": {},
     "output_type": "execute_result"
    },
    {
     "data": {
      "image/png": "[encoded data removed]",
      "text/plain": [
       "<Figure size 400x300 with 1 Axes>"
      ]
     },
     "metadata": {},
     "output_type": "display_data"
    }
   ],
   "source": [
    "vuelos_bins = np.append(np.arange(0, 500, 50),10000)\n",
    "\n",
    "plt.figure(figsize=(4,3))\n",
    "plt.hist(x=aal['Pasajeros'], bins=vuelos_bins, rwidth=1, edgecolor='black')\n",
    "plt.xlabel('Pasajeros')\n",
    "plt.ylabel('Frecuencias Vuelos')"
   ]
  },
  {
   "cell_type": "markdown",
   "metadata": {
    "id": "B_v4Ml2dZFLO"
   },
   "source": [
    "Para nuestro interes, nos centramos en vuelos de hasta 700 pasajeros"
   ]
  },
  {
   "cell_type": "code",
   "execution_count": 48,
   "metadata": {},
   "outputs": [
    {
     "data": {
      "text/plain": [
       "0.015364916773367477"
      ]
     },
     "execution_count": 48,
     "metadata": {},
     "output_type": "execute_result"
    }
   ],
   "source": [
    "(aal[aal['Pasajeros'] > 500].shape[0]) / aal.shape[0]"
   ]
  },
  {
   "cell_type": "code",
   "execution_count": 52,
   "metadata": {
    "colab": {
     "base_uri": "https://localhost:8080/"
    },
    "executionInfo": {
     "elapsed": 768,
     "status": "ok",
     "timestamp": 1619125506803,
     "user": {
      "displayName": "JUAN PABLO HOYOS SANCHEZ",
      "photoUrl": "https://lh3.googleusercontent.com/a-/AOh14Ghdiujk7nkvT3aSSiI2AOJjZCRGNv17LAP8ncls=s64",
      "userId": "13519316655691611120"
     },
     "user_tz": 300
    },
    "id": "ZvHn8jGyVL9r",
    "outputId": "474e23e6-387b-4af9-a11c-05d400cef6bb"
   },
   "outputs": [
    {
     "data": {
      "text/plain": [
       "Text(0, 0.5, 'Frecuencias Vuelos')"
      ]
     },
     "execution_count": 52,
     "metadata": {},
     "output_type": "execute_result"
    },
    {
     "data": {
      "image/png": "[encoded data removed]",
      "text/plain": [
       "<Figure size 400x300 with 1 Axes>"
      ]
     },
     "metadata": {},
     "output_type": "display_data"
    }
   ],
   "source": [
    "vuelos_bins = np.arange(0, 400, 20)\n",
    "\n",
    "plt.figure(figsize=(4,3))\n",
    "plot.hist(x=aal['Pasajeros'], bins=vuelos_bins, rwidth=1, edgecolor='black')\n",
    "plot.xlabel('Pasajeros')\n",
    "plot.ylabel('Frecuencias Vuelos')"
   ]
  },
  {
   "cell_type": "markdown",
   "metadata": {
    "id": "u3t8yy4oZt-v"
   },
   "source": [
    "Ahora, obtengamos el Histograma"
   ]
  },
  {
   "cell_type": "code",
   "execution_count": 54,
   "metadata": {},
   "outputs": [
    {
     "data": {
      "text/plain": [
       "Text(0, 0.5, 'Porcentaje por pasajeros')"
      ]
     },
     "execution_count": 54,
     "metadata": {},
     "output_type": "execute_result"
    },
    {
     "data": {
      "image/png": "[encoded data removed]",
      "text/plain": [
       "<Figure size 400x300 with 1 Axes>"
      ]
     },
     "metadata": {},
     "output_type": "display_data"
    }
   ],
   "source": [
    "vuelos_bins = np.arange(0, 400, 20)\n",
    "\n",
    "plt.figure(figsize=(4,3))\n",
    "plot.hist(x=aal['Pasajeros'], bins=vuelos_bins, rwidth=1, edgecolor='black', density=True)\n",
    "plot.xlabel('Pasajeros')\n",
    "plot.ylabel('Porcentaje por pasajeros')"
   ]
  },
  {
   "cell_type": "markdown",
   "metadata": {
    "id": "LstzeaGtaIaC"
   },
   "source": [
    "La altura de la barra [0, 20) es algo inferior al 3% por pasajero, lo que significa que algo menos del 60(3*20)% de los vuelos tuvieron entre 0 y 20 pasajeros. Esto se confirma contando las filas:"
   ]
  },
  {
   "cell_type": "code",
   "execution_count": null,
   "metadata": {
    "id": "ItFvu36xJizX"
   },
   "outputs": [
    {
     "data": {
      "text/plain": [
       "0.5384122919334187"
      ]
     },
     "execution_count": 58,
     "metadata": {},
     "output_type": "execute_result"
    }
   ],
   "source": [
    "(aal.query('0 < Pasajeros <= 20').shape[0] / aal.shape[0])"
   ]
  },
  {
   "cell_type": "code",
   "execution_count": 59,
   "metadata": {},
   "outputs": [
    {
     "data": {
      "text/plain": [
       "0.5384122919334187"
      ]
     },
     "execution_count": 59,
     "metadata": {},
     "output_type": "execute_result"
    }
   ],
   "source": [
    "aal[(aal['Pasajeros'] > 0) & (aal['Pasajeros'] <= 20)].shape[0] / aal.shape[0]"
   ]
  },
  {
   "cell_type": "markdown",
   "metadata": {},
   "source": [
    "**A. Ejercicio:**   Distribuciones Empíricas vs. Teóricas\n",
    "\n",
    "Crear histogramas empíricos para:\n",
    "\n",
    "Recaudación bruta (Bruto)\n",
    "\n",
    "Recaudación ajustada (Bruto (Ajustado))\n",
    "\n",
    "Años de lanzamiento (Year)\n",
    "\n",
    "Comparar con distribuciones teóricas (normal, uniforme, exponencial) y discutir qué modelo se ajusta mejor."
   ]
  },
  {
   "cell_type": "markdown",
   "metadata": {},
   "source": [
    "**B. Ejercicio:** Muestreo Aleatorio\n",
    "\n",
    "Extraer muestras aleatorias de diferentes tamaños (10, 50, 100 películas) con y sin reemplazo.\n",
    "\n",
    "Calcular estadísticas (media, mediana) de la recaudación ajustada para cada muestra.\n",
    "\n",
    "Comparar con los valores poblacionales."
   ]
  },
  {
   "cell_type": "markdown",
   "metadata": {},
   "source": [
    "**C. Ejercicio:** Ley de los grandes numeros\n",
    "\n",
    "Tomar muestras crecientes (de 10 en 10 hasta 200 películas).\n",
    "\n",
    "Graficar la media muestral de Bruto (Ajustado) vs. tamaño de la muestra.\n",
    "\n",
    "Verificar si converge al valor poblacional."
   ]
  },
  {
   "cell_type": "markdown",
   "metadata": {},
   "source": [
    "**D. Ejercicio:** Sesgo y Variabilidad\n",
    "\n",
    "Crear un muestreo sesgado (ej: solo películas de Disney) y calcular la media de recaudación.\n",
    "\n",
    "Comparar con la media de muestras aleatorias no sesgadas.\n",
    "\n",
    "Discutir cómo el sesgo afecta las conclusiones."
   ]
  },
  {
   "cell_type": "code",
   "execution_count": null,
   "metadata": {},
   "outputs": [],
   "source": []
  }
 ],
 "metadata": {
  "colab": {
   "authorship_tag": "ABX9TyPt2F5XNK07fvGMTHmXqIlG",
   "name": "Clase3-Muestreo.ipynb",
   "provenance": []
  },
  "kernelspec": {
   "display_name": "Python 3",
   "language": "python",
   "name": "python3"
  },
  "language_info": {
   "codemirror_mode": {
    "name": "ipython",
    "version": 3
   },
   "file_extension": ".py",
   "mimetype": "text/x-python",
   "name": "python",
   "nbconvert_exporter": "python",
   "pygments_lexer": "ipython3",
   "version": "3.11.0"
  }
 },
 "nbformat": 4,
 "nbformat_minor": 0
}
