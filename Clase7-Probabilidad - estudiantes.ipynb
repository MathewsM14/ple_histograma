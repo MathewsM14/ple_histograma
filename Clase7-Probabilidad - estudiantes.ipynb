{
 "cells": [
  {
   "cell_type": "markdown",
   "metadata": {
    "id": "TIRyyX18BzOS"
   },
   "source": [
    "# Probabilidades\n",
    "\n",
    "Algunas personas piensan que las probabilidades son frecuencias relativas; otras piensan que son frecuencias relativas a largo plazo; otras piensan que las probabilidades son una medida subjetiva de su propio grado de incertidumbre personal.\n",
    "\n",
    "Para nosotros la mayoría de las probabilidades serán frecuencias relativas, aunque muchas tendrán interpretaciones subjetivas. En cualquier caso, las formas de calcular y combinar las probabilidades son consistentes en las diferentes interpretaciones.\n",
    "\n",
    "Por convención, las probabilidades son números entre 0 y 1, o, equivalentemente, entre 0% y 100%. Los sucesos imposibles tienen una probabilidad 0. Los sucesos seguros tienen una probabilidad 1.\n",
    "\n",
    "Las matemáticas son la principal herramienta para encontrar las probabilidades con exactitud, aunque los ordenadores también son útiles para este fin. La simulación puede proporcionar excelentes aproximaciones, con alta probabilidad. En esta sección, desarrollaremos de manera informal algunas reglas sencillas que rigen el cálculo de probabilidades. En secciones posteriores volveremos a las simulaciones para aproximar las probabilidades de sucesos complejos.\n",
    "\n",
    "Utilizaremos la notación estándar $P(\\text{event})$ para denotar la probabilidad de que ocurra el \"evento\", y utilizaremos las palabras \"azar\" y \"probabilidad\" indistintamente.\n"
   ]
  },
  {
   "cell_type": "markdown",
   "metadata": {
    "id": "S7R3dC5DCRWI"
   },
   "source": [
    "## Cuando un evento no ocurre\n",
    "Si la probabilidad de que un evento ocurra es del 40%, entonces la probabilidad de que no ocurra es del 60%. Este cálculo natural se puede describir en general como sigue:\n",
    "\n",
    "$$\n",
    "P(\\text{un evento no ocurre}) ~=~ 1 - P(\\text{el evento ocurre})\n",
    "$$"
   ]
  },
  {
   "cell_type": "markdown",
   "metadata": {
    "id": "2qF7l70nCcpg"
   },
   "source": [
    "## Cuando todos los resultados son igual de probables\n",
    "Si se lanza un dado ordinario, se supone que las seis caras tienen la misma probabilidad. Entonces, las probabilidades de que salga un resultado puede calcularse fácilmente como un cociente. Por ejemplo, la probabilidad de que el dado muestre un número par es\n",
    "\n",
    "$$\n",
    "\\frac{\\text{número de caras pares}}{\\text{número de todas las caras}}\n",
    "~=~ \\frac{{2, 4, 6}}{{1, 2, 3, 4, 5, 6}}\n",
    "~=~ \\frac{3}{6}\n",
    "$$\n",
    "\n",
    "o\n",
    "\n",
    "$$\n",
    "P(\\text{die muestra un múltiplo de 3}) ~=~\n",
    "\\frac{{3, 6}}{{1, 2, 3, 4, 5, 6}}\n",
    "~=~ \\frac{2}{6}\n",
    "$$\n"
   ]
  },
  {
   "cell_type": "markdown",
   "metadata": {
    "id": "pkT9HoDmDAaf"
   },
   "source": [
    "En general,\n",
    "\n",
    "$$\n",
    "P(\\text{un evento ocurre}) ~=~\n",
    "\\frac{\\#\\{\\text{sucesos que hacen que el suceso ocurra}\\}}\n",
    "{\\#\\{\\text{todos los resultados}\\}}\n",
    "$$"
   ]
  },
  {
   "cell_type": "markdown",
   "metadata": {
    "id": "R7kg8dU2DTrn"
   },
   "source": [
    "## Cuando dos eventos deben ocurrir ambos\n",
    "Suponga que tiene una caja que contiene tres boletos: uno rojo, uno azul y uno verde. Suponga que saca dos boletos al azar sin reemplazo; es decir, baraja los tres boletos, saca uno, baraja los dos restantes y saca otro de esos dos. ¿Cuál es la probabilidad de que te toque primero el billete verde y luego el rojo?\n",
    "\n",
    "Hay seis pares de colores posibles: RA, AR, RV, VR, AV, VA (hemos abreviado los nombres de cada color a sólo su primera letra). Todos ellos son igualmente probables según el esquema de muestreo, y sólo uno de ellos (VR) hace que se produzca el evento. Así que\n",
    "\n",
    "$$\n",
    "P(\\text{primero verde, luego rojo}) ~=~ \n",
    "\\frac{\\#\\{\\text{VR}\\}}{\\#\\{\\text{RA, AR, RV, VR, AV, VA}\\}} ~=~ \\frac{1}{6}\n",
    "$$"
   ]
  },
  {
   "cell_type": "markdown",
   "metadata": {
    "id": "Bwh1ffBqD7wp"
   },
   "source": [
    "Pero hay otra forma de llegar a la respuesta, pensando en el evento en dos etapas. En primer lugar, hay que sacar el billete verde. Eso tiene una probabilidad de $1/3$, lo que significa que el billete verde se extrae primero en aproximadamente $1/3$ de todas las repeticiones del experimento. Pero eso no completa el evento. *Entre el 1/3 de las repeticiones en las que el verde sale primero*, el billete rojo tiene que salir después. Eso ocurre en aproximadamente $1/2$ de esas repeticiones, y así\n",
    "\n",
    "$$\n",
    "P(\\text{verde primero, luego rojo}) ~=~ \\frac{1}{2} ~\\text{de}~ \\frac{1}{3}\n",
    "~=~ \\frac{1}{6}\n",
    "$$\n",
    "\n",
    "Este cálculo se suele escribir \"en orden cronológico\", de la siguiente manera\n",
    "\n",
    "$$\n",
    "P(\\text{verde primero, luego rojo}) ~=~ \\frac{1}{3} ~\\times~ \\frac{1}{2}\n",
    "~=~ \\frac{1}{6}\n",
    "$$"
   ]
  },
  {
   "cell_type": "markdown",
   "metadata": {
    "id": "iKhfClt_FfnN"
   },
   "source": [
    "El factor de $1/2$ se llama \"la probabilidad condicional de que el billete rojo aparezca en segundo lugar, dado que el billete verde apareció primero\".\n",
    "\n",
    "En general, tenemos la **regla de la multiplicación**:\n",
    "\n",
    "$$\n",
    "P(\\text{dos sucesos ocurren ambos})\n",
    "~=~ P(\\text{un suceso ocurre}) \\times \n",
    "P(\\text{el otro suceso ocurre, dado que el primero ocurrió})\n",
    "$$\n",
    "\n",
    "Así, cuando hay dos condiciones -un suceso debe ocurrir, además de otro- la probabilidad es *una fracción de fracción*, que es menor que cualquiera de las dos fracciones componentes. Cuantas más condiciones deban cumplirse, menos probable será que se cumplan todas."
   ]
  },
  {
   "cell_type": "markdown",
   "metadata": {
    "id": "cp8y-dpJIJOS"
   },
   "source": [
    "La regla de la multiplicación tiene una extensión natural a más de dos sucesos, como veremos a continuación. También la regla de la suma tiene una extensión natural a los sucesos que pueden ocurrir de una de varias maneras diferentes.\n",
    "\n",
    "Terminamos esta sección con ejemplos que utilizan combinaciones de todas estas reglas."
   ]
  },
  {
   "cell_type": "markdown",
   "metadata": {
    "id": "OHsBDSuYITQj"
   },
   "source": [
    "## Al menos un éxito\n",
    "Los científicos de datos trabajan a menudo con muestras aleatorias de poblaciones. Una cuestión que a veces se plantea es la probabilidad de que un individuo concreto de la población sea seleccionado para estar en la muestra. Para calcular la probabilidad, ese individuo se denomina \"éxito\", y el problema consiste en encontrar la probabilidad de que la muestra contenga un éxito.\n",
    "\n",
    "Para ver cómo se pueden calcular estas probabilidades, empezamos con un escenario más sencillo: lanzar una moneda dos veces.\n",
    "\n",
    "Si se lanza una moneda dos veces, hay cuatro resultados igualmente probables: CC, CS, SC y SS. Hemos abreviado \"Cara\" como C y \"Sello\" como S. La probabilidad de obtener al menos una cara en dos lanzamientos es, por tanto, de 3/4.\n",
    "\n",
    "Otra forma de obtener esta respuesta es calcular lo que ocurre si *no* se obtiene al menos una cabeza: los dos lanzamientos tienen que salir cruz. Así que\n",
    "\n",
    "$$\n",
    "P(\\text{al menos una cara en dos lanzamientos}) ~=~ 1 - P(\\text{ambos sellos}) ~=~ 1 - \\frac{1}{4}\n",
    "~=~ \\frac{3}{4}\n",
    "$$\n",
    "\n",
    "Obsérvese también que \n",
    "\n",
    "$$\n",
    "P(\\text{ambas caras}) ~=~ \\frac{1}{4} ~=~ \\frac{1}{2} \\cdot \\frac{1}{2} ~=~ \\left(\\frac{1}{2}\\right)^2\n",
    "$$\n",
    "por la regla de la multiplicación.\n",
    "\n",
    "Estas dos observaciones nos permiten hallar la probabilidad de que salga al menos una cabeza en un número determinado de lanzamientos. Por ejemplo,\n",
    "\n",
    "$$\n",
    "P(\\text{al menos una cara en 17 lanzamientos}) ~=~ 1 - P(\\text{todos los 17 son sellos})\n",
    "~=~ 1 - \\left(\\frac{1}{2}\\right)^{17}\n",
    "$$\n",
    "\n",
    "Y ahora estamos en condiciones de encontrar la probabilidad de que la cara con seis puntos salga al menos una vez en las tiradas de un dado. \n",
    "\n",
    "Por ejemplo,\n",
    "\n",
    "$$\n",
    "P(\\text{una sola tirada no es 6}) ~=~ P(1) + P(2) + P(3) + P(4) + P(5)\n",
    "~=~ \\frac{5}{6}\n",
    "$$\n",
    "\n",
    "Por lo tanto,\n",
    "\n",
    "$$\n",
    "P(\\text{al menos un 6 en dos tiradas}) ~=~ 1 - P(\\text{ambas tiradas no son 6})\n",
    "~=~ 1 - \\left(\\frac{5}{6}\\right)^2\n",
    "$$\n",
    "\n",
    "y\n",
    "\n",
    "$$\n",
    "P(\\text{al menos un 6 en 17 tiradas})\n",
    "~=~ 1 - \\left(\\frac{5}{6}\\right)^{17}\n",
    "$$\n",
    "\n",
    "La tabla siguiente muestra estas probabilidades a medida que el número de tiradas aumenta de 1 a 50."
   ]
  },
  {
   "cell_type": "code",
   "execution_count": 4,
   "metadata": {},
   "outputs": [
    {
     "data": {
      "text/html": [
       "<div>\n",
       "<style scoped>\n",
       "    .dataframe tbody tr th:only-of-type {\n",
       "        vertical-align: middle;\n",
       "    }\n",
       "\n",
       "    .dataframe tbody tr th {\n",
       "        vertical-align: top;\n",
       "    }\n",
       "\n",
       "    .dataframe thead th {\n",
       "        text-align: right;\n",
       "    }\n",
       "</style>\n",
       "<table border=\"1\" class=\"dataframe\">\n",
       "  <thead>\n",
       "    <tr style=\"text-align: right;\">\n",
       "      <th></th>\n",
       "      <th>Tiradas</th>\n",
       "      <th>Chance (probabilidad) de al menos un 6</th>\n",
       "    </tr>\n",
       "  </thead>\n",
       "  <tbody>\n",
       "    <tr>\n",
       "      <th>0</th>\n",
       "      <td>1</td>\n",
       "      <td>0.166667</td>\n",
       "    </tr>\n",
       "    <tr>\n",
       "      <th>1</th>\n",
       "      <td>2</td>\n",
       "      <td>0.305556</td>\n",
       "    </tr>\n",
       "    <tr>\n",
       "      <th>2</th>\n",
       "      <td>3</td>\n",
       "      <td>0.421296</td>\n",
       "    </tr>\n",
       "    <tr>\n",
       "      <th>3</th>\n",
       "      <td>4</td>\n",
       "      <td>0.517747</td>\n",
       "    </tr>\n",
       "    <tr>\n",
       "      <th>4</th>\n",
       "      <td>5</td>\n",
       "      <td>0.598122</td>\n",
       "    </tr>\n",
       "    <tr>\n",
       "      <th>5</th>\n",
       "      <td>6</td>\n",
       "      <td>0.665102</td>\n",
       "    </tr>\n",
       "    <tr>\n",
       "      <th>6</th>\n",
       "      <td>7</td>\n",
       "      <td>0.720918</td>\n",
       "    </tr>\n",
       "    <tr>\n",
       "      <th>7</th>\n",
       "      <td>8</td>\n",
       "      <td>0.767432</td>\n",
       "    </tr>\n",
       "    <tr>\n",
       "      <th>8</th>\n",
       "      <td>9</td>\n",
       "      <td>0.806193</td>\n",
       "    </tr>\n",
       "    <tr>\n",
       "      <th>9</th>\n",
       "      <td>10</td>\n",
       "      <td>0.838494</td>\n",
       "    </tr>\n",
       "    <tr>\n",
       "      <th>10</th>\n",
       "      <td>11</td>\n",
       "      <td>0.865412</td>\n",
       "    </tr>\n",
       "    <tr>\n",
       "      <th>11</th>\n",
       "      <td>12</td>\n",
       "      <td>0.887843</td>\n",
       "    </tr>\n",
       "    <tr>\n",
       "      <th>12</th>\n",
       "      <td>13</td>\n",
       "      <td>0.906536</td>\n",
       "    </tr>\n",
       "    <tr>\n",
       "      <th>13</th>\n",
       "      <td>14</td>\n",
       "      <td>0.922113</td>\n",
       "    </tr>\n",
       "    <tr>\n",
       "      <th>14</th>\n",
       "      <td>15</td>\n",
       "      <td>0.935095</td>\n",
       "    </tr>\n",
       "    <tr>\n",
       "      <th>15</th>\n",
       "      <td>16</td>\n",
       "      <td>0.945912</td>\n",
       "    </tr>\n",
       "    <tr>\n",
       "      <th>16</th>\n",
       "      <td>17</td>\n",
       "      <td>0.954927</td>\n",
       "    </tr>\n",
       "    <tr>\n",
       "      <th>17</th>\n",
       "      <td>18</td>\n",
       "      <td>0.962439</td>\n",
       "    </tr>\n",
       "    <tr>\n",
       "      <th>18</th>\n",
       "      <td>19</td>\n",
       "      <td>0.968699</td>\n",
       "    </tr>\n",
       "    <tr>\n",
       "      <th>19</th>\n",
       "      <td>20</td>\n",
       "      <td>0.973916</td>\n",
       "    </tr>\n",
       "    <tr>\n",
       "      <th>20</th>\n",
       "      <td>21</td>\n",
       "      <td>0.978263</td>\n",
       "    </tr>\n",
       "    <tr>\n",
       "      <th>21</th>\n",
       "      <td>22</td>\n",
       "      <td>0.981886</td>\n",
       "    </tr>\n",
       "    <tr>\n",
       "      <th>22</th>\n",
       "      <td>23</td>\n",
       "      <td>0.984905</td>\n",
       "    </tr>\n",
       "    <tr>\n",
       "      <th>23</th>\n",
       "      <td>24</td>\n",
       "      <td>0.987421</td>\n",
       "    </tr>\n",
       "    <tr>\n",
       "      <th>24</th>\n",
       "      <td>25</td>\n",
       "      <td>0.989517</td>\n",
       "    </tr>\n",
       "    <tr>\n",
       "      <th>25</th>\n",
       "      <td>26</td>\n",
       "      <td>0.991265</td>\n",
       "    </tr>\n",
       "    <tr>\n",
       "      <th>26</th>\n",
       "      <td>27</td>\n",
       "      <td>0.992720</td>\n",
       "    </tr>\n",
       "    <tr>\n",
       "      <th>27</th>\n",
       "      <td>28</td>\n",
       "      <td>0.993934</td>\n",
       "    </tr>\n",
       "    <tr>\n",
       "      <th>28</th>\n",
       "      <td>29</td>\n",
       "      <td>0.994945</td>\n",
       "    </tr>\n",
       "    <tr>\n",
       "      <th>29</th>\n",
       "      <td>30</td>\n",
       "      <td>0.995787</td>\n",
       "    </tr>\n",
       "    <tr>\n",
       "      <th>30</th>\n",
       "      <td>31</td>\n",
       "      <td>0.996489</td>\n",
       "    </tr>\n",
       "    <tr>\n",
       "      <th>31</th>\n",
       "      <td>32</td>\n",
       "      <td>0.997074</td>\n",
       "    </tr>\n",
       "    <tr>\n",
       "      <th>32</th>\n",
       "      <td>33</td>\n",
       "      <td>0.997562</td>\n",
       "    </tr>\n",
       "    <tr>\n",
       "      <th>33</th>\n",
       "      <td>34</td>\n",
       "      <td>0.997968</td>\n",
       "    </tr>\n",
       "    <tr>\n",
       "      <th>34</th>\n",
       "      <td>35</td>\n",
       "      <td>0.998307</td>\n",
       "    </tr>\n",
       "    <tr>\n",
       "      <th>35</th>\n",
       "      <td>36</td>\n",
       "      <td>0.998589</td>\n",
       "    </tr>\n",
       "    <tr>\n",
       "      <th>36</th>\n",
       "      <td>37</td>\n",
       "      <td>0.998824</td>\n",
       "    </tr>\n",
       "    <tr>\n",
       "      <th>37</th>\n",
       "      <td>38</td>\n",
       "      <td>0.999020</td>\n",
       "    </tr>\n",
       "    <tr>\n",
       "      <th>38</th>\n",
       "      <td>39</td>\n",
       "      <td>0.999184</td>\n",
       "    </tr>\n",
       "    <tr>\n",
       "      <th>39</th>\n",
       "      <td>40</td>\n",
       "      <td>0.999320</td>\n",
       "    </tr>\n",
       "    <tr>\n",
       "      <th>40</th>\n",
       "      <td>41</td>\n",
       "      <td>0.999433</td>\n",
       "    </tr>\n",
       "    <tr>\n",
       "      <th>41</th>\n",
       "      <td>42</td>\n",
       "      <td>0.999528</td>\n",
       "    </tr>\n",
       "    <tr>\n",
       "      <th>42</th>\n",
       "      <td>43</td>\n",
       "      <td>0.999606</td>\n",
       "    </tr>\n",
       "    <tr>\n",
       "      <th>43</th>\n",
       "      <td>44</td>\n",
       "      <td>0.999672</td>\n",
       "    </tr>\n",
       "    <tr>\n",
       "      <th>44</th>\n",
       "      <td>45</td>\n",
       "      <td>0.999727</td>\n",
       "    </tr>\n",
       "    <tr>\n",
       "      <th>45</th>\n",
       "      <td>46</td>\n",
       "      <td>0.999772</td>\n",
       "    </tr>\n",
       "    <tr>\n",
       "      <th>46</th>\n",
       "      <td>47</td>\n",
       "      <td>0.999810</td>\n",
       "    </tr>\n",
       "    <tr>\n",
       "      <th>47</th>\n",
       "      <td>48</td>\n",
       "      <td>0.999842</td>\n",
       "    </tr>\n",
       "    <tr>\n",
       "      <th>48</th>\n",
       "      <td>49</td>\n",
       "      <td>0.999868</td>\n",
       "    </tr>\n",
       "    <tr>\n",
       "      <th>49</th>\n",
       "      <td>50</td>\n",
       "      <td>0.999890</td>\n",
       "    </tr>\n",
       "  </tbody>\n",
       "</table>\n",
       "</div>"
      ],
      "text/plain": [
       "    Tiradas  Chance (probabilidad) de al menos un 6\n",
       "0         1                                0.166667\n",
       "1         2                                0.305556\n",
       "2         3                                0.421296\n",
       "3         4                                0.517747\n",
       "4         5                                0.598122\n",
       "5         6                                0.665102\n",
       "6         7                                0.720918\n",
       "7         8                                0.767432\n",
       "8         9                                0.806193\n",
       "9        10                                0.838494\n",
       "10       11                                0.865412\n",
       "11       12                                0.887843\n",
       "12       13                                0.906536\n",
       "13       14                                0.922113\n",
       "14       15                                0.935095\n",
       "15       16                                0.945912\n",
       "16       17                                0.954927\n",
       "17       18                                0.962439\n",
       "18       19                                0.968699\n",
       "19       20                                0.973916\n",
       "20       21                                0.978263\n",
       "21       22                                0.981886\n",
       "22       23                                0.984905\n",
       "23       24                                0.987421\n",
       "24       25                                0.989517\n",
       "25       26                                0.991265\n",
       "26       27                                0.992720\n",
       "27       28                                0.993934\n",
       "28       29                                0.994945\n",
       "29       30                                0.995787\n",
       "30       31                                0.996489\n",
       "31       32                                0.997074\n",
       "32       33                                0.997562\n",
       "33       34                                0.997968\n",
       "34       35                                0.998307\n",
       "35       36                                0.998589\n",
       "36       37                                0.998824\n",
       "37       38                                0.999020\n",
       "38       39                                0.999184\n",
       "39       40                                0.999320\n",
       "40       41                                0.999433\n",
       "41       42                                0.999528\n",
       "42       43                                0.999606\n",
       "43       44                                0.999672\n",
       "44       45                                0.999727\n",
       "45       46                                0.999772\n",
       "46       47                                0.999810\n",
       "47       48                                0.999842\n",
       "48       49                                0.999868\n",
       "49       50                                0.999890"
      ]
     },
     "execution_count": 4,
     "metadata": {},
     "output_type": "execute_result"
    }
   ],
   "source": [
    "import numpy as np \n",
    "import pandas as pd\n",
    "\n",
    "tiradas = np.arange(1, 51, 1)\n",
    "resultados = pd.DataFrame({\n",
    "    'Tiradas': tiradas,\n",
    "    'Chance (probabilidad) de al menos un 6': 1 - (5/6)**tiradas\n",
    "})\n",
    "resultados"
   ]
  },
  {
   "cell_type": "markdown",
   "metadata": {
    "id": "nfXH362NKPSJ"
   },
   "source": [
    "La probabilidad de que aparezca un 6 al menos una vez aumenta rápidamente a medida que el número de tiradas \n",
    "\n",
    "---\n",
    "\n",
    "aumenta."
   ]
  },
  {
   "cell_type": "code",
   "execution_count": 5,
   "metadata": {
    "colab": {
     "base_uri": "https://localhost:8080/",
     "height": 265
    },
    "executionInfo": {
     "elapsed": 671,
     "status": "ok",
     "timestamp": 1618954162230,
     "user": {
      "displayName": "JUAN PABLO HOYOS SANCHEZ",
      "photoUrl": "https://lh3.googleusercontent.com/a-/AOh14Ghdiujk7nkvT3aSSiI2AOJjZCRGNv17LAP8ncls=s64",
      "userId": "13519316655691611120"
     },
     "user_tz": 300
    },
    "id": "O2frVibsB1Mf",
    "outputId": "66f5daf8-1261-4ea2-b1f6-d89cd5c5297a"
   },
   "outputs": [
    {
     "data": {
      "image/png": "[encoded data removed]",
      "text/plain": [
       "<Figure size 640x480 with 1 Axes>"
      ]
     },
     "metadata": {},
     "output_type": "display_data"
    }
   ],
   "source": [
    "import matplotlib.pyplot as plt\n",
    "%matplotlib inline\n",
    "\n",
    "plt.scatter(resultados['Tiradas'],resultados['Chance (probabilidad) de al menos un 6'])\n",
    "plt.grid(True)\n",
    "plt.show()"
   ]
  },
  {
   "cell_type": "markdown",
   "metadata": {
    "id": "wMivPjuJMGJh"
   },
   "source": [
    "En 50 tiradas, es casi seguro que obtendrá al menos un 6."
   ]
  },
  {
   "cell_type": "code",
   "execution_count": 6,
   "metadata": {},
   "outputs": [
    {
     "data": {
      "text/html": [
       "<div>\n",
       "<style scoped>\n",
       "    .dataframe tbody tr th:only-of-type {\n",
       "        vertical-align: middle;\n",
       "    }\n",
       "\n",
       "    .dataframe tbody tr th {\n",
       "        vertical-align: top;\n",
       "    }\n",
       "\n",
       "    .dataframe thead th {\n",
       "        text-align: right;\n",
       "    }\n",
       "</style>\n",
       "<table border=\"1\" class=\"dataframe\">\n",
       "  <thead>\n",
       "    <tr style=\"text-align: right;\">\n",
       "      <th></th>\n",
       "      <th>Tiradas</th>\n",
       "      <th>Chance (probabilidad) de al menos un 6</th>\n",
       "    </tr>\n",
       "  </thead>\n",
       "  <tbody>\n",
       "    <tr>\n",
       "      <th>49</th>\n",
       "      <td>50</td>\n",
       "      <td>0.99989</td>\n",
       "    </tr>\n",
       "  </tbody>\n",
       "</table>\n",
       "</div>"
      ],
      "text/plain": [
       "    Tiradas  Chance (probabilidad) de al menos un 6\n",
       "49       50                                 0.99989"
      ]
     },
     "execution_count": 6,
     "metadata": {},
     "output_type": "execute_result"
    }
   ],
   "source": [
    "resultados[resultados['Tiradas']==50]"
   ]
  },
  {
   "cell_type": "markdown",
   "metadata": {
    "id": "6YVx9-XrMRUP"
   },
   "source": [
    "Este tipo de cálculos puede utilizarse para averiguar la probabilidad de que un individuo concreto sea seleccionado en una muestra aleatoria. El cálculo exacto dependerá del esquema de muestreo. Pero lo que hemos observado anteriormente puede generalizarse: \n",
    "\n",
    "el aumento del tamaño de la muestra aleatoria aumenta la probabilidad de que un individuo sea seleccionado."
   ]
  },
  {
   "cell_type": "markdown",
   "metadata": {
    "id": "an2l4JM75Wyg"
   },
   "source": [
    "# Permutación aleatoria (barajar -shuffle)\n",
    "\n",
    "Una permutación es la variación del orden o posición de los elementos de un conjunto ordenado o una tupla."
   ]
  },
  {
   "cell_type": "code",
   "execution_count": 7,
   "metadata": {},
   "outputs": [],
   "source": [
    "cartas = pd.DataFrame({'Carta': np.array(['a', 'b', 'c', 'd', 'e'])})"
   ]
  },
  {
   "cell_type": "code",
   "execution_count": 31,
   "metadata": {},
   "outputs": [
    {
     "data": {
      "text/html": [
       "<div>\n",
       "<style scoped>\n",
       "    .dataframe tbody tr th:only-of-type {\n",
       "        vertical-align: middle;\n",
       "    }\n",
       "\n",
       "    .dataframe tbody tr th {\n",
       "        vertical-align: top;\n",
       "    }\n",
       "\n",
       "    .dataframe thead th {\n",
       "        text-align: right;\n",
       "    }\n",
       "</style>\n",
       "<table border=\"1\" class=\"dataframe\">\n",
       "  <thead>\n",
       "    <tr style=\"text-align: right;\">\n",
       "      <th></th>\n",
       "      <th>Carta</th>\n",
       "    </tr>\n",
       "  </thead>\n",
       "  <tbody>\n",
       "    <tr>\n",
       "      <th>1</th>\n",
       "      <td>b</td>\n",
       "    </tr>\n",
       "    <tr>\n",
       "      <th>2</th>\n",
       "      <td>c</td>\n",
       "    </tr>\n",
       "    <tr>\n",
       "      <th>4</th>\n",
       "      <td>e</td>\n",
       "    </tr>\n",
       "    <tr>\n",
       "      <th>0</th>\n",
       "      <td>a</td>\n",
       "    </tr>\n",
       "    <tr>\n",
       "      <th>3</th>\n",
       "      <td>d</td>\n",
       "    </tr>\n",
       "  </tbody>\n",
       "</table>\n",
       "</div>"
      ],
      "text/plain": [
       "  Carta\n",
       "1     b\n",
       "2     c\n",
       "4     e\n",
       "0     a\n",
       "3     d"
      ]
     },
     "execution_count": 31,
     "metadata": {},
     "output_type": "execute_result"
    }
   ],
   "source": [
    "cartas.sample(5)"
   ]
  },
  {
   "cell_type": "code",
   "execution_count": 43,
   "metadata": {
    "colab": {
     "base_uri": "https://localhost:8080/",
     "height": 204
    },
    "executionInfo": {
     "elapsed": 357,
     "status": "ok",
     "timestamp": 1619268115130,
     "user": {
      "displayName": "JUAN PABLO HOYOS SANCHEZ",
      "photoUrl": "https://lh3.googleusercontent.com/a-/AOh14Ghdiujk7nkvT3aSSiI2AOJjZCRGNv17LAP8ncls=s64",
      "userId": "13519316655691611120"
     },
     "user_tz": 300
    },
    "id": "wp8tp63d5mW0",
    "outputId": "39519e1c-51d5-4c3e-c100-5d8e7960fcd6"
   },
   "outputs": [
    {
     "data": {
      "text/html": [
       "<div>\n",
       "<style scoped>\n",
       "    .dataframe tbody tr th:only-of-type {\n",
       "        vertical-align: middle;\n",
       "    }\n",
       "\n",
       "    .dataframe tbody tr th {\n",
       "        vertical-align: top;\n",
       "    }\n",
       "\n",
       "    .dataframe thead th {\n",
       "        text-align: right;\n",
       "    }\n",
       "</style>\n",
       "<table border=\"1\" class=\"dataframe\">\n",
       "  <thead>\n",
       "    <tr style=\"text-align: right;\">\n",
       "      <th></th>\n",
       "      <th>Carta</th>\n",
       "    </tr>\n",
       "  </thead>\n",
       "  <tbody>\n",
       "    <tr>\n",
       "      <th>2</th>\n",
       "      <td>c</td>\n",
       "    </tr>\n",
       "    <tr>\n",
       "      <th>4</th>\n",
       "      <td>e</td>\n",
       "    </tr>\n",
       "    <tr>\n",
       "      <th>3</th>\n",
       "      <td>d</td>\n",
       "    </tr>\n",
       "    <tr>\n",
       "      <th>0</th>\n",
       "      <td>a</td>\n",
       "    </tr>\n",
       "    <tr>\n",
       "      <th>1</th>\n",
       "      <td>b</td>\n",
       "    </tr>\n",
       "  </tbody>\n",
       "</table>\n",
       "</div>"
      ],
      "text/plain": [
       "  Carta\n",
       "2     c\n",
       "4     e\n",
       "3     d\n",
       "0     a\n",
       "1     b"
      ]
     },
     "execution_count": 43,
     "metadata": {},
     "output_type": "execute_result"
    }
   ],
   "source": [
    "cartas.sample(5, replace = False)"
   ]
  },
  {
   "cell_type": "code",
   "execution_count": 49,
   "metadata": {},
   "outputs": [
    {
     "data": {
      "text/html": [
       "<div>\n",
       "<style scoped>\n",
       "    .dataframe tbody tr th:only-of-type {\n",
       "        vertical-align: middle;\n",
       "    }\n",
       "\n",
       "    .dataframe tbody tr th {\n",
       "        vertical-align: top;\n",
       "    }\n",
       "\n",
       "    .dataframe thead th {\n",
       "        text-align: right;\n",
       "    }\n",
       "</style>\n",
       "<table border=\"1\" class=\"dataframe\">\n",
       "  <thead>\n",
       "    <tr style=\"text-align: right;\">\n",
       "      <th></th>\n",
       "      <th>Carta</th>\n",
       "      <th>Barajada</th>\n",
       "    </tr>\n",
       "  </thead>\n",
       "  <tbody>\n",
       "    <tr>\n",
       "      <th>0</th>\n",
       "      <td>a</td>\n",
       "      <td>e</td>\n",
       "    </tr>\n",
       "    <tr>\n",
       "      <th>1</th>\n",
       "      <td>b</td>\n",
       "      <td>b</td>\n",
       "    </tr>\n",
       "    <tr>\n",
       "      <th>2</th>\n",
       "      <td>c</td>\n",
       "      <td>c</td>\n",
       "    </tr>\n",
       "    <tr>\n",
       "      <th>3</th>\n",
       "      <td>d</td>\n",
       "      <td>d</td>\n",
       "    </tr>\n",
       "    <tr>\n",
       "      <th>4</th>\n",
       "      <td>e</td>\n",
       "      <td>a</td>\n",
       "    </tr>\n",
       "  </tbody>\n",
       "</table>\n",
       "</div>"
      ],
      "text/plain": [
       "  Carta Barajada\n",
       "0     a        e\n",
       "1     b        b\n",
       "2     c        c\n",
       "3     d        d\n",
       "4     e        a"
      ]
     },
     "execution_count": 49,
     "metadata": {},
     "output_type": "execute_result"
    }
   ],
   "source": [
    "cartas['Barajada'] = cartas.sample(5, replace = False)['Carta'].values\n",
    "cartas"
   ]
  },
  {
   "cell_type": "code",
   "execution_count": 50,
   "metadata": {},
   "outputs": [
    {
     "data": {
      "text/plain": [
       "array(['e', 'c', 'd', 'a', 'd', 'e', 'a', 'c', 'a', 'e'], dtype=object)"
      ]
     },
     "execution_count": 50,
     "metadata": {},
     "output_type": "execute_result"
    }
   ],
   "source": [
    "ten_cartas = np.random.choice(cartas['Carta'], 10)\n",
    "ten_cartas"
   ]
  },
  {
   "cell_type": "markdown",
   "metadata": {},
   "source": [
    "**Ejercicio:** Vamos a simular 100 lanzamiento de una moneda, y encontrar las probabilidades. Luego analiza que pasa cuando se ralzian 2000 lanzamientos. Crea un percentil como el de la figura."
   ]
  },
  {
   "cell_type": "code",
   "execution_count": 78,
   "metadata": {},
   "outputs": [
    {
     "data": {
      "text/html": [
       "<div>\n",
       "<style scoped>\n",
       "    .dataframe tbody tr th:only-of-type {\n",
       "        vertical-align: middle;\n",
       "    }\n",
       "\n",
       "    .dataframe tbody tr th {\n",
       "        vertical-align: top;\n",
       "    }\n",
       "\n",
       "    .dataframe thead th {\n",
       "        text-align: right;\n",
       "    }\n",
       "</style>\n",
       "<table border=\"1\" class=\"dataframe\">\n",
       "  <thead>\n",
       "    <tr style=\"text-align: right;\">\n",
       "      <th></th>\n",
       "      <th>Repeticion</th>\n",
       "      <th>Numero de Caras</th>\n",
       "    </tr>\n",
       "  </thead>\n",
       "  <tbody>\n",
       "    <tr>\n",
       "      <th>0</th>\n",
       "      <td>1</td>\n",
       "      <td>50</td>\n",
       "    </tr>\n",
       "    <tr>\n",
       "      <th>1</th>\n",
       "      <td>2</td>\n",
       "      <td>50</td>\n",
       "    </tr>\n",
       "    <tr>\n",
       "      <th>2</th>\n",
       "      <td>3</td>\n",
       "      <td>41</td>\n",
       "    </tr>\n",
       "    <tr>\n",
       "      <th>3</th>\n",
       "      <td>4</td>\n",
       "      <td>56</td>\n",
       "    </tr>\n",
       "    <tr>\n",
       "      <th>4</th>\n",
       "      <td>5</td>\n",
       "      <td>52</td>\n",
       "    </tr>\n",
       "    <tr>\n",
       "      <th>...</th>\n",
       "      <td>...</td>\n",
       "      <td>...</td>\n",
       "    </tr>\n",
       "    <tr>\n",
       "      <th>19995</th>\n",
       "      <td>19996</td>\n",
       "      <td>41</td>\n",
       "    </tr>\n",
       "    <tr>\n",
       "      <th>19996</th>\n",
       "      <td>19997</td>\n",
       "      <td>52</td>\n",
       "    </tr>\n",
       "    <tr>\n",
       "      <th>19997</th>\n",
       "      <td>19998</td>\n",
       "      <td>50</td>\n",
       "    </tr>\n",
       "    <tr>\n",
       "      <th>19998</th>\n",
       "      <td>19999</td>\n",
       "      <td>53</td>\n",
       "    </tr>\n",
       "    <tr>\n",
       "      <th>19999</th>\n",
       "      <td>20000</td>\n",
       "      <td>50</td>\n",
       "    </tr>\n",
       "  </tbody>\n",
       "</table>\n",
       "<p>20000 rows × 2 columns</p>\n",
       "</div>"
      ],
      "text/plain": [
       "       Repeticion  Numero de Caras\n",
       "0               1               50\n",
       "1               2               50\n",
       "2               3               41\n",
       "3               4               56\n",
       "4               5               52\n",
       "...           ...              ...\n",
       "19995       19996               41\n",
       "19996       19997               52\n",
       "19997       19998               50\n",
       "19998       19999               53\n",
       "19999       20000               50\n",
       "\n",
       "[20000 rows x 2 columns]"
      ]
     },
     "execution_count": 78,
     "metadata": {},
     "output_type": "execute_result"
    }
   ],
   "source": [
    "simulation_results"
   ]
  },
  {
   "cell_type": "code",
   "execution_count": 75,
   "metadata": {},
   "outputs": [
    {
     "data": {
      "text/plain": [
       "array([[<Axes: title={'center': 'Numero de Caras'}>]], dtype=object)"
      ]
     },
     "execution_count": 75,
     "metadata": {},
     "output_type": "execute_result"
    },
    {
     "data": {
      "image/png": "[encoded data removed]",
      "text/plain": [
       "<Figure size 640x480 with 1 Axes>"
      ]
     },
     "metadata": {},
     "output_type": "display_data"
    }
   ],
   "source": [
    "simulation_results.hist('Numero de Caras', bins = np.arange(30.5, 69.6, 1))"
   ]
  },
  {
   "cell_type": "code",
   "execution_count": 53,
   "metadata": {},
   "outputs": [
    {
     "data": {
      "text/html": [
       "<div>\n",
       "<style scoped>\n",
       "    .dataframe tbody tr th:only-of-type {\n",
       "        vertical-align: middle;\n",
       "    }\n",
       "\n",
       "    .dataframe tbody tr th {\n",
       "        vertical-align: top;\n",
       "    }\n",
       "\n",
       "    .dataframe thead th {\n",
       "        text-align: right;\n",
       "    }\n",
       "</style>\n",
       "<table border=\"1\" class=\"dataframe\">\n",
       "  <thead>\n",
       "    <tr style=\"text-align: right;\">\n",
       "      <th></th>\n",
       "      <th>Tiradas</th>\n",
       "      <th>Probabilidad(Cara)</th>\n",
       "    </tr>\n",
       "  </thead>\n",
       "  <tbody>\n",
       "    <tr>\n",
       "      <th>0</th>\n",
       "      <td>1</td>\n",
       "      <td>0.50000</td>\n",
       "    </tr>\n",
       "    <tr>\n",
       "      <th>1</th>\n",
       "      <td>2</td>\n",
       "      <td>0.75000</td>\n",
       "    </tr>\n",
       "    <tr>\n",
       "      <th>2</th>\n",
       "      <td>3</td>\n",
       "      <td>0.87500</td>\n",
       "    </tr>\n",
       "    <tr>\n",
       "      <th>3</th>\n",
       "      <td>4</td>\n",
       "      <td>0.93750</td>\n",
       "    </tr>\n",
       "    <tr>\n",
       "      <th>4</th>\n",
       "      <td>5</td>\n",
       "      <td>0.96875</td>\n",
       "    </tr>\n",
       "    <tr>\n",
       "      <th>...</th>\n",
       "      <td>...</td>\n",
       "      <td>...</td>\n",
       "    </tr>\n",
       "    <tr>\n",
       "      <th>94</th>\n",
       "      <td>95</td>\n",
       "      <td>1.00000</td>\n",
       "    </tr>\n",
       "    <tr>\n",
       "      <th>95</th>\n",
       "      <td>96</td>\n",
       "      <td>1.00000</td>\n",
       "    </tr>\n",
       "    <tr>\n",
       "      <th>96</th>\n",
       "      <td>97</td>\n",
       "      <td>1.00000</td>\n",
       "    </tr>\n",
       "    <tr>\n",
       "      <th>97</th>\n",
       "      <td>98</td>\n",
       "      <td>1.00000</td>\n",
       "    </tr>\n",
       "    <tr>\n",
       "      <th>98</th>\n",
       "      <td>99</td>\n",
       "      <td>1.00000</td>\n",
       "    </tr>\n",
       "  </tbody>\n",
       "</table>\n",
       "<p>99 rows × 2 columns</p>\n",
       "</div>"
      ],
      "text/plain": [
       "    Tiradas  Probabilidad(Cara)\n",
       "0         1             0.50000\n",
       "1         2             0.75000\n",
       "2         3             0.87500\n",
       "3         4             0.93750\n",
       "4         5             0.96875\n",
       "..      ...                 ...\n",
       "94       95             1.00000\n",
       "95       96             1.00000\n",
       "96       97             1.00000\n",
       "97       98             1.00000\n",
       "98       99             1.00000\n",
       "\n",
       "[99 rows x 2 columns]"
      ]
     },
     "execution_count": 53,
     "metadata": {},
     "output_type": "execute_result"
    }
   ],
   "source": [
    "import numpy as np\n",
    "\n",
    "def lanzamiento_moneda(n_lanzamientos):\n",
    "    tiradas = np.arange(1, n_lanzamientos, 1)\n",
    "        \n",
    "    tabla = pd.DataFrame({\"Tiradas\" : tiradas, \n",
    "                          \"Probabilidad(Cara)\":1-(0.5)**tiradas} )\n",
    "    return tabla\n",
    "\n",
    "lanzamiento_moneda(100)"
   ]
  },
  {
   "cell_type": "code",
   "execution_count": 67,
   "metadata": {},
   "outputs": [
    {
     "data": {
      "text/plain": [
       "array(['cara', 'sello', 'cara', 'sello', 'sello', 'cara', 'cara', 'sello',\n",
       "       'sello', 'sello'], dtype='<U5')"
      ]
     },
     "execution_count": 67,
     "metadata": {},
     "output_type": "execute_result"
    }
   ],
   "source": [
    "moneda = np.array([\"cara\", \"sello\"])\n",
    "\n",
    "ten_moneda = np.random.choice(moneda, 10)\n",
    "ten_moneda"
   ]
  },
  {
   "cell_type": "code",
   "execution_count": 69,
   "metadata": {},
   "outputs": [
    {
     "data": {
      "text/plain": [
       "4"
      ]
     },
     "execution_count": 69,
     "metadata": {},
     "output_type": "execute_result"
    }
   ],
   "source": [
    "np.count_nonzero(ten_moneda == \"cara\")"
   ]
  },
  {
   "cell_type": "code",
   "execution_count": 75,
   "metadata": {},
   "outputs": [
    {
     "data": {
      "text/plain": [
       "45"
      ]
     },
     "execution_count": 75,
     "metadata": {},
     "output_type": "execute_result"
    }
   ],
   "source": [
    "def simulacion_un_valor(n_muestra):\n",
    "    resultados = np.random.choice(moneda, n_muestra)\n",
    "    return np.count_nonzero(resultados == \"cara\")\n",
    "\n",
    "simulacion_un_valor(100)"
   ]
  },
  {
   "cell_type": "code",
   "execution_count": 76,
   "metadata": {},
   "outputs": [],
   "source": [
    "REPETICIONES  = 22000\n",
    "\n",
    "caras = np.array([], dtype=int)\n",
    "\n",
    "for i in np.arange(REPETICIONES):\n",
    "    new_valor = simulacion_un_valor(100)\n",
    "    caras = np.append(caras, new_valor)"
   ]
  },
  {
   "cell_type": "code",
   "execution_count": 77,
   "metadata": {},
   "outputs": [
    {
     "data": {
      "text/html": [
       "<div>\n",
       "<style scoped>\n",
       "    .dataframe tbody tr th:only-of-type {\n",
       "        vertical-align: middle;\n",
       "    }\n",
       "\n",
       "    .dataframe tbody tr th {\n",
       "        vertical-align: top;\n",
       "    }\n",
       "\n",
       "    .dataframe thead th {\n",
       "        text-align: right;\n",
       "    }\n",
       "</style>\n",
       "<table border=\"1\" class=\"dataframe\">\n",
       "  <thead>\n",
       "    <tr style=\"text-align: right;\">\n",
       "      <th></th>\n",
       "      <th>Repeticion</th>\n",
       "      <th>Numero de Caras</th>\n",
       "    </tr>\n",
       "  </thead>\n",
       "  <tbody>\n",
       "    <tr>\n",
       "      <th>0</th>\n",
       "      <td>1</td>\n",
       "      <td>55</td>\n",
       "    </tr>\n",
       "    <tr>\n",
       "      <th>1</th>\n",
       "      <td>2</td>\n",
       "      <td>47</td>\n",
       "    </tr>\n",
       "    <tr>\n",
       "      <th>2</th>\n",
       "      <td>3</td>\n",
       "      <td>49</td>\n",
       "    </tr>\n",
       "    <tr>\n",
       "      <th>3</th>\n",
       "      <td>4</td>\n",
       "      <td>60</td>\n",
       "    </tr>\n",
       "    <tr>\n",
       "      <th>4</th>\n",
       "      <td>5</td>\n",
       "      <td>51</td>\n",
       "    </tr>\n",
       "    <tr>\n",
       "      <th>...</th>\n",
       "      <td>...</td>\n",
       "      <td>...</td>\n",
       "    </tr>\n",
       "    <tr>\n",
       "      <th>21995</th>\n",
       "      <td>21996</td>\n",
       "      <td>45</td>\n",
       "    </tr>\n",
       "    <tr>\n",
       "      <th>21996</th>\n",
       "      <td>21997</td>\n",
       "      <td>44</td>\n",
       "    </tr>\n",
       "    <tr>\n",
       "      <th>21997</th>\n",
       "      <td>21998</td>\n",
       "      <td>55</td>\n",
       "    </tr>\n",
       "    <tr>\n",
       "      <th>21998</th>\n",
       "      <td>21999</td>\n",
       "      <td>47</td>\n",
       "    </tr>\n",
       "    <tr>\n",
       "      <th>21999</th>\n",
       "      <td>22000</td>\n",
       "      <td>38</td>\n",
       "    </tr>\n",
       "  </tbody>\n",
       "</table>\n",
       "<p>22000 rows × 2 columns</p>\n",
       "</div>"
      ],
      "text/plain": [
       "       Repeticion  Numero de Caras\n",
       "0               1               55\n",
       "1               2               47\n",
       "2               3               49\n",
       "3               4               60\n",
       "4               5               51\n",
       "...           ...              ...\n",
       "21995       21996               45\n",
       "21996       21997               44\n",
       "21997       21998               55\n",
       "21998       21999               47\n",
       "21999       22000               38\n",
       "\n",
       "[22000 rows x 2 columns]"
      ]
     },
     "execution_count": 77,
     "metadata": {},
     "output_type": "execute_result"
    }
   ],
   "source": [
    "resultados_simulacion = pd.DataFrame({\n",
    "    'Repeticion' : np.arange(1, REPETICIONES + 1),\n",
    "    'Numero de Caras' : caras\n",
    "})\n",
    "resultados_simulacion"
   ]
  },
  {
   "cell_type": "code",
   "execution_count": 78,
   "metadata": {},
   "outputs": [
    {
     "data": {
      "text/plain": [
       "array([[<Axes: title={'center': 'Numero de Caras'}>]], dtype=object)"
      ]
     },
     "execution_count": 78,
     "metadata": {},
     "output_type": "execute_result"
    },
    {
     "data": {
      "image/png": "[encoded data removed]",
      "text/plain": [
       "<Figure size 640x480 with 1 Axes>"
      ]
     },
     "metadata": {},
     "output_type": "display_data"
    }
   ],
   "source": [
    "resultados_simulacion.hist('Numero de Caras', bins = np.arange(30.5, 69.1, 1) )"
   ]
  }
 ],
 "metadata": {
  "colab": {
   "authorship_tag": "ABX9TyPcSxTLa0dEAe1DtffP2HJn",
   "name": "Clase3-Probabilidad.ipynb",
   "provenance": []
  },
  "kernelspec": {
   "display_name": "Python 3",
   "language": "python",
   "name": "python3"
  },
  "language_info": {
   "codemirror_mode": {
    "name": "ipython",
    "version": 3
   },
   "file_extension": ".py",
   "mimetype": "text/x-python",
   "name": "python",
   "nbconvert_exporter": "python",
   "pygments_lexer": "ipython3",
   "version": "3.11.0"
  }
 },
 "nbformat": 4,
 "nbformat_minor": 0
}
