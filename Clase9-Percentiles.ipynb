{
 "cells": [
  {
   "cell_type": "markdown",
   "metadata": {
    "id": "Q0bzei1dI0bn"
   },
   "source": [
    "#  Percentiles\n",
    "Los datos numéricos pueden clasificarse en orden creciente o decreciente. Así, los valores de un conjunto de datos numéricos tienen un *orden de rango*. Un percentil es el valor de un rango determinado.\n",
    "\n",
    "Por ejemplo, si tu puntuación en un examen está en el percentil 95, una interpretación común es que sólo el 5% de las puntuaciones fueron superiores a la tuya. La mediana es el percentil 50; se suele suponer que el 50% de los valores de un conjunto de datos están por encima de la mediana.\n",
    "\n",
    "Pero hay que tener cierto cuidado para dar a los percentiles una definición precisa que funcione para todos los rangos y todas las listas. Para ver por qué, consideremos un ejemplo extremo en el que todos los alumnos de una clase obtienen una puntuación de 75 en un examen. Entonces, 75 es un candidato natural para la mediana, pero no es cierto que el 50% de las puntuaciones sean superiores a 75. Además, 75 es un candidato igualmente natural para el percentil 95 o el 25 o cualquier otro percentil. Al definir los percentiles hay que tener en cuenta los empates, es decir, los valores iguales de los datos.\n"
   ]
  },
  {
   "cell_type": "markdown",
   "metadata": {},
   "source": [
    "El percentil p-ésimo es el primer valor en la lista ordenada que es al menos tan grande como el p% de los elementos.\n",
    "\n",
    "**Ejemplo:**\n",
    "```python\n",
    "s = [1, 7, 3, 9, 5]\n",
    "s_ordenado = [1, 3, 5, 7, 9]"
   ]
  },
  {
   "cell_type": "markdown",
   "metadata": {},
   "source": [
    "El percentil 80 es el elemento ordenado en la posición 4: (80/100) * 5"
   ]
  },
  {
   "cell_type": "markdown",
   "metadata": {},
   "source": [
    "**Cálculo:**\n",
    "- n = 5 (número de elementos)\n",
    "- Posición = (p/100) * n = (80/100) * 5 = 4\n",
    "- s_ordenado[4] = 9 (considerando indexación base 0)"
   ]
  },
  {
   "cell_type": "markdown",
   "metadata": {
    "id": "FFffeusXJXmU"
   },
   "source": [
    "## Un ejemplo numérico\n",
    "Antes de dar una definición general, definiremos el percentil 80 de una colección de valores como el valor más pequeño de la colección que es al menos tan grande como el 80% de todos los valores."
   ]
  },
  {
   "cell_type": "code",
   "execution_count": 1,
   "metadata": {
    "colab": {
     "base_uri": "https://localhost:8080/"
    },
    "executionInfo": {
     "elapsed": 1588,
     "status": "ok",
     "timestamp": 1619826147516,
     "user": {
      "displayName": "JUAN PABLO HOYOS SANCHEZ",
      "photoUrl": "https://lh3.googleusercontent.com/a-/AOh14Ghdiujk7nkvT3aSSiI2AOJjZCRGNv17LAP8ncls=s64",
      "userId": "13519316655691611120"
     },
     "user_tz": 300
    },
    "id": "_IVpXAHuIvXd",
    "outputId": "63d65d08-15ba-4dff-87a0-c3ec0dca292d"
   },
   "outputs": [],
   "source": [
    "import numpy as np\n",
    "import pandas as pd\n",
    "\n",
    "tamaños = np.array([12, 17, 6, 9, 7])"
   ]
  },
  {
   "cell_type": "markdown",
   "metadata": {
    "id": "CfP_gMPHP3kO"
   },
   "source": [
    "\n",
    "El percentil 80 es el valor más pequeño que es al menos tan grande como el 80% de los elementos de `tamaño`, es decir, las cuatro quintas partes de los cinco elementos. Son 12:"
   ]
  },
  {
   "cell_type": "code",
   "execution_count": 2,
   "metadata": {
    "colab": {
     "base_uri": "https://localhost:8080/"
    },
    "executionInfo": {
     "elapsed": 1223,
     "status": "ok",
     "timestamp": 1619653992550,
     "user": {
      "displayName": "JUAN PABLO HOYOS SANCHEZ",
      "photoUrl": "https://lh3.googleusercontent.com/a-/AOh14Ghdiujk7nkvT3aSSiI2AOJjZCRGNv17LAP8ncls=s64",
      "userId": "13519316655691611120"
     },
     "user_tz": 300
    },
    "id": "mEOSrLqMPyH4",
    "outputId": "39af4a9c-8409-40e4-c1c4-85c407885ac0"
   },
   "outputs": [
    {
     "data": {
      "text/plain": [
       "array([ 6,  7,  9, 12, 17])"
      ]
     },
     "execution_count": 2,
     "metadata": {},
     "output_type": "execute_result"
    }
   ],
   "source": [
    "np.sort(tamaños)"
   ]
  },
  {
   "cell_type": "markdown",
   "metadata": {
    "id": "XRvYLRsdQDVp"
   },
   "source": [
    "El percentil 80 es un valor de la lista, concretamente 12. Se puede ver que el 80% de los valores son menores o iguales a él, y que es el valor más pequeño de la lista para el que esto es cierto.\n",
    "\n",
    "Análogamente, el percentil 70 es el valor más pequeño de la colección que es al menos tan grande como el 70% de los elementos de `tamaño`. Ahora el 70% de 5 elementos es \"3,5 elementos\", por lo que el percentil 70 es el 4º elemento de la lista. Eso es 12, lo mismo que el percentil 80 para estos datos."
   ]
  },
  {
   "cell_type": "markdown",
   "metadata": {
    "id": "UQSzLCaLQPmT"
   },
   "source": [
    "## La función \"percentil\".\n",
    "La función `percentil` toma dos argumentos: un rango entre 0 y 100, y un array. Devuelve el percentil correspondiente del array."
   ]
  },
  {
   "cell_type": "code",
   "execution_count": 7,
   "metadata": {
    "colab": {
     "base_uri": "https://localhost:8080/"
    },
    "executionInfo": {
     "elapsed": 1216,
     "status": "ok",
     "timestamp": 1619653992550,
     "user": {
      "displayName": "JUAN PABLO HOYOS SANCHEZ",
      "photoUrl": "https://lh3.googleusercontent.com/a-/AOh14Ghdiujk7nkvT3aSSiI2AOJjZCRGNv17LAP8ncls=s64",
      "userId": "13519316655691611120"
     },
     "user_tz": 300
    },
    "id": "9Yk1vly4P9eh",
    "outputId": "452a2f2e-8ee5-42f2-cb44-8ef5c61d26bd"
   },
   "outputs": [
    {
     "data": {
      "text/plain": [
       "np.float64(11.399999999999999)"
      ]
     },
     "execution_count": 7,
     "metadata": {},
     "output_type": "execute_result"
    }
   ],
   "source": [
    "np.percentile(tamaños, 70)"
   ]
  },
  {
   "cell_type": "markdown",
   "metadata": {
    "id": "m-7yM2BTRjNS"
   },
   "source": [
    "### Ejemplo\n",
    "La tabla `valoracion_unidades` contiene una fila por evaluacion dada por unidad de la empresa. Las columnas son la unidad y la valoracion dada."
   ]
  },
  {
   "cell_type": "code",
   "execution_count": 8,
   "metadata": {
    "colab": {
     "base_uri": "https://localhost:8080/",
     "height": 388
    },
    "executionInfo": {
     "elapsed": 1070,
     "status": "ok",
     "timestamp": 1619826151848,
     "user": {
      "displayName": "JUAN PABLO HOYOS SANCHEZ",
      "photoUrl": "https://lh3.googleusercontent.com/a-/AOh14Ghdiujk7nkvT3aSSiI2AOJjZCRGNv17LAP8ncls=s64",
      "userId": "13519316655691611120"
     },
     "user_tz": 300
    },
    "id": "5ECvQeezQUC9",
    "outputId": "7eae5090-7d40-4cf7-f902-15ccf25f19cd"
   },
   "outputs": [
    {
     "data": {
      "text/html": [
       "<div>\n",
       "<style scoped>\n",
       "    .dataframe tbody tr th:only-of-type {\n",
       "        vertical-align: middle;\n",
       "    }\n",
       "\n",
       "    .dataframe tbody tr th {\n",
       "        vertical-align: top;\n",
       "    }\n",
       "\n",
       "    .dataframe thead th {\n",
       "        text-align: right;\n",
       "    }\n",
       "</style>\n",
       "<table border=\"1\" class=\"dataframe\">\n",
       "  <thead>\n",
       "    <tr style=\"text-align: right;\">\n",
       "      <th></th>\n",
       "      <th>Unidad</th>\n",
       "      <th>Valoracion</th>\n",
       "    </tr>\n",
       "  </thead>\n",
       "  <tbody>\n",
       "    <tr>\n",
       "      <th>0</th>\n",
       "      <td>1</td>\n",
       "      <td>22</td>\n",
       "    </tr>\n",
       "    <tr>\n",
       "      <th>1</th>\n",
       "      <td>2</td>\n",
       "      <td>12</td>\n",
       "    </tr>\n",
       "    <tr>\n",
       "      <th>2</th>\n",
       "      <td>2</td>\n",
       "      <td>23</td>\n",
       "    </tr>\n",
       "    <tr>\n",
       "      <th>3</th>\n",
       "      <td>2</td>\n",
       "      <td>14</td>\n",
       "    </tr>\n",
       "    <tr>\n",
       "      <th>4</th>\n",
       "      <td>1</td>\n",
       "      <td>20</td>\n",
       "    </tr>\n",
       "    <tr>\n",
       "      <th>...</th>\n",
       "      <td>...</td>\n",
       "      <td>...</td>\n",
       "    </tr>\n",
       "    <tr>\n",
       "      <th>354</th>\n",
       "      <td>5</td>\n",
       "      <td>24</td>\n",
       "    </tr>\n",
       "    <tr>\n",
       "      <th>355</th>\n",
       "      <td>2</td>\n",
       "      <td>16</td>\n",
       "    </tr>\n",
       "    <tr>\n",
       "      <th>356</th>\n",
       "      <td>2</td>\n",
       "      <td>17</td>\n",
       "    </tr>\n",
       "    <tr>\n",
       "      <th>357</th>\n",
       "      <td>12</td>\n",
       "      <td>16</td>\n",
       "    </tr>\n",
       "    <tr>\n",
       "      <th>358</th>\n",
       "      <td>10</td>\n",
       "      <td>14</td>\n",
       "    </tr>\n",
       "  </tbody>\n",
       "</table>\n",
       "<p>359 rows × 2 columns</p>\n",
       "</div>"
      ],
      "text/plain": [
       "     Unidad  Valoracion\n",
       "0         1          22\n",
       "1         2          12\n",
       "2         2          23\n",
       "3         2          14\n",
       "4         1          20\n",
       "..      ...         ...\n",
       "354       5          24\n",
       "355       2          16\n",
       "356       2          17\n",
       "357      12          16\n",
       "358      10          14\n",
       "\n",
       "[359 rows x 2 columns]"
      ]
     },
     "execution_count": 8,
     "metadata": {},
     "output_type": "execute_result"
    }
   ],
   "source": [
    "valoracion_unidades = pd.read_csv('https://raw.githubusercontent.com/jphoyos/fup/main/data/valoracion_unidad.csv')\n",
    "valoracion_unidades"
   ]
  },
  {
   "cell_type": "code",
   "execution_count": 9,
   "metadata": {},
   "outputs": [
    {
     "data": {
      "image/png": "[encoded data removed]",
      "text/plain": [
       "<Figure size 1000x480 with 1 Axes>"
      ]
     },
     "metadata": {},
     "output_type": "display_data"
    }
   ],
   "source": [
    "import matplotlib.pyplot as plot\n",
    "%matplotlib inline\n",
    "\n",
    "intervalos = np.arange(-0.5, 25.6, 1)\n",
    "fig, ax1 = plot.subplots()\n",
    "fig.set_figwidth(10, forward=True)\n",
    "\n",
    "plot.hist(x=valoracion_unidades['Valoracion'], bins=intervalos, color='#F2AB6D', rwidth=1, edgecolor='black')\n",
    "plot.title('Histograma de Frecuencias Relativas')\n",
    "plot.xlabel('Valoracion')\n",
    "plot.ylabel('Frecuencia')\n",
    "#plot.xticks(intervalos)\n",
    "plot.show() #se dibuja el histograma"
   ]
  },
  {
   "cell_type": "markdown",
   "metadata": {
    "id": "LSUGo_IeV0Hj"
   },
   "source": [
    "¿Cuál es el percentil 85 de las puntuaciones? Para utilizar la función `percentil`, crea una matriz `valoracion` que contenga las puntuaciones de los parciales, y encuentra el percentil 75 y 85:"
   ]
  },
  {
   "cell_type": "code",
   "execution_count": 12,
   "metadata": {
    "executionInfo": {
     "elapsed": 669,
     "status": "ok",
     "timestamp": 1619826424798,
     "user": {
      "displayName": "JUAN PABLO HOYOS SANCHEZ",
      "photoUrl": "https://lh3.googleusercontent.com/a-/AOh14Ghdiujk7nkvT3aSSiI2AOJjZCRGNv17LAP8ncls=s64",
      "userId": "13519316655691611120"
     },
     "user_tz": 300
    },
    "id": "1kThfX2oUFTS"
   },
   "outputs": [
    {
     "data": {
      "text/plain": [
       "0      22\n",
       "1      12\n",
       "2      23\n",
       "3      14\n",
       "4      20\n",
       "       ..\n",
       "354    24\n",
       "355    16\n",
       "356    17\n",
       "357    16\n",
       "358    14\n",
       "Name: Valoracion, Length: 359, dtype: int64"
      ]
     },
     "execution_count": 12,
     "metadata": {},
     "output_type": "execute_result"
    }
   ],
   "source": [
    "valoracion = valoracion_unidades.iloc[:,1]\n",
    "valoracion"
   ]
  },
  {
   "cell_type": "code",
   "execution_count": 11,
   "metadata": {
    "colab": {
     "base_uri": "https://localhost:8080/"
    },
    "executionInfo": {
     "elapsed": 656,
     "status": "ok",
     "timestamp": 1619826595596,
     "user": {
      "displayName": "JUAN PABLO HOYOS SANCHEZ",
      "photoUrl": "https://lh3.googleusercontent.com/a-/AOh14Ghdiujk7nkvT3aSSiI2AOJjZCRGNv17LAP8ncls=s64",
      "userId": "13519316655691611120"
     },
     "user_tz": 300
    },
    "id": "_jP6gV6eV-eF",
    "outputId": "9a1f3e95-e373-4b10-ae71-f2bdd3fa321a"
   },
   "outputs": [
    {
     "data": {
      "text/plain": [
       "np.float64(20.0)"
      ]
     },
     "execution_count": 11,
     "metadata": {},
     "output_type": "execute_result"
    }
   ],
   "source": [
    "np.percentile(valoracion, 75)"
   ]
  },
  {
   "cell_type": "code",
   "execution_count": 13,
   "metadata": {
    "colab": {
     "base_uri": "https://localhost:8080/"
    },
    "executionInfo": {
     "elapsed": 829,
     "status": "ok",
     "timestamp": 1619826577442,
     "user": {
      "displayName": "JUAN PABLO HOYOS SANCHEZ",
      "photoUrl": "https://lh3.googleusercontent.com/a-/AOh14Ghdiujk7nkvT3aSSiI2AOJjZCRGNv17LAP8ncls=s64",
      "userId": "13519316655691611120"
     },
     "user_tz": 300
    },
    "id": "Nyd_b-HBWCEg",
    "outputId": "9a55d384-a0c8-4003-82ce-a1742e7d3d68"
   },
   "outputs": [
    {
     "data": {
      "text/plain": [
       "np.float64(22.0)"
      ]
     },
     "execution_count": 13,
     "metadata": {},
     "output_type": "execute_result"
    }
   ],
   "source": [
    "np.percentile(valoracion,85)"
   ]
  },
  {
   "cell_type": "markdown",
   "metadata": {
    "id": "E0lU-zVLWNvM"
   },
   "source": [
    "Según la función de percentil, el percentil 75 era 20. Para comprobar que esto es coherente con nuestra nueva definición, apliquemos la definición directamente.\n",
    "\n",
    "En primer lugar, pongamos las puntuaciones en orden creciente:"
   ]
  },
  {
   "cell_type": "code",
   "execution_count": 14,
   "metadata": {},
   "outputs": [
    {
     "data": {
      "text/plain": [
       "array([ 0,  0,  0,  0,  0,  0,  0,  0,  0,  0,  0,  0,  0,  0,  0,  0,  0,\n",
       "        1,  4,  4,  4,  5,  6,  7,  7,  7,  7,  7,  8,  8,  8,  8,  8,  8,\n",
       "        8,  8,  9,  9,  9,  9,  9,  9,  9,  9,  9,  9,  9,  9,  9,  9, 10,\n",
       "       10, 10, 10, 10, 10, 10, 10, 10, 10, 10, 10, 10, 10, 10, 10, 10, 10,\n",
       "       10, 11, 11, 11, 11, 11, 11, 11, 11, 11, 11, 11, 11, 11, 11, 11, 11,\n",
       "       11, 11, 11, 11, 11, 11, 11, 11, 12, 12, 12, 12, 12, 12, 12, 12, 12,\n",
       "       12, 12, 12, 12, 12, 13, 13, 13, 13, 13, 13, 13, 13, 13, 13, 13, 13,\n",
       "       13, 13, 13, 13, 13, 13, 13, 13, 13, 13, 14, 14, 14, 14, 14, 14, 14,\n",
       "       14, 14, 14, 14, 14, 14, 14, 14, 14, 14, 14, 14, 14, 15, 15, 15, 15,\n",
       "       15, 15, 15, 15, 15, 15, 15, 15, 15, 15, 15, 15, 15, 16, 16, 16, 16,\n",
       "       16, 16, 16, 16, 16, 16, 16, 16, 16, 16, 16, 16, 16, 16, 16, 16, 16,\n",
       "       16, 17, 17, 17, 17, 17, 17, 17, 17, 17, 17, 17, 17, 17, 17, 17, 17,\n",
       "       17, 17, 17, 17, 17, 17, 17, 17, 17, 18, 18, 18, 18, 18, 18, 18, 18,\n",
       "       18, 18, 18, 18, 18, 18, 18, 18, 18, 18, 18, 18, 18, 18, 18, 18, 18,\n",
       "       19, 19, 19, 19, 19, 19, 19, 19, 19, 19, 19, 19, 19, 19, 19, 19, 20,\n",
       "       20, 20, 20, 20, 20, 20, 20, 20, 20, 20, 20, 20, 20, 20, 20, 20, 21,\n",
       "       21, 21, 21, 21, 21, 21, 21, 21, 21, 21, 21, 21, 21, 21, 21, 21, 21,\n",
       "       21, 21, 21, 21, 21, 21, 21, 21, 22, 22, 22, 22, 22, 22, 22, 22, 22,\n",
       "       22, 22, 22, 22, 22, 22, 22, 22, 23, 23, 23, 23, 23, 23, 23, 23, 23,\n",
       "       23, 23, 23, 23, 23, 23, 24, 24, 24, 24, 24, 24, 24, 24, 24, 24, 24,\n",
       "       24, 24, 24, 24, 24, 25, 25, 25, 25, 25, 25, 25, 25, 25, 25, 25, 25,\n",
       "       25, 25])"
      ]
     },
     "execution_count": 14,
     "metadata": {},
     "output_type": "execute_result"
    }
   ],
   "source": [
    "valoracion_ordenada = np.sort(valoracion_unidades.iloc[:,1])\n",
    "valoracion_ordenada"
   ]
  },
  {
   "cell_type": "markdown",
   "metadata": {
    "id": "e7I9Iu5qWcFa"
   },
   "source": [
    "Hay 359 puntuaciones en la matriz. Así que a continuación, encuentra el 75% de 359, que es 269,25."
   ]
  },
  {
   "cell_type": "code",
   "execution_count": 15,
   "metadata": {
    "id": "D4WwmoepWbaI"
   },
   "outputs": [
    {
     "data": {
      "text/plain": [
       "269.25"
      ]
     },
     "execution_count": 15,
     "metadata": {},
     "output_type": "execute_result"
    }
   ],
   "source": [
    "0.75*359"
   ]
  },
  {
   "cell_type": "markdown",
   "metadata": {
    "id": "Flyk9XRVWqZO"
   },
   "source": [
    "Eso no es un número entero. Según nuestra definición, el percentil 75 es el elemento 270 de `valoracion_ordenada`, que, según la convención de indexación de Python, es el elemento 269 de la matriz."
   ]
  },
  {
   "cell_type": "code",
   "execution_count": 16,
   "metadata": {
    "colab": {
     "base_uri": "https://localhost:8080/"
    },
    "executionInfo": {
     "elapsed": 670,
     "status": "ok",
     "timestamp": 1619826835267,
     "user": {
      "displayName": "JUAN PABLO HOYOS SANCHEZ",
      "photoUrl": "https://lh3.googleusercontent.com/a-/AOh14Ghdiujk7nkvT3aSSiI2AOJjZCRGNv17LAP8ncls=s64",
      "userId": "13519316655691611120"
     },
     "user_tz": 300
    },
    "id": "VzYJNPUwWl5_",
    "outputId": "ec65c75b-1520-400a-8eab-4a754e1706db"
   },
   "outputs": [
    {
     "data": {
      "text/plain": [
       "np.int64(20)"
      ]
     },
     "execution_count": 16,
     "metadata": {},
     "output_type": "execute_result"
    }
   ],
   "source": [
    "valoracion_ordenada[269]"
   ]
  },
  {
   "cell_type": "markdown",
   "metadata": {
    "id": "PEiEoxuvXE-o"
   },
   "source": [
    "Es la misma respuesta que obtuvimos usando \"percentile\"."
   ]
  },
  {
   "cell_type": "markdown",
   "metadata": {
    "id": "acMfQInHXJXr"
   },
   "source": [
    "## Cuartiles\n",
    "El *primer cuartil* de una colección numérica es el percentil 25. La terminología surge de *el primer cuartil*. El segundo cuartil es la mediana, y el tercer cuartil es el percentil 75.\n",
    "\n",
    "Para nuestros datos de `valoracion', esos valores son:"
   ]
  },
  {
   "cell_type": "code",
   "execution_count": 15,
   "metadata": {
    "colab": {
     "base_uri": "https://localhost:8080/"
    },
    "executionInfo": {
     "elapsed": 677,
     "status": "ok",
     "timestamp": 1619826938401,
     "user": {
      "displayName": "JUAN PABLO HOYOS SANCHEZ",
      "photoUrl": "https://lh3.googleusercontent.com/a-/AOh14Ghdiujk7nkvT3aSSiI2AOJjZCRGNv17LAP8ncls=s64",
      "userId": "13519316655691611120"
     },
     "user_tz": 300
    },
    "id": "G7DeS0AbW50I",
    "outputId": "b55ec295-2212-4424-fe8e-7ba54485dffb"
   },
   "outputs": [
    {
     "data": {
      "text/plain": [
       "11.0"
      ]
     },
     "execution_count": 15,
     "metadata": {
      "tags": []
     },
     "output_type": "execute_result"
    }
   ],
   "source": [
    "np.percentile(valoracion, 25)"
   ]
  },
  {
   "cell_type": "code",
   "execution_count": 16,
   "metadata": {
    "colab": {
     "base_uri": "https://localhost:8080/"
    },
    "executionInfo": {
     "elapsed": 670,
     "status": "ok",
     "timestamp": 1619826945757,
     "user": {
      "displayName": "JUAN PABLO HOYOS SANCHEZ",
      "photoUrl": "https://lh3.googleusercontent.com/a-/AOh14Ghdiujk7nkvT3aSSiI2AOJjZCRGNv17LAP8ncls=s64",
      "userId": "13519316655691611120"
     },
     "user_tz": 300
    },
    "id": "WyShvGCUc3sm",
    "outputId": "262f03ad-a668-49f5-9b00-d5fed0cf4f7f"
   },
   "outputs": [
    {
     "data": {
      "text/plain": [
       "16.0"
      ]
     },
     "execution_count": 16,
     "metadata": {
      "tags": []
     },
     "output_type": "execute_result"
    }
   ],
   "source": [
    "np.percentile(valoracion, 50)"
   ]
  },
  {
   "cell_type": "code",
   "execution_count": 17,
   "metadata": {
    "colab": {
     "base_uri": "https://localhost:8080/"
    },
    "executionInfo": {
     "elapsed": 751,
     "status": "ok",
     "timestamp": 1619826949913,
     "user": {
      "displayName": "JUAN PABLO HOYOS SANCHEZ",
      "photoUrl": "https://lh3.googleusercontent.com/a-/AOh14Ghdiujk7nkvT3aSSiI2AOJjZCRGNv17LAP8ncls=s64",
      "userId": "13519316655691611120"
     },
     "user_tz": 300
    },
    "id": "nbIDtposc55N",
    "outputId": "d1d7913b-e680-473b-9488-07ead851a103"
   },
   "outputs": [
    {
     "data": {
      "text/plain": [
       "20.0"
      ]
     },
     "execution_count": 17,
     "metadata": {
      "tags": []
     },
     "output_type": "execute_result"
    }
   ],
   "source": [
    "np.percentile(valoracion, 75)"
   ]
  },
  {
   "cell_type": "markdown",
   "metadata": {
    "id": "u0VHXmmLc_Kc"
   },
   "source": [
    "Las distribuciones de las puntuaciones se resumen a veces en el intervalo del \"50% medio\", entre el primer y el tercer cuartil. "
   ]
  },
  {
   "cell_type": "markdown",
   "metadata": {},
   "source": [
    "**Ejericios:** \n",
    "Dada la lista `s = [1, 5, 7, 3, 9]`, determinar cuáles de las siguientes afirmaciones son verdaderas:\n",
    "\n",
    "1. `percentile(10, s) == 1`\n",
    "2. `percentile(39, s) == percentile(40, s)`\n",
    "3. `percentile(40, s) == percentile(41, s)`\n",
    "4. `percentile(50, s) == 5`\n"
   ]
  },
  {
   "cell_type": "code",
   "execution_count": 20,
   "metadata": {},
   "outputs": [
    {
     "data": {
      "text/plain": [
       "array([1, 3, 5, 7, 9])"
      ]
     },
     "execution_count": 20,
     "metadata": {},
     "output_type": "execute_result"
    }
   ],
   "source": [
    "s = np.array([1, 5, 7, 3, 9])\n",
    "np.sort(s)\n",
    "\n",
    "np.percentile(s, 10)"
   ]
  },
  {
   "cell_type": "markdown",
   "metadata": {},
   "source": [
    "# Clase 10 - Remuestreo\n",
    "## La idea principal del bootstrap"
   ]
  },
  {
   "cell_type": "code",
   "execution_count": 29,
   "metadata": {},
   "outputs": [
    {
     "data": {
      "text/html": [
       "<div>\n",
       "<style scoped>\n",
       "    .dataframe tbody tr th:only-of-type {\n",
       "        vertical-align: middle;\n",
       "    }\n",
       "\n",
       "    .dataframe tbody tr th {\n",
       "        vertical-align: top;\n",
       "    }\n",
       "\n",
       "    .dataframe thead th {\n",
       "        text-align: right;\n",
       "    }\n",
       "</style>\n",
       "<table border=\"1\" class=\"dataframe\">\n",
       "  <thead>\n",
       "    <tr style=\"text-align: right;\">\n",
       "      <th></th>\n",
       "      <th>Fecha</th>\n",
       "      <th>Codigo_Entidad</th>\n",
       "      <th>Nombre_Entidad</th>\n",
       "      <th>Codigo_Patrimonio</th>\n",
       "      <th>Nombre_Fondo</th>\n",
       "      <th>Valor Unidad</th>\n",
       "    </tr>\n",
       "  </thead>\n",
       "  <tbody>\n",
       "    <tr>\n",
       "      <th>0</th>\n",
       "      <td>01/03/1999</td>\n",
       "      <td>1</td>\n",
       "      <td>Pensiones Y Cesantias Colpatria</td>\n",
       "      <td>1</td>\n",
       "      <td>Fondo de Cesantias Largo Plazo</td>\n",
       "      <td>5284.01</td>\n",
       "    </tr>\n",
       "    <tr>\n",
       "      <th>1</th>\n",
       "      <td>01/03/1999</td>\n",
       "      <td>1</td>\n",
       "      <td>Pensiones Y Cesantias Colpatria</td>\n",
       "      <td>1000</td>\n",
       "      <td>Fondo de Pensiones Moderado</td>\n",
       "      <td>4229.12</td>\n",
       "    </tr>\n",
       "    <tr>\n",
       "      <th>2</th>\n",
       "      <td>01/03/1999</td>\n",
       "      <td>2</td>\n",
       "      <td>Proteccion</td>\n",
       "      <td>1</td>\n",
       "      <td>Fondo de Cesantias Largo Plazo</td>\n",
       "      <td>5430.72</td>\n",
       "    </tr>\n",
       "    <tr>\n",
       "      <th>3</th>\n",
       "      <td>01/03/1999</td>\n",
       "      <td>2</td>\n",
       "      <td>Proteccion</td>\n",
       "      <td>1000</td>\n",
       "      <td>Fondo de Pensiones Moderado</td>\n",
       "      <td>4013.23</td>\n",
       "    </tr>\n",
       "    <tr>\n",
       "      <th>4</th>\n",
       "      <td>01/03/1999</td>\n",
       "      <td>3</td>\n",
       "      <td>Porvenir</td>\n",
       "      <td>1</td>\n",
       "      <td>Fondo de Cesantias Largo Plazo</td>\n",
       "      <td>5869.09</td>\n",
       "    </tr>\n",
       "    <tr>\n",
       "      <th>...</th>\n",
       "      <td>...</td>\n",
       "      <td>...</td>\n",
       "      <td>...</td>\n",
       "      <td>...</td>\n",
       "      <td>...</td>\n",
       "      <td>...</td>\n",
       "    </tr>\n",
       "    <tr>\n",
       "      <th>159845</th>\n",
       "      <td>25/04/2021</td>\n",
       "      <td>10</td>\n",
       "      <td>Colfondos S.A. Pensiones Y Cesantias</td>\n",
       "      <td>2</td>\n",
       "      <td>Fondo de Cesantias Corto Plazo</td>\n",
       "      <td>27062.41</td>\n",
       "    </tr>\n",
       "    <tr>\n",
       "      <th>159846</th>\n",
       "      <td>25/04/2021</td>\n",
       "      <td>10</td>\n",
       "      <td>Colfondos S.A. Pensiones Y Cesantias</td>\n",
       "      <td>1000</td>\n",
       "      <td>Fondo de Pensiones Moderado</td>\n",
       "      <td>49775.25</td>\n",
       "    </tr>\n",
       "    <tr>\n",
       "      <th>159847</th>\n",
       "      <td>25/04/2021</td>\n",
       "      <td>10</td>\n",
       "      <td>Colfondos S.A. Pensiones Y Cesantias</td>\n",
       "      <td>5000</td>\n",
       "      <td>Fondo de Pensiones Conservador</td>\n",
       "      <td>49220.50</td>\n",
       "    </tr>\n",
       "    <tr>\n",
       "      <th>159848</th>\n",
       "      <td>25/04/2021</td>\n",
       "      <td>10</td>\n",
       "      <td>Colfondos S.A. Pensiones Y Cesantias</td>\n",
       "      <td>6000</td>\n",
       "      <td>Fondo de Pensiones Mayor Riesgo</td>\n",
       "      <td>57994.17</td>\n",
       "    </tr>\n",
       "    <tr>\n",
       "      <th>159849</th>\n",
       "      <td>25/04/2021</td>\n",
       "      <td>10</td>\n",
       "      <td>Colfondos S.A. Pensiones Y Cesantias</td>\n",
       "      <td>7000</td>\n",
       "      <td>Fondo de Pensiones Retiro Programado</td>\n",
       "      <td>51175.89</td>\n",
       "    </tr>\n",
       "  </tbody>\n",
       "</table>\n",
       "<p>159850 rows × 6 columns</p>\n",
       "</div>"
      ],
      "text/plain": [
       "             Fecha  Codigo_Entidad                        Nombre_Entidad  \\\n",
       "0       01/03/1999               1       Pensiones Y Cesantias Colpatria   \n",
       "1       01/03/1999               1       Pensiones Y Cesantias Colpatria   \n",
       "2       01/03/1999               2                            Proteccion   \n",
       "3       01/03/1999               2                            Proteccion   \n",
       "4       01/03/1999               3                              Porvenir   \n",
       "...            ...             ...                                   ...   \n",
       "159845  25/04/2021              10  Colfondos S.A. Pensiones Y Cesantias   \n",
       "159846  25/04/2021              10  Colfondos S.A. Pensiones Y Cesantias   \n",
       "159847  25/04/2021              10  Colfondos S.A. Pensiones Y Cesantias   \n",
       "159848  25/04/2021              10  Colfondos S.A. Pensiones Y Cesantias   \n",
       "159849  25/04/2021              10  Colfondos S.A. Pensiones Y Cesantias   \n",
       "\n",
       "        Codigo_Patrimonio                          Nombre_Fondo  Valor Unidad  \n",
       "0                       1        Fondo de Cesantias Largo Plazo       5284.01  \n",
       "1                    1000           Fondo de Pensiones Moderado       4229.12  \n",
       "2                       1        Fondo de Cesantias Largo Plazo       5430.72  \n",
       "3                    1000           Fondo de Pensiones Moderado       4013.23  \n",
       "4                       1        Fondo de Cesantias Largo Plazo       5869.09  \n",
       "...                   ...                                   ...           ...  \n",
       "159845                  2        Fondo de Cesantias Corto Plazo      27062.41  \n",
       "159846               1000           Fondo de Pensiones Moderado      49775.25  \n",
       "159847               5000        Fondo de Pensiones Conservador      49220.50  \n",
       "159848               6000       Fondo de Pensiones Mayor Riesgo      57994.17  \n",
       "159849               7000  Fondo de Pensiones Retiro Programado      51175.89  \n",
       "\n",
       "[159850 rows x 6 columns]"
      ]
     },
     "execution_count": 29,
     "metadata": {},
     "output_type": "execute_result"
    }
   ],
   "source": [
    "import pandas as pd\n",
    "import numpy as np\n",
    "\n",
    "pensiones = pd.read_csv('https://raw.githubusercontent.com/jphoyos/fup/main/data/pension_cesantias_COL.csv')\n",
    "pensiones"
   ]
  },
  {
   "cell_type": "code",
   "execution_count": 31,
   "metadata": {},
   "outputs": [
    {
     "data": {
      "text/html": [
       "<div>\n",
       "<style scoped>\n",
       "    .dataframe tbody tr th:only-of-type {\n",
       "        vertical-align: middle;\n",
       "    }\n",
       "\n",
       "    .dataframe tbody tr th {\n",
       "        vertical-align: top;\n",
       "    }\n",
       "\n",
       "    .dataframe thead th {\n",
       "        text-align: right;\n",
       "    }\n",
       "</style>\n",
       "<table border=\"1\" class=\"dataframe\">\n",
       "  <thead>\n",
       "    <tr style=\"text-align: right;\">\n",
       "      <th></th>\n",
       "      <th>Nombre_Entidad</th>\n",
       "      <th>Valor Unidad</th>\n",
       "    </tr>\n",
       "  </thead>\n",
       "  <tbody>\n",
       "    <tr>\n",
       "      <th>0</th>\n",
       "      <td>Pensiones Y Cesantias Colpatria</td>\n",
       "      <td>5284.01</td>\n",
       "    </tr>\n",
       "    <tr>\n",
       "      <th>1</th>\n",
       "      <td>Pensiones Y Cesantias Colpatria</td>\n",
       "      <td>4229.12</td>\n",
       "    </tr>\n",
       "    <tr>\n",
       "      <th>2</th>\n",
       "      <td>Proteccion</td>\n",
       "      <td>5430.72</td>\n",
       "    </tr>\n",
       "    <tr>\n",
       "      <th>3</th>\n",
       "      <td>Proteccion</td>\n",
       "      <td>4013.23</td>\n",
       "    </tr>\n",
       "    <tr>\n",
       "      <th>4</th>\n",
       "      <td>Porvenir</td>\n",
       "      <td>5869.09</td>\n",
       "    </tr>\n",
       "    <tr>\n",
       "      <th>...</th>\n",
       "      <td>...</td>\n",
       "      <td>...</td>\n",
       "    </tr>\n",
       "    <tr>\n",
       "      <th>159845</th>\n",
       "      <td>Colfondos S.A. Pensiones Y Cesantias</td>\n",
       "      <td>27062.41</td>\n",
       "    </tr>\n",
       "    <tr>\n",
       "      <th>159846</th>\n",
       "      <td>Colfondos S.A. Pensiones Y Cesantias</td>\n",
       "      <td>49775.25</td>\n",
       "    </tr>\n",
       "    <tr>\n",
       "      <th>159847</th>\n",
       "      <td>Colfondos S.A. Pensiones Y Cesantias</td>\n",
       "      <td>49220.50</td>\n",
       "    </tr>\n",
       "    <tr>\n",
       "      <th>159848</th>\n",
       "      <td>Colfondos S.A. Pensiones Y Cesantias</td>\n",
       "      <td>57994.17</td>\n",
       "    </tr>\n",
       "    <tr>\n",
       "      <th>159849</th>\n",
       "      <td>Colfondos S.A. Pensiones Y Cesantias</td>\n",
       "      <td>51175.89</td>\n",
       "    </tr>\n",
       "  </tbody>\n",
       "</table>\n",
       "<p>159850 rows × 2 columns</p>\n",
       "</div>"
      ],
      "text/plain": [
       "                              Nombre_Entidad  Valor Unidad\n",
       "0            Pensiones Y Cesantias Colpatria       5284.01\n",
       "1            Pensiones Y Cesantias Colpatria       4229.12\n",
       "2                                 Proteccion       5430.72\n",
       "3                                 Proteccion       4013.23\n",
       "4                                   Porvenir       5869.09\n",
       "...                                      ...           ...\n",
       "159845  Colfondos S.A. Pensiones Y Cesantias      27062.41\n",
       "159846  Colfondos S.A. Pensiones Y Cesantias      49775.25\n",
       "159847  Colfondos S.A. Pensiones Y Cesantias      49220.50\n",
       "159848  Colfondos S.A. Pensiones Y Cesantias      57994.17\n",
       "159849  Colfondos S.A. Pensiones Y Cesantias      51175.89\n",
       "\n",
       "[159850 rows x 2 columns]"
      ]
     },
     "execution_count": 31,
     "metadata": {},
     "output_type": "execute_result"
    }
   ],
   "source": [
    "ps = pensiones[['Nombre_Entidad', 'Valor Unidad']]\n",
    "ps"
   ]
  },
  {
   "cell_type": "code",
   "execution_count": 33,
   "metadata": {},
   "outputs": [
    {
     "data": {
      "text/html": [
       "<div>\n",
       "<style scoped>\n",
       "    .dataframe tbody tr th:only-of-type {\n",
       "        vertical-align: middle;\n",
       "    }\n",
       "\n",
       "    .dataframe tbody tr th {\n",
       "        vertical-align: top;\n",
       "    }\n",
       "\n",
       "    .dataframe thead th {\n",
       "        text-align: right;\n",
       "    }\n",
       "</style>\n",
       "<table border=\"1\" class=\"dataframe\">\n",
       "  <thead>\n",
       "    <tr style=\"text-align: right;\">\n",
       "      <th></th>\n",
       "      <th>Nombre_Entidad</th>\n",
       "      <th>Valor Unidad</th>\n",
       "    </tr>\n",
       "  </thead>\n",
       "  <tbody>\n",
       "    <tr>\n",
       "      <th>157580</th>\n",
       "      <td>Proteccion</td>\n",
       "      <td>64227.09</td>\n",
       "    </tr>\n",
       "    <tr>\n",
       "      <th>157605</th>\n",
       "      <td>Proteccion</td>\n",
       "      <td>64169.90</td>\n",
       "    </tr>\n",
       "    <tr>\n",
       "      <th>158105</th>\n",
       "      <td>Proteccion</td>\n",
       "      <td>64157.01</td>\n",
       "    </tr>\n",
       "    <tr>\n",
       "      <th>158080</th>\n",
       "      <td>Proteccion</td>\n",
       "      <td>64080.54</td>\n",
       "    </tr>\n",
       "    <tr>\n",
       "      <th>158055</th>\n",
       "      <td>Proteccion</td>\n",
       "      <td>64071.64</td>\n",
       "    </tr>\n",
       "  </tbody>\n",
       "</table>\n",
       "</div>"
      ],
      "text/plain": [
       "       Nombre_Entidad  Valor Unidad\n",
       "157580     Proteccion      64227.09\n",
       "157605     Proteccion      64169.90\n",
       "158105     Proteccion      64157.01\n",
       "158080     Proteccion      64080.54\n",
       "158055     Proteccion      64071.64"
      ]
     },
     "execution_count": 33,
     "metadata": {},
     "output_type": "execute_result"
    }
   ],
   "source": [
    "#5 primeros con mayor pension\n",
    "np.sort(pensiones['Valor Unidad'])\n",
    "ps.sort_values(by='Valor Unidad', ascending=False).head(5)\n"
   ]
  },
  {
   "cell_type": "code",
   "execution_count": 34,
   "metadata": {},
   "outputs": [
    {
     "data": {
      "text/plain": [
       "np.float64(64227.09)"
      ]
     },
     "execution_count": 34,
     "metadata": {},
     "output_type": "execute_result"
    }
   ],
   "source": [
    "uni_max = ps['Valor Unidad'].max()\n",
    "uni_max"
   ]
  },
  {
   "cell_type": "code",
   "execution_count": 35,
   "metadata": {},
   "outputs": [
    {
     "data": {
      "text/plain": [
       "np.float64(1872.6)"
      ]
     },
     "execution_count": 35,
     "metadata": {},
     "output_type": "execute_result"
    }
   ],
   "source": [
    "uni_min = ps['Valor Unidad'].min()\n",
    "uni_min"
   ]
  },
  {
   "cell_type": "code",
   "execution_count": 46,
   "metadata": {},
   "outputs": [
    {
     "data": {
      "text/plain": [
       "Text(0.5, 1.0, 'Histograma de Pensiones')"
      ]
     },
     "execution_count": 46,
     "metadata": {},
     "output_type": "execute_result"
    },
    {
     "data": {
      "image/png": "[encoded data removed]",
      "text/plain": [
       "<Figure size 640x480 with 1 Axes>"
      ]
     },
     "metadata": {},
     "output_type": "display_data"
    }
   ],
   "source": [
    "intervalos = np.arange(1800, 65000, 8000)\n",
    "\n",
    "histograma = ps['Valor Unidad'].hist(bins=intervalos, color=\"#DC954A\", edgecolor='black')\n",
    "histograma.set_title('Histograma de Pensiones')\n"
   ]
  },
  {
   "cell_type": "code",
   "execution_count": 49,
   "metadata": {},
   "outputs": [
    {
     "data": {
      "text/plain": [
       "np.float64(24072.9)"
      ]
     },
     "execution_count": 49,
     "metadata": {},
     "output_type": "execute_result"
    }
   ],
   "source": [
    "ps_mediana = np.percentile(ps['Valor Unidad'], 50)\n",
    "ps_mediana"
   ]
  },
  {
   "cell_type": "markdown",
   "metadata": {},
   "source": [
    "### Muestra sin reemplazo"
   ]
  },
  {
   "cell_type": "code",
   "execution_count": 58,
   "metadata": {},
   "outputs": [
    {
     "data": {
      "text/html": [
       "<div>\n",
       "<style scoped>\n",
       "    .dataframe tbody tr th:only-of-type {\n",
       "        vertical-align: middle;\n",
       "    }\n",
       "\n",
       "    .dataframe tbody tr th {\n",
       "        vertical-align: top;\n",
       "    }\n",
       "\n",
       "    .dataframe thead th {\n",
       "        text-align: right;\n",
       "    }\n",
       "</style>\n",
       "<table border=\"1\" class=\"dataframe\">\n",
       "  <thead>\n",
       "    <tr style=\"text-align: right;\">\n",
       "      <th></th>\n",
       "      <th>Nombre_Entidad</th>\n",
       "      <th>Valor Unidad</th>\n",
       "    </tr>\n",
       "  </thead>\n",
       "  <tbody>\n",
       "    <tr>\n",
       "      <th>50086</th>\n",
       "      <td>Afp Horizonte Sociedad Administradora De Fondo...</td>\n",
       "      <td>17473.33</td>\n",
       "    </tr>\n",
       "    <tr>\n",
       "      <th>128158</th>\n",
       "      <td>Porvenir</td>\n",
       "      <td>42848.12</td>\n",
       "    </tr>\n",
       "    <tr>\n",
       "      <th>154747</th>\n",
       "      <td>Colfondos S.A. Pensiones Y Cesantias</td>\n",
       "      <td>48147.50</td>\n",
       "    </tr>\n",
       "    <tr>\n",
       "      <th>12890</th>\n",
       "      <td>Skandia Pensiones Y Cesantías S.A.</td>\n",
       "      <td>8824.62</td>\n",
       "    </tr>\n",
       "    <tr>\n",
       "      <th>136390</th>\n",
       "      <td>Skandia Pensiones Y Cesantías S.A.</td>\n",
       "      <td>35013.75</td>\n",
       "    </tr>\n",
       "    <tr>\n",
       "      <th>...</th>\n",
       "      <td>...</td>\n",
       "      <td>...</td>\n",
       "    </tr>\n",
       "    <tr>\n",
       "      <th>129832</th>\n",
       "      <td>Porvenir</td>\n",
       "      <td>30325.35</td>\n",
       "    </tr>\n",
       "    <tr>\n",
       "      <th>24297</th>\n",
       "      <td>Colfondos S.A. Pensiones Y Cesantias</td>\n",
       "      <td>9375.43</td>\n",
       "    </tr>\n",
       "    <tr>\n",
       "      <th>48148</th>\n",
       "      <td>Ing Pensiones Y Cesantias</td>\n",
       "      <td>16995.52</td>\n",
       "    </tr>\n",
       "    <tr>\n",
       "      <th>114156</th>\n",
       "      <td>Porvenir</td>\n",
       "      <td>28307.80</td>\n",
       "    </tr>\n",
       "    <tr>\n",
       "      <th>41189</th>\n",
       "      <td>Ing Pensiones Y Cesantias</td>\n",
       "      <td>14133.72</td>\n",
       "    </tr>\n",
       "  </tbody>\n",
       "</table>\n",
       "<p>500 rows × 2 columns</p>\n",
       "</div>"
      ],
      "text/plain": [
       "                                           Nombre_Entidad  Valor Unidad\n",
       "50086   Afp Horizonte Sociedad Administradora De Fondo...      17473.33\n",
       "128158                                           Porvenir      42848.12\n",
       "154747               Colfondos S.A. Pensiones Y Cesantias      48147.50\n",
       "12890                  Skandia Pensiones Y Cesantías S.A.       8824.62\n",
       "136390                 Skandia Pensiones Y Cesantías S.A.      35013.75\n",
       "...                                                   ...           ...\n",
       "129832                                           Porvenir      30325.35\n",
       "24297                Colfondos S.A. Pensiones Y Cesantias       9375.43\n",
       "48148                           Ing Pensiones Y Cesantias      16995.52\n",
       "114156                                           Porvenir      28307.80\n",
       "41189                           Ing Pensiones Y Cesantias      14133.72\n",
       "\n",
       "[500 rows x 2 columns]"
      ]
     },
     "execution_count": 58,
     "metadata": {},
     "output_type": "execute_result"
    }
   ],
   "source": [
    "muestra = ps.sample(n=500)\n",
    "muestra"
   ]
  },
  {
   "cell_type": "code",
   "execution_count": 59,
   "metadata": {},
   "outputs": [
    {
     "data": {
      "image/png": "[encoded data removed]",
      "text/plain": [
       "<Figure size 640x480 with 1 Axes>"
      ]
     },
     "metadata": {},
     "output_type": "display_data"
    }
   ],
   "source": [
    "intervalos = np.arange(1800, 65000, 8000)\n",
    "\n",
    "histograma_muestra = muestra['Valor Unidad'].hist(bins=intervalos, color=\"#4AABDC\", edgecolor='black')\n"
   ]
  },
  {
   "cell_type": "code",
   "execution_count": 60,
   "metadata": {},
   "outputs": [
    {
     "data": {
      "text/plain": [
       "np.float64(24254.075)"
      ]
     },
     "execution_count": 60,
     "metadata": {},
     "output_type": "execute_result"
    }
   ],
   "source": [
    "muestra_mediana = np.percentile(muestra['Valor Unidad'], 50)\n",
    "muestra_mediana"
   ]
  },
  {
   "cell_type": "markdown",
   "metadata": {},
   "source": [
    "### Remuestra de la muestra"
   ]
  },
  {
   "cell_type": "code",
   "execution_count": 61,
   "metadata": {},
   "outputs": [
    {
     "data": {
      "text/html": [
       "<div>\n",
       "<style scoped>\n",
       "    .dataframe tbody tr th:only-of-type {\n",
       "        vertical-align: middle;\n",
       "    }\n",
       "\n",
       "    .dataframe tbody tr th {\n",
       "        vertical-align: top;\n",
       "    }\n",
       "\n",
       "    .dataframe thead th {\n",
       "        text-align: right;\n",
       "    }\n",
       "</style>\n",
       "<table border=\"1\" class=\"dataframe\">\n",
       "  <thead>\n",
       "    <tr style=\"text-align: right;\">\n",
       "      <th></th>\n",
       "      <th>Nombre_Entidad</th>\n",
       "      <th>Valor Unidad</th>\n",
       "    </tr>\n",
       "  </thead>\n",
       "  <tbody>\n",
       "    <tr>\n",
       "      <th>45477</th>\n",
       "      <td>Colfondos S.A. Pensiones Y Cesantias</td>\n",
       "      <td>15699.10</td>\n",
       "    </tr>\n",
       "    <tr>\n",
       "      <th>143279</th>\n",
       "      <td>Proteccion</td>\n",
       "      <td>52997.05</td>\n",
       "    </tr>\n",
       "    <tr>\n",
       "      <th>6286</th>\n",
       "      <td>Colfondos S.A. Pensiones Y Cesantias</td>\n",
       "      <td>6432.29</td>\n",
       "    </tr>\n",
       "    <tr>\n",
       "      <th>20665</th>\n",
       "      <td>Ing Pensiones Y Cesantias</td>\n",
       "      <td>8515.09</td>\n",
       "    </tr>\n",
       "    <tr>\n",
       "      <th>41912</th>\n",
       "      <td>Colfondos S.A. Pensiones Y Cesantias</td>\n",
       "      <td>13770.28</td>\n",
       "    </tr>\n",
       "    <tr>\n",
       "      <th>...</th>\n",
       "      <td>...</td>\n",
       "      <td>...</td>\n",
       "    </tr>\n",
       "    <tr>\n",
       "      <th>124139</th>\n",
       "      <td>Skandia Pensiones Y Cesantías S.A.</td>\n",
       "      <td>32738.16</td>\n",
       "    </tr>\n",
       "    <tr>\n",
       "      <th>4862</th>\n",
       "      <td>Colfondos S.A. Pensiones Y Cesantias</td>\n",
       "      <td>6223.71</td>\n",
       "    </tr>\n",
       "    <tr>\n",
       "      <th>144558</th>\n",
       "      <td>Porvenir</td>\n",
       "      <td>48713.19</td>\n",
       "    </tr>\n",
       "    <tr>\n",
       "      <th>68779</th>\n",
       "      <td>Colfondos S.A. Pensiones Y Cesantias</td>\n",
       "      <td>19688.30</td>\n",
       "    </tr>\n",
       "    <tr>\n",
       "      <th>54846</th>\n",
       "      <td>Ing Pensiones Y Cesantias</td>\n",
       "      <td>18602.74</td>\n",
       "    </tr>\n",
       "  </tbody>\n",
       "</table>\n",
       "<p>500 rows × 2 columns</p>\n",
       "</div>"
      ],
      "text/plain": [
       "                              Nombre_Entidad  Valor Unidad\n",
       "45477   Colfondos S.A. Pensiones Y Cesantias      15699.10\n",
       "143279                            Proteccion      52997.05\n",
       "6286    Colfondos S.A. Pensiones Y Cesantias       6432.29\n",
       "20665              Ing Pensiones Y Cesantias       8515.09\n",
       "41912   Colfondos S.A. Pensiones Y Cesantias      13770.28\n",
       "...                                      ...           ...\n",
       "124139    Skandia Pensiones Y Cesantías S.A.      32738.16\n",
       "4862    Colfondos S.A. Pensiones Y Cesantias       6223.71\n",
       "144558                              Porvenir      48713.19\n",
       "68779   Colfondos S.A. Pensiones Y Cesantias      19688.30\n",
       "54846              Ing Pensiones Y Cesantias      18602.74\n",
       "\n",
       "[500 rows x 2 columns]"
      ]
     },
     "execution_count": 61,
     "metadata": {},
     "output_type": "execute_result"
    }
   ],
   "source": [
    "remuestra1 = muestra.sample(n= muestra.shape[0])\n",
    "remuestra1"
   ]
  }
 ],
 "metadata": {
  "colab": {
   "authorship_tag": "ABX9TyOCAOnz6G7I04ESkv3ZPkFA",
   "name": "Clase4-Percentiles.ipynb",
   "provenance": []
  },
  "kernelspec": {
   "display_name": "Python 3",
   "language": "python",
   "name": "python3"
  },
  "language_info": {
   "codemirror_mode": {
    "name": "ipython",
    "version": 3
   },
   "file_extension": ".py",
   "mimetype": "text/x-python",
   "name": "python",
   "nbconvert_exporter": "python",
   "pygments_lexer": "ipython3",
   "version": "3.11.0"
  }
 },
 "nbformat": 4,
 "nbformat_minor": 0
}
