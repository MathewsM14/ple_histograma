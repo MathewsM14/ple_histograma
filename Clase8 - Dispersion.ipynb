{
 "cells": [
  {
   "cell_type": "code",
   "execution_count": 2,
   "id": "46bb0286",
   "metadata": {},
   "outputs": [],
   "source": [
    "import matplotlib.pyplot as plot\n",
    "import numpy as np\n",
    "import pandas as pd\n",
    "\n",
    "numeros = np.array([1, 2, 2, 10])"
   ]
  },
  {
   "cell_type": "code",
   "execution_count": 4,
   "id": "24d2d74c",
   "metadata": {},
   "outputs": [
    {
     "data": {
      "text/plain": [
       "np.float64(3.75)"
      ]
     },
     "execution_count": 4,
     "metadata": {},
     "output_type": "execute_result"
    }
   ],
   "source": [
    "media = np.mean(numeros)\n",
    "media"
   ]
  },
  {
   "cell_type": "code",
   "execution_count": 9,
   "id": "bc00a498",
   "metadata": {},
   "outputs": [
    {
     "data": {
      "text/html": [
       "<div>\n",
       "<style scoped>\n",
       "    .dataframe tbody tr th:only-of-type {\n",
       "        vertical-align: middle;\n",
       "    }\n",
       "\n",
       "    .dataframe tbody tr th {\n",
       "        vertical-align: top;\n",
       "    }\n",
       "\n",
       "    .dataframe thead th {\n",
       "        text-align: right;\n",
       "    }\n",
       "</style>\n",
       "<table border=\"1\" class=\"dataframe\">\n",
       "  <thead>\n",
       "    <tr style=\"text-align: right;\">\n",
       "      <th></th>\n",
       "      <th>Valor</th>\n",
       "      <th>Desviacion desde el promedio</th>\n",
       "    </tr>\n",
       "  </thead>\n",
       "  <tbody>\n",
       "    <tr>\n",
       "      <th>0</th>\n",
       "      <td>1</td>\n",
       "      <td>-2.75</td>\n",
       "    </tr>\n",
       "    <tr>\n",
       "      <th>1</th>\n",
       "      <td>2</td>\n",
       "      <td>-1.75</td>\n",
       "    </tr>\n",
       "    <tr>\n",
       "      <th>2</th>\n",
       "      <td>2</td>\n",
       "      <td>-1.75</td>\n",
       "    </tr>\n",
       "    <tr>\n",
       "      <th>3</th>\n",
       "      <td>10</td>\n",
       "      <td>6.25</td>\n",
       "    </tr>\n",
       "  </tbody>\n",
       "</table>\n",
       "</div>"
      ],
      "text/plain": [
       "   Valor  Desviacion desde el promedio\n",
       "0      1                         -2.75\n",
       "1      2                         -1.75\n",
       "2      2                         -1.75\n",
       "3     10                          6.25"
      ]
     },
     "execution_count": 9,
     "metadata": {},
     "output_type": "execute_result"
    }
   ],
   "source": [
    "# las desviaciones desde la media\n",
    "\n",
    "desviaciones = numeros - media\n",
    "estimaciones = pd.DataFrame({\n",
    "    'Valor': numeros,\n",
    "    'Desviacion desde el promedio': desviaciones\n",
    "})\n",
    "    \n",
    "estimaciones\n"
   ]
  },
  {
   "cell_type": "code",
   "execution_count": 14,
   "id": "d0cfcf03",
   "metadata": {},
   "outputs": [
    {
     "data": {
      "text/html": [
       "<div>\n",
       "<style scoped>\n",
       "    .dataframe tbody tr th:only-of-type {\n",
       "        vertical-align: middle;\n",
       "    }\n",
       "\n",
       "    .dataframe tbody tr th {\n",
       "        vertical-align: top;\n",
       "    }\n",
       "\n",
       "    .dataframe thead th {\n",
       "        text-align: right;\n",
       "    }\n",
       "</style>\n",
       "<table border=\"1\" class=\"dataframe\">\n",
       "  <thead>\n",
       "    <tr style=\"text-align: right;\">\n",
       "      <th></th>\n",
       "      <th>Valor</th>\n",
       "      <th>Desviacion desde el promedio</th>\n",
       "      <th>desviaciones cuadradas</th>\n",
       "      <th>desviaciones valor absoluto</th>\n",
       "    </tr>\n",
       "  </thead>\n",
       "  <tbody>\n",
       "    <tr>\n",
       "      <th>0</th>\n",
       "      <td>1</td>\n",
       "      <td>-2.75</td>\n",
       "      <td>7.5625</td>\n",
       "      <td>2.75</td>\n",
       "    </tr>\n",
       "    <tr>\n",
       "      <th>1</th>\n",
       "      <td>2</td>\n",
       "      <td>-1.75</td>\n",
       "      <td>3.0625</td>\n",
       "      <td>1.75</td>\n",
       "    </tr>\n",
       "    <tr>\n",
       "      <th>2</th>\n",
       "      <td>2</td>\n",
       "      <td>-1.75</td>\n",
       "      <td>3.0625</td>\n",
       "      <td>1.75</td>\n",
       "    </tr>\n",
       "    <tr>\n",
       "      <th>3</th>\n",
       "      <td>10</td>\n",
       "      <td>6.25</td>\n",
       "      <td>39.0625</td>\n",
       "      <td>6.25</td>\n",
       "    </tr>\n",
       "  </tbody>\n",
       "</table>\n",
       "</div>"
      ],
      "text/plain": [
       "   Valor  Desviacion desde el promedio  desviaciones cuadradas  \\\n",
       "0      1                         -2.75                  7.5625   \n",
       "1      2                         -1.75                  3.0625   \n",
       "2      2                         -1.75                  3.0625   \n",
       "3     10                          6.25                 39.0625   \n",
       "\n",
       "   desviaciones valor absoluto  \n",
       "0                         2.75  \n",
       "1                         1.75  \n",
       "2                         1.75  \n",
       "3                         6.25  "
      ]
     },
     "execution_count": 14,
     "metadata": {},
     "output_type": "execute_result"
    }
   ],
   "source": [
    "desviaciones = numeros - media\n",
    "desviaciones_cuadradas = desviaciones**2\n",
    "desviacion_abs = abs(desviaciones)\n",
    "\n",
    "estimaciones = pd.DataFrame({\n",
    "    'Valor': numeros,\n",
    "    'Desviacion desde el promedio': desviaciones,\n",
    "    'desviaciones cuadradas': desviaciones_cuadradas,\n",
    "    'desviaciones valor absoluto' : desviacion_abs\n",
    "})\n",
    "    \n",
    "estimaciones"
   ]
  },
  {
   "cell_type": "code",
   "execution_count": null,
   "id": "d5c3362f",
   "metadata": {},
   "outputs": [
    {
     "data": {
      "text/plain": [
       "np.float64(12.5)"
      ]
     },
     "execution_count": 15,
     "metadata": {},
     "output_type": "execute_result"
    }
   ],
   "source": [
    "# varianza: la desviacion media al cuadrado"
   ]
  }
 ],
 "metadata": {
  "kernelspec": {
   "display_name": "Python 3",
   "language": "python",
   "name": "python3"
  },
  "language_info": {
   "codemirror_mode": {
    "name": "ipython",
    "version": 3
   },
   "file_extension": ".py",
   "mimetype": "text/x-python",
   "name": "python",
   "nbconvert_exporter": "python",
   "pygments_lexer": "ipython3",
   "version": "3.11.0"
  }
 },
 "nbformat": 4,
 "nbformat_minor": 5
}
